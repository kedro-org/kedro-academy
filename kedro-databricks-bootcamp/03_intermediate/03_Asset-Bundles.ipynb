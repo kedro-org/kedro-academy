{
 "cells": [
  {
   "metadata": {},
   "cell_type": "markdown",
   "source": [
    "# Databricks Asset Bundles to deploy a Kedro project\n",
    "\n",
    "\n",
    "Deploying Kedro pipelines to Databricks using asset bundles offers a streamlined way to productionise data workflows. Asset bundles package your Kedro project—including code, dependencies, and configuration—into a self-contained artifact that can be uploaded and executed on Databricks. This approach simplifies deployment by separating development from execution, ensuring reproducibility and minimizing setup overhead. Once the asset bundle is built, it can be run as a Databricks job, making it easier to schedule and monitor pipelines in a scalable cloud environment.\n"
   ],
   "id": "a3673467c4c85bb9"
  },
  {
   "metadata": {},
   "cell_type": "markdown",
   "source": [
    "## kedro-databricks\n",
    "\n",
    "`kedro-databricks` is a Kedro plugin to develop Kedro pipelines for Databricks. The plugin provides three main features:\n",
    "\n",
    "1. Initialisation: Transform your local Kedro project into a Databricks Asset Bundle project with a single command.\n",
    "2. Generation: Generate Asset Bundle resources definition with a single command.\n",
    "3. Deployment: Deploy your Kedro project to Databricks with a single command.\n",
    "\n",
    "This online tutorial demonstrates https://www.youtube.com/watch?v=9ZttTN6zDM0 how to plugin works."
   ],
   "id": "776dc33229266155"
  },
  {
   "metadata": {},
   "cell_type": "markdown",
   "source": [
    "## Install kedro-databricks\n",
    "\n",
    "To install the plugin, simply run:\n",
    "\n",
    "```bash\n",
    "pip install kedro-databricks\n",
    "```\n",
    "Now you can use the plugin to develop Kedro pipelines for Databricks.\n",
    "\n"
   ],
   "id": "c8ff9fe6a789b1ed"
  },
  {
   "metadata": {},
   "cell_type": "markdown",
   "source": [
    "## How to get started\n",
    "\n",
    "### Prerequisites:\n",
    "\n",
    "Before you begin, ensure that the Databricks CLI is installed and configured. For more information on installation and configuration, please refer to the [Databricks CLI documentation](https://docs.databricks.com/dev-tools/cli/index.html).\n",
    "\n",
    "- [Installation Help](https://docs.databricks.com/en/dev-tools/cli/install.html)\n",
    "- [Configuration Help](https://docs.databricks.com/en/dev-tools/cli/authentication.html)"
   ],
   "id": "2672b4b6df0056b2"
  },
  {
   "metadata": {},
   "cell_type": "markdown",
   "source": [
    "Now you can initialise the Databricks asset bundle\n",
    "\n",
    "```bash\n",
    "kedro databricks init\n",
    "```\n",
    "\n",
    "Next, generate the Asset Bundle resources definition:\n",
    "\n",
    "```bash\n",
    "kedro databricks bundle\n",
    "```\n",
    "\n",
    "Finally, deploy the Kedro project to Databricks:\n",
    "\n",
    "```bash\n",
    "kedro databricks deploy\n",
    "```\n",
    "\n",
    "That's it! Your pipelines have now been deployed as a workflow to Databricks as `[dev <user>] <project_name>`. Try running the workflow to see the results."
   ],
   "id": "d265a13e17f767f0"
  },
  {
   "metadata": {},
   "cell_type": "markdown",
   "source": [
    "## Commands\n",
    "\n",
    "### `kedro databricks init`\n",
    "\n",
    "To initialize a Kedro project for Databricks, run:\n",
    "\n",
    "```bash\n",
    "kedro databricks init\n",
    "```\n",
    "\n",
    "This command will create the following files:\n",
    "\n",
    "```\n",
    "├── databricks.yml # Databricks Asset Bundle configuration\n",
    "├── conf/\n",
    "│   └── base/\n",
    "│       └── databricks.yml # Workflow overrides\n",
    "```\n",
    "\n",
    "The `databricks.yml` file is the main configuration file for the Databricks Asset Bundle. The `conf/base/databricks.yml` file is used to override the Kedro workflow configuration for Databricks.\n",
    "\n",
    "\n",
    "### `kedro databricks bundle`\n",
    "\n",
    "To generate Asset Bundle resources definition, run:\n",
    "\n",
    "```bash\n",
    "kedro databricks bundle\n",
    "```\n",
    "\n",
    "This command will generate the following files:\n",
    "\n",
    "```\n",
    "├── resources/\n",
    "│   ├── <project>.yml # Asset Bundle resources definition corresponds to `kedro run`\n",
    "│   └── <project-pipeline>.yml # Asset Bundle resources definition for each pipeline corresponds to `kedro run --pipeline <pipeline-name>`\n",
    "```\n",
    "\n",
    "The generated resources definition files are used to define the resources required to run the Kedro pipeline on Databricks.\n",
    "\n",
    "### `kedro databricks deploy`\n",
    "\n",
    "To deploy a Kedro project to Databricks, run:\n",
    "\n",
    "```bash\n",
    "kedro databricks deploy\n",
    "```\n",
    "\n",
    "This command will deploy the Kedro project to Databricks. The deployment process includes the following steps:\n",
    "\n",
    "1. Package the Kedro project for a specific environment: by default this is `dev`.\n",
    "2. Generate Asset Bundle resources definition for that environment\n",
    "3. Upload environment-specific `/conf` files to Databricks\n",
    "4. Upload `/data/raw/*` and ensure other `/data` directories are created\n",
    "5. Deploy Asset Bundle to Databricks"
   ],
   "id": "12614f61c4040c94"
  },
  {
   "metadata": {},
   "cell_type": "markdown",
   "source": "",
   "id": "b109717057283688"
  }
 ],
 "metadata": {
  "kernelspec": {
   "display_name": "Python 3",
   "language": "python",
   "name": "python3"
  },
  "language_info": {
   "codemirror_mode": {
    "name": "ipython",
    "version": 2
   },
   "file_extension": ".py",
   "mimetype": "text/x-python",
   "name": "python",
   "nbconvert_exporter": "python",
   "pygments_lexer": "ipython2",
   "version": "2.7.6"
  }
 },
 "nbformat": 4,
 "nbformat_minor": 5
}
