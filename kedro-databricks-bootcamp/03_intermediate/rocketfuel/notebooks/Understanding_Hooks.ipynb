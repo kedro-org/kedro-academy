{
 "cells": [
  {
   "cell_type": "markdown",
   "id": "038edf36-033f-4336-937d-a135834cac17",
   "metadata": {},
   "source": [
    "# Hooks\n",
    "\n",
    "Hooks are a mechanism to add extra behaviour to Kedro’s main execution in an easy and consistent manner. \n",
    "\n",
    "Some examples might include:\n",
    "- Adding a log statement after the data catalog is loaded.\n",
    "- Adding data validation to the inputs before a node runs, and to the outputs after a node has run.\n",
    "- Adding machine learning metrics tracking, using MLflow, throughout a pipeline run."
   ]
  },
  {
   "cell_type": "markdown",
   "id": "df117cc0-caf5-4ef2-95a9-19708980e2e8",
   "metadata": {},
   "source": [
    "Hooks Concepts: https://docs.kedro.org/en/stable/hooks/introduction.html"
   ]
  },
  {
   "cell_type": "markdown",
   "id": "6d4cf349-a056-48f2-aa17-d487206fe2b4",
   "metadata": {},
   "source": [
    "<b>Hook implementation</b>\n",
    "\n",
    "To add Hooks to your Kedro project, you must:\n",
    "- Define a hook implementation for a particular hook specification\n",
    "- Register that hook implementation in the `src/<package_name>/settings.py` file under the `HOOKS` key"
   ]
  },
  {
   "cell_type": "markdown",
   "id": "0e2f1296-5d1e-40f5-8dfd-f55181183592",
   "metadata": {},
   "source": [
    "<b>Hook execution order</b>\n",
    "\n",
    "Hooks follow a Last-In-First-Out (LIFO) order, which means the first registered Hook will be executed last.\n",
    "\n",
    "Hooks are registered in the following order:\n",
    "1. Project Hooks in settings.py - If you have HOOKS = (hook_a, hook_b,), hook_b will be executed before hook_a\n",
    "2. Plugin Hooks registered in kedro.hooks, which follows alphabetical order"
   ]
  },
  {
   "cell_type": "markdown",
   "id": "5d828e2d-e209-4d97-8e81-fc9da24dd682",
   "metadata": {},
   "source": [
    "Use cases: https://docs.kedro.org/en/stable/hooks/common_use_cases.html"
   ]
  },
  {
   "cell_type": "markdown",
   "id": "f3ad1a55-88f7-4425-9d34-94a82da5ccf4",
   "metadata": {},
   "source": [
    "Exercise: Implement a way to understand how much time does each node in my pipeline takes to run.\n",
    "\n",
    "For this usecase, we can try creating a class which provides hook implementations for `before_node_run` and `after_node_run` \n",
    "hook specifications."
   ]
  },
  {
   "cell_type": "code",
   "execution_count": 1,
   "id": "16a8391d-368c-4227-8be3-b8850ebb6707",
   "metadata": {},
   "outputs": [],
   "source": [
    "import logging\n",
    "import time\n",
    "from collections import defaultdict\n",
    "from typing import Any, Dict\n",
    "from kedro.framework.hooks import hook_impl\n",
    "from kedro.pipeline.node import Node\n",
    "\n",
    "logger = logging.getLogger(__name__)\n",
    "\n",
    "class NodeTimerHook:\n",
    "    def __init__(self):\n",
    "        self.node_times = defaultdict(list)\n",
    "\n",
    "    @hook_impl\n",
    "    def before_node_run(self, node: Node, inputs: Dict[str, Any]):\n",
    "        node_name = node.name\n",
    "        self.node_times[node_name].append({\"start\": time.perf_counter()})\n",
    "\n",
    "    @hook_impl\n",
    "    def after_node_run(self, node: Node, inputs: Dict[str, Any], outputs: Dict[str, Any]):\n",
    "        node_name = node.name\n",
    "        timing = self.node_times[node_name][-1]\n",
    "        timing[\"end\"] = time.perf_counter()\n",
    "        timing[\"duration\"] = timing[\"end\"] - timing[\"start\"]\n",
    "\n",
    "    @hook_impl\n",
    "    def after_pipeline_run(self, run_params: Dict[str, Any]):\n",
    "        logger.info(\"Node execution timing summary:\")\n",
    "        for node_name, records in self.node_times.items():\n",
    "            for i, record in enumerate(records):\n",
    "                duration = record.get(\"duration\", 0)\n",
    "                logger.info(f\"  - {node_name} [{i+1}]: {duration:.4f} seconds\")\n"
   ]
  },
  {
   "cell_type": "code",
   "execution_count": null,
   "id": "f8a0fb06-377e-43ef-a80c-171ebdce6fae",
   "metadata": {},
   "outputs": [],
   "source": []
  }
 ],
 "metadata": {
  "kernelspec": {
   "display_name": "Python 3 (ipykernel)",
   "language": "python",
   "name": "python3"
  },
  "language_info": {
   "codemirror_mode": {
    "name": "ipython",
    "version": 3
   },
   "file_extension": ".py",
   "mimetype": "text/x-python",
   "name": "python",
   "nbconvert_exporter": "python",
   "pygments_lexer": "ipython3",
   "version": "3.12.8"
  }
 },
 "nbformat": 4,
 "nbformat_minor": 5
}
