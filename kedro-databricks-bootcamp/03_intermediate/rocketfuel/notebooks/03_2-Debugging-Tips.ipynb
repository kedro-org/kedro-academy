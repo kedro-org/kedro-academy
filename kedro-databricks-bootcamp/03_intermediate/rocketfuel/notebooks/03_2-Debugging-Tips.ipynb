{
 "cells": [
  {
   "cell_type": "markdown",
   "id": "a32ccfc4-1283-4429-b396-38d4e7713c50",
   "metadata": {},
   "source": [
    "# Debugging\n",
    "\n",
    "- Debugging a Kedro project within a notebook or IPython shell\n",
    "- Debugging in VSCode\n",
    "- Debugging with Kedro Hooks"
   ]
  },
  {
   "cell_type": "markdown",
   "id": "ddc3e0d7-a724-451b-9338-c07895df9df1",
   "metadata": {},
   "source": [
    "## Debugging a Kedro project within a notebook\n",
    "\n",
    "1. %debug\n",
    "2. %pdb\n",
    "3. breakpoint() or import pdb; pdb.set_trace()\n",
    "4. `%load_node <name-of-failing-node>`\n"
   ]
  },
  {
   "cell_type": "code",
   "execution_count": null,
   "id": "8ebe7ea4-5f09-4989-aa26-67a78393c7a1",
   "metadata": {},
   "outputs": [],
   "source": [
    "# %pdb on"
   ]
  },
  {
   "cell_type": "code",
   "execution_count": 1,
   "id": "b9de6b9b-92ee-4d94-b394-9d95eee1ecca",
   "metadata": {},
   "outputs": [],
   "source": [
    "import logging\n",
    "from typing import Dict, Tuple\n",
    "\n",
    "import pandas as pd\n",
    "from sklearn.linear_model import LinearRegression\n",
    "from sklearn.metrics import r2_score\n",
    "from sklearn.model_selection import train_test_split\n",
    "\n",
    "def split_data(data: pd.DataFrame, parameters: Dict) -> Tuple:\n",
    "    \"\"\"Splits data into features and targets training and test sets.\n",
    "\n",
    "    Args:\n",
    "        data: Data containing features and target.\n",
    "        parameters: Parameters defined in parameters/data_science.yml.\n",
    "    Returns:\n",
    "        Split data.\n",
    "    \"\"\"\n",
    "    # breakpoint() - Some open issues - https://github.com/ipython/ipykernel/issues/897\n",
    "    # import pdb\n",
    "    # pdb.set_trace()\n",
    "    \n",
    "    X = data[parameters[\"features\"]]\n",
    "    y = data[\"price\"]\n",
    "    X_train, X_test, y_train, y_test = train_test_split(\n",
    "        X, y, test_size=parameters[\"test_size\"], random_state=parameters[\"random_state\"]\n",
    "    )\n",
    "    return X_train, X_test, y_train, y_test"
   ]
  },
  {
   "cell_type": "code",
   "execution_count": null,
   "id": "654759f9-776f-448b-a706-08d946859962",
   "metadata": {},
   "outputs": [],
   "source": [
    "# Create an example DataFrame\n",
    "dummy_data = pd.DataFrame(\n",
    "        {\n",
    "            \"engines\": [1, 2, 3],\n",
    "            \"crew\": [4, 5, 6],\n",
    "            \"passenger_capacity\": [5, 6, 7],\n",
    "            # \"price\": [120, 290, 30], \"price\" column is intentionally missing to trigger a KeyError\n",
    "        }\n",
    "    )\n",
    "\n",
    "dummy_parameters = {\n",
    "        \"model_options\": {\n",
    "            \"test_size\": 0.2,\n",
    "            \"random_state\": 3,\n",
    "            \"features\": [\"engines\", \"passenger_capacity\", \"crew\"],\n",
    "        }\n",
    "}\n",
    "\n",
    "# Call the function (this will raise KeyError)\n",
    "split_data(dummy_data, dummy_parameters[\"model_options\"])"
   ]
  },
  {
   "cell_type": "code",
   "execution_count": null,
   "id": "b5102432-6852-490b-97c5-16f716a7bd6e",
   "metadata": {},
   "outputs": [],
   "source": [
    "# %pdb off"
   ]
  },
  {
   "cell_type": "code",
   "execution_count": null,
   "id": "56fd78a8-df91-466d-bb82-7aacab898dd6",
   "metadata": {},
   "outputs": [],
   "source": [
    "%debug\n",
    "# u: go up in the traceback.\n",
    "# d: go down in the traceback.\n",
    "# l: List the code around the current line.\n",
    "# p expr: Print the value of an expression.\n",
    "# q: Quit the debugger."
   ]
  },
  {
   "cell_type": "markdown",
   "id": "c1b9278e-ae9d-4142-84c4-fde173c41f1c",
   "metadata": {},
   "source": [
    "<br>\n",
    "You can also set up the debugger to run automatically when an exception occurs by using the %pdb line magic. \n",
    "This automatic behaviour can be enabled with %pdb 1 or %pdb on before executing a program, and disabled with %pdb 0 or %pdb off.\n"
   ]
  },
  {
   "cell_type": "markdown",
   "id": "e10d830b-1e7a-4f34-8138-eeca10e3e472",
   "metadata": {},
   "source": [
    "<br>\n",
    "\n",
    "For import pdb; pdb.set_trace()\n",
    "\n",
    "| Command | Description                                                                     |\n",
    "| ------- | ------------------------------------------------------------------------------- |\n",
    "| `n`     | **Next**: Execute the current line and pause at the next one (same stack frame) |\n",
    "| `s`     | **Step**: Step into a function call on the current line                         |\n",
    "| `r`     | **Step**: Step out a function call on the current line                          |\n",
    "| `c`     | **Continue**: Run until the next breakpoint or end                              |\n",
    "| `l`     | **List**: Show source code around the current line                              |\n",
    "| `p var` | **Print**: Print the value of `var`                                             |\n",
    "| `q`     | **Quit** the debugger                                                           |\n"
   ]
  },
  {
   "cell_type": "markdown",
   "id": "8ca3a3a2-2f66-4d84-93d1-89198759a8d3",
   "metadata": {},
   "source": [
    "<br>\n",
    "<b> %load_node line magic : </b> \n",
    "\n",
    "This is still an [experimental](https://docs.kedro.org/en/0.19.10/notebooks_and_ipython/kedro_and_notebooks.html#load-node-line-magic) feature and is currently only available for Jupyter Notebook (>7.0), Jupyter Lab, IPython, and VS Code Notebook. \n",
    "\n",
    "When using this feature in Jupyter Notebook you will need to have the following requirements and minimum versions installed:\n",
    "<code>\n",
    "    ipylab>=1.0.0\n",
    "    notebook>=7.0.0\n",
    "</code>\n"
   ]
  },
  {
   "cell_type": "markdown",
   "id": "40cb903a-ddc2-49cb-910b-6a705ace0e90",
   "metadata": {},
   "source": [
    "You can load the contents of a node in your project into a series of cells using the `%load_node` line magic. To use `%load_node`, \n",
    "the node you want to load needs to fulfill two requirements:\n",
    "* The node needs to have a name\n",
    "* The node’s inputs need to be persisted"
   ]
  },
  {
   "cell_type": "markdown",
   "id": "e765b438-82a0-4120-8c0c-79018b0194d3",
   "metadata": {},
   "source": [
    "## Debugging in VSCode\n",
    "\n",
    "- Create launch.json file under .vscode directory\n",
    "\n",
    "```json\n",
    "{\n",
    "    // Use IntelliSense to learn about possible attributes.\n",
    "    // Hover to view descriptions of existing attributes.\n",
    "    // For more information, visit: https://go.microsoft.com/fwlink/?linkid=830387\n",
    "    \"version\": \"0.2.0\",\n",
    "    \"configurations\": [\n",
    "        {\n",
    "            \"name\": \"Python: Kedro Run\",\n",
    "            \"type\": \"debugpy\",\n",
    "            \"request\": \"launch\",\n",
    "            \"console\": \"integratedTerminal\",\n",
    "            \"module\": \"kedro\",\n",
    "            \"cwd\": \"<project-dir-if-not-root>\",\n",
    "            \"args\": [\"run\"]\n",
    "            // Any other arguments should be passed as a comma-seperated-list\n",
    "            // e.g \"args\": [\"run\", \"--pipeline\", \"pipeline_name\"]\n",
    "        }\n",
    "    ]\n",
    "}\n",
    "```\n",
    "\n",
    "- Add a breakpoint in your `pipeline.py` file\n",
    "- Click on Debug button on the left pane\n",
    "- Then select the debug config Python: Kedro Run and click Debug (the green play button)\n",
    "- Execution should stop at the breakpoint\n",
    "\n",
    "You can also use `breakpoint()` to debug your pipelines"
   ]
  },
  {
   "cell_type": "markdown",
   "id": "e25d3e05-43f6-47b8-9fb6-f1ff95943e93",
   "metadata": {},
   "source": [
    "## Debugging with Kedro Hooks\n",
    "\n",
    "You can launch a post-mortem debugging session with pdb using Kedro Hooks when an error occurs during a pipeline run\n",
    "\n",
    "- Create a `PDBPipelineDebugHook` to debug a pipeline error\n",
    "\n",
    "```python\n",
    "import pdb\n",
    "import sys\n",
    "import traceback\n",
    "\n",
    "from kedro.framework.hooks import hook_impl\n",
    "\n",
    "class PDBPipelineDebugHook:\n",
    "    \"\"\"A hook class for creating a post mortem debugging with the PDB debugger\n",
    "    whenever an error is triggered within a pipeline. The local scope from when the\n",
    "    exception occured is available within this debugging session.\n",
    "    \"\"\"\n",
    "\n",
    "    @hook_impl\n",
    "    def on_pipeline_error(self):\n",
    "        # We don't need the actual exception since it is within this stack frame\n",
    "        _, _, traceback_object = sys.exc_info()\n",
    "\n",
    "        #  Print the traceback information for debugging ease\n",
    "        traceback.print_tb(traceback_object)\n",
    "\n",
    "        # Drop you into a post mortem debugging session\n",
    "        pdb.post_mortem(traceback_object)\n",
    "```"
   ]
  },
  {
   "cell_type": "markdown",
   "id": "3dc7e068-6800-4b81-b17d-9f232b2adad2",
   "metadata": {},
   "source": [
    "<b>Exercise:</b> Create a `PDBNodeDebugHook` to debug a node error"
   ]
  },
  {
   "cell_type": "code",
   "execution_count": null,
   "id": "6c45301f-9ee6-43ed-982b-013195b3150f",
   "metadata": {},
   "outputs": [],
   "source": []
  }
 ],
 "metadata": {
  "kernelspec": {
   "display_name": "kdb-py311",
   "language": "python",
   "name": "python3"
  },
  "language_info": {
   "codemirror_mode": {
    "name": "ipython",
    "version": 3
   },
   "file_extension": ".py",
   "mimetype": "text/x-python",
   "name": "python",
   "nbconvert_exporter": "python",
   "pygments_lexer": "ipython3",
   "version": "3.11.0"
  }
 },
 "nbformat": 4,
 "nbformat_minor": 5
}
