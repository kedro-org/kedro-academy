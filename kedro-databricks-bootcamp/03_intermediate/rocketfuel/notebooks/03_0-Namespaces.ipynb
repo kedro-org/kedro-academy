{
 "cells": [
  {
   "cell_type": "markdown",
   "id": "4619a730",
   "metadata": {},
   "source": [
    "## Namespaces for pipeline grouping"
   ]
  },
  {
   "cell_type": "markdown",
   "id": "76ec39df",
   "metadata": {},
   "source": [
    "Namespaces allow you to group nodes, ensuring clear dependencies and separation within a pipeline while maintaining a consistent structure. Like with pipelines or tags, you can enable selective execution using namespaces, and you cannot run more than one namespace simultaneously — Kedro allows executing one namespace at a time."
   ]
  },
  {
   "cell_type": "markdown",
   "id": "12916c51",
   "metadata": {},
   "source": [
    "Defining namespace at Pipeline-level: When applying a namespace at the pipeline level, Kedro automatically renames all inputs, outputs, and parameters within that pipeline. You will need to update your catalog accordingly. If you don’t want to change the names of your inputs, outputs, or parameters with the `namespace_name`. prefix while using a namespace, you should list these objects inside the corresponding parameters of the `pipeline()` creation function. For example:\n",
    "\n",
    "```python\n",
    "return pipeline(\n",
    "    base_pipeline,\n",
    "    namespace = \"new_namespaced_pipeline\", # With that namespace, \"new_namespaced_pipeline\" prefix will be added to inputs, outputs, params, and node names\n",
    "    inputs={\"the_original_input_name\"}, # Inputs remain the same, without namespace prefix\n",
    ")\n",
    "```"
   ]
  },
  {
   "cell_type": "markdown",
   "id": "33a38dc8",
   "metadata": {},
   "source": [
    "Namespaces allow you to group your nodes and pipelines more efficiently in deployment, for example, when running your pipeline as a Databricks Job or Asset Bundle. "
   ]
  },
  {
   "cell_type": "markdown",
   "id": "e754e3b3",
   "metadata": {},
   "source": [
    "To add a namespace to a Kedro pipeline, you can use the `namespace` argument in the `pipeline()` function. This argument accepts a string that will be used as a prefix for all nodes, inputs, outputs, and parameters within that pipeline. Note that you'll have to update your catalog accordingly, as Kedro expects that all inputs, outputs, and parameters within that pipeline include the namespace prefix. \n",
    "\n",
    "For example, to add a namespace to our `data_science` pipeline you'll have to modifify the code to:"
   ]
  },
  {
   "cell_type": "code",
   "execution_count": null,
   "id": "4e4ed863",
   "metadata": {},
   "outputs": [],
   "source": [
    "# data_science/pipeline.py\n",
    "\n",
    "\n",
    "def create_pipeline(**kwargs) -> Pipeline:\n",
    "    return pipeline(\n",
    "        [\n",
    "            node(\n",
    "                func=split_data,\n",
    "                inputs=[\"model_input_table\", \"params:model_options\"],\n",
    "                outputs=[\"X_train\", \"X_test\", \"y_train\", \"y_test\"],\n",
    "                name=\"split_data_node\",\n",
    "            ),\n",
    "            node(\n",
    "                func=train_model,\n",
    "                inputs=[\"X_train\", \"y_train\"],\n",
    "                outputs=\"regressor\",\n",
    "                name=\"train_model_node\",\n",
    "            ),\n",
    "            node(\n",
    "                func=evaluate_model,\n",
    "                inputs=[\"regressor\", \"X_test\", \"y_test\"],\n",
    "                outputs=None,\n",
    "                name=\"evaluate_model_node\",\n",
    "            ),\n",
    "        ],\n",
    "        namespace=\"ds\",\n",
    "    )"
   ]
  },
  {
   "cell_type": "markdown",
   "id": "604be6d8",
   "metadata": {},
   "source": [
    "### Update catalog.yml to add namespace prefixes to relevant datasets\n",
    "\n",
    "```yaml\n",
    "ds.model_input_table:\n",
    "  type: databricks.ManagedTableDataset\n",
    "  catalog: ${_uc_catalog}\n",
    "  database: ${_uc_schema}\n",
    "  table: model_input_table\n",
    "  write_mode: overwrite\n",
    "```"
   ]
  },
  {
   "cell_type": "markdown",
   "id": "1bcd6076",
   "metadata": {},
   "source": [
    "### Update parameters.yml to add namespace prefixes to relevant parameters\n",
    "\n",
    "```yaml\n",
    "ds.model_options:\n",
    "  test_size: 0.2\n",
    "  random_state: 3\n",
    "  features:\n",
    "    - engines\n",
    "    - passenger_capacity\n",
    "    - crew\n",
    "    - d_check_complete\n",
    "    - moon_clearance_complete\n",
    "    - iata_approved\n",
    "    - company_rating\n",
    "    - review_scores_rating\n",
    "```"
   ]
  }
 ],
 "metadata": {
  "language_info": {
   "name": "python"
  }
 },
 "nbformat": 4,
 "nbformat_minor": 5
}
