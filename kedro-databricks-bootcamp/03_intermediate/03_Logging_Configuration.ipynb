{
 "cells": [
  {
   "metadata": {},
   "cell_type": "markdown",
   "source": "# Logging",
   "id": "9a884126c3fc7cb7"
  },
  {
   "metadata": {},
   "cell_type": "markdown",
   "source": [
    "Kedro uses [Python's `logging` library](https://docs.python.org/3/library/logging.html). Configuration is provided as a dictionary according to the [Python logging configuration schema](https://docs.python.org/3/library/logging.config.html#logging-config-dictschema) in Kedro's default logging configuration, as described below.\n",
    "\n",
    "By default, Python only shows logging messages at level `WARNING` and above. Kedro's logging configuration specifies that `INFO` level messages from Kedro should also be emitted. This makes it easier to track the progress of your pipeline when you perform a `kedro run`.\n"
   ],
   "id": "24dc50f11a0d8bf9"
  },
  {
   "metadata": {},
   "cell_type": "markdown",
   "source": [
    "## Default logging configuration\n",
    "Kedro's [default logging configuration](https://github.com/kedro-org/kedro/blob/main/kedro/framework/project/default_logging.yml) defines a handler called `rich` that uses the [Rich logging handler](https://rich.readthedocs.io) to format messages. We also use the Rich traceback handler to render exceptions.\n",
    "\n",
    "Since Rich doesn't always work in environments like Databricks, we recommend using a different logging handler or creating a custom logging configuration for your project."
   ],
   "id": "8b1c02d075298ea4"
  },
  {
   "metadata": {},
   "cell_type": "markdown",
   "source": [
    "## How to customise Kedro logging\n",
    "\n",
    "To customise logging in your Kedro project, you need to specify the path to a project-specific logging configuration file. Change the environment variable `KEDRO_LOGGING_CONFIG` to override the default logging configuration. Point the variable instead to your project-specific configuration, which we recommend you store inside the project's`conf` folder, and name `logging.yml`.\n",
    "\n",
    "For example, you can set `KEDRO_LOGGING_CONFIG` by typing the following into your terminal:\n",
    "\n",
    "```bash\n",
    "export KEDRO_LOGGING_CONFIG=<project_root>/conf/logging.yml\n",
    "```\n",
    "\n",
    "After setting the environment variable, any subsequent Kedro commands use the logging configuration file at the specified path.\n",
    "\n",
    "```{note}\n",
    "If the `KEDRO_LOGGING_CONFIG` environment variable is not set, Kedro will use the [default logging configuration](https://github.com/kedro-org/kedro/blob/main/kedro/framework/project/default_logging.yml).\n",
    "```\n",
    "\n",
    "### Change the verbosity of specific parts of Kedro\n",
    "\n",
    "You can also customise logging at runtime and redefine the logging configuration provided in the `logging.yml` when using jupyter notebook.\n",
    "The example below demonstrates how you can change the logging level from default `INFO` to `WARNING` for the `kedro.io.data_catalog` component logger specifically, the logging for the rest of the components will remain unchanged.\n",
    "The same can be done for higher/lower-level components without affecting the top-level.\n",
    "\n",
    "Add the following to a cell in your notebook:\n",
    "\n",
    "```ipython\n",
    "import logging\n",
    "\n",
    "\n",
    "logging.getLogger(\"kedro.io.data_catalog\").setLevel(logging.WARNING)\n",
    "```\n"
   ],
   "id": "ccea4aefd37865d1"
  },
  {
   "metadata": {},
   "cell_type": "markdown",
   "source": [
    "## How to change the logging handler\n",
    "\n",
    "In addition to the `rich` handler defined in Kedro's framework, we provide two additional handlers in the template.\n",
    "\n",
    "* `console`: show logs on standard output (typically your terminal screen) without any rich formatting\n",
    "* `info_file_handler`: write logs of level `INFO` and above to `info.log`\n",
    "\n",
    "The following section illustrates some common examples of how to change your project's logging configuration.\n",
    "\n",
    "## How to enable file-based logging\n",
    "\n",
    "File-based logging in Python projects aids troubleshooting and debugging. It offers better visibility into application's behaviour and it's easy to search. However, it does not work well with read-only systems such as [Databricks Repos](https://docs.databricks.com/repos/index.html).\n",
    "\n",
    "To enable file-based logging,  add `info_file_handler` in your `root` logger as follows in your `conf/logging.yml` as follows:\n",
    "\n",
    "```diff\n",
    " root:\n",
    "-  handlers: [rich]\n",
    "+  handlers: [rich, info_file_handler]\n",
    "```\n",
    "\n",
    "By default it only tracks `INFO` level messages, but it can be configured to capture any level of logs.\n",
    "\n",
    "## How to use plain console logging\n",
    "\n",
    "To use plain rather than rich logging, swap the `rich` handler for the `console` one as follows:\n",
    "\n",
    "```diff\n",
    " root:\n",
    "-  handlers: [rich]\n",
    "+  handlers: [console]\n",
    "```"
   ],
   "id": "70c43545f3b8d035"
  },
  {
   "metadata": {},
   "cell_type": "markdown",
   "source": "",
   "id": "105269f5b8dab28b"
  }
 ],
 "metadata": {
  "kernelspec": {
   "display_name": "Python 3",
   "language": "python",
   "name": "python3"
  },
  "language_info": {
   "codemirror_mode": {
    "name": "ipython",
    "version": 2
   },
   "file_extension": ".py",
   "mimetype": "text/x-python",
   "name": "python",
   "nbconvert_exporter": "python",
   "pygments_lexer": "ipython2",
   "version": "2.7.6"
  }
 },
 "nbformat": 4,
 "nbformat_minor": 5
}
