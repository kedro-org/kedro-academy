{
 "cells": [
  {
   "cell_type": "markdown",
   "metadata": {
    "application/vnd.databricks.v1+cell": {
     "cellMetadata": {},
     "inputWidgets": {},
     "nuid": "19af4bc9-b683-4210-b429-6bc8be11fcd9",
     "showTitle": false,
     "tableResultSettingsMap": {},
     "title": ""
    }
   },
   "source": [
    "# 02.2 - Kedro on Databricks, part 2\n",
    "\n",
    "_Notes: This notebook is supposed to be run locally from VS Code, all with Databricks Connect_"
   ]
  },
  {
   "cell_type": "markdown",
   "metadata": {
    "application/vnd.databricks.v1+cell": {
     "cellMetadata": {},
     "inputWidgets": {},
     "nuid": "11ef80ca-69c2-46e5-8a5f-c00a9fe45c50",
     "showTitle": false,
     "tableResultSettingsMap": {},
     "title": ""
    }
   },
   "source": [
    "## Kedro and Databricks Connect"
   ]
  },
  {
   "cell_type": "markdown",
   "metadata": {},
   "source": [
    "**Databricks Connect** is a client library that allows you to run Spark code locally on your machine while connecting to a remote Databricks cluster for computation. It essentially lets you develop and execute Spark applications from your local IDE or notebook environment, but the actual processing happens on the Databricks cluster.\n",
    "\n",
    "The **Databricks extension for Visual Studio Code** has several interesting features for connecting to Databricks from VS Code and perform actions sach us deploying and running Databricks Asset Bundles, manage clusters, and easily set up **Databricks Connect**.\n",
    "\n",
    "Therefore, the two are the perfect companion for developing Kedro projects on VS Code, since you can develop on your IDE while using Databricks compute.\n",
    "\n",
    "Follow the official documentation to\n",
    "\n",
    "1. [Install the Databricks extension for VS Code](https://learn.microsoft.com/en-us/azure/databricks/dev-tools/vscode-ext/install)\n",
    "2. [Configure the appropriate cluster](https://learn.microsoft.com/en-us/azure/databricks/dev-tools/vscode-ext/configure)\n",
    "3. [Install Databricks Connect](https://learn.microsoft.com/en-us/azure/databricks/dev-tools/vscode-ext/databricks-connect)\n",
    "\n",
    "_Note: `databricks-connect` provides its own `pyspark` top-level module, and [pip doesn't check for conflicting packages](https://github.com/pypa/pip/issues/4625), so make sure you don't have a [conflicting `pyspark` installation](https://learn.microsoft.com/en-us/azure/databricks/dev-tools/databricks-connect/python/troubleshooting#conflicting-pyspark-installations)!_"
   ]
  },
  {
   "cell_type": "markdown",
   "metadata": {},
   "source": [
    "### Install the needed requirements again"
   ]
  },
  {
   "cell_type": "code",
   "execution_count": null,
   "metadata": {},
   "outputs": [],
   "source": [
    "%pip install -r ../../../requirements.in\n",
    "%pip install hdfs s3fs"
   ]
  },
  {
   "cell_type": "markdown",
   "metadata": {},
   "source": [
    "Uninstall dependencies that conflict:"
   ]
  },
  {
   "cell_type": "code",
   "execution_count": 4,
   "metadata": {},
   "outputs": [
    {
     "name": "stdout",
     "output_type": "stream",
     "text": [
      "Found existing installation: kedro_mlflow 0.14.4\n",
      "Uninstalling kedro_mlflow-0.14.4:\n",
      "  Successfully uninstalled kedro_mlflow-0.14.4\n",
      "Note: you may need to restart the kernel to use updated packages.\n"
     ]
    }
   ],
   "source": [
    "%pip uninstall -y kedro-mlflow"
   ]
  },
  {
   "cell_type": "markdown",
   "metadata": {},
   "source": [
    "Load the Kedro ipython extension."
   ]
  },
  {
   "cell_type": "code",
   "execution_count": 5,
   "metadata": {},
   "outputs": [
    {
     "data": {
      "text/html": [
       "<pre style=\"white-space:pre;overflow-x:auto;line-height:normal;font-family:Menlo,'DejaVu Sans Mono',consolas,'Courier New',monospace\"><span style=\"color: #7fbfbf; text-decoration-color: #7fbfbf\">[06/16/25 10:45:21] </span><span style=\"color: #000080; text-decoration-color: #000080\">INFO    </span> Using                                                                  <a href=\"file:///Users/Merel_Theisen/anaconda3/envs/iris-databricks/lib/python3.10/site-packages/kedro/framework/project/__init__.py\" target=\"_blank\"><span style=\"color: #7f7f7f; text-decoration-color: #7f7f7f\">__init__.py</span></a><span style=\"color: #7f7f7f; text-decoration-color: #7f7f7f\">:</span><a href=\"file:///Users/Merel_Theisen/anaconda3/envs/iris-databricks/lib/python3.10/site-packages/kedro/framework/project/__init__.py#270\" target=\"_blank\"><span style=\"color: #7f7f7f; text-decoration-color: #7f7f7f\">270</span></a>\n",
       "<span style=\"color: #7fbfbf; text-decoration-color: #7fbfbf\">                    </span>         <span style=\"color: #008000; text-decoration-color: #008000\">'/Users/Merel_Theisen/anaconda3/envs/iris-databricks/lib/python3.10/si</span> <span style=\"color: #7f7f7f; text-decoration-color: #7f7f7f\">               </span>\n",
       "<span style=\"color: #7fbfbf; text-decoration-color: #7fbfbf\">                    </span>         <span style=\"color: #008000; text-decoration-color: #008000\">te-packages/kedro/framework/project/rich_logging.yml'</span> as logging       <span style=\"color: #7f7f7f; text-decoration-color: #7f7f7f\">               </span>\n",
       "<span style=\"color: #7fbfbf; text-decoration-color: #7fbfbf\">                    </span>         configuration.                                                         <span style=\"color: #7f7f7f; text-decoration-color: #7f7f7f\">               </span>\n",
       "</pre>\n"
      ],
      "text/plain": [
       "\u001B[2;36m[06/16/25 10:45:21]\u001B[0m\u001B[2;36m \u001B[0m\u001B[34mINFO    \u001B[0m Using                                                                  \u001B]8;id=350227;file:///Users/Merel_Theisen/anaconda3/envs/iris-databricks/lib/python3.10/site-packages/kedro/framework/project/__init__.py\u001B\\\u001B[2m__init__.py\u001B[0m\u001B]8;;\u001B\\\u001B[2m:\u001B[0m\u001B]8;id=502506;file:///Users/Merel_Theisen/anaconda3/envs/iris-databricks/lib/python3.10/site-packages/kedro/framework/project/__init__.py#270\u001B\\\u001B[2m270\u001B[0m\u001B]8;;\u001B\\\n",
       "\u001B[2;36m                    \u001B[0m         \u001B[32m'/Users/Merel_Theisen/anaconda3/envs/iris-databricks/lib/python3.10/si\u001B[0m \u001B[2m               \u001B[0m\n",
       "\u001B[2;36m                    \u001B[0m         \u001B[32mte-packages/kedro/framework/project/rich_logging.yml'\u001B[0m as logging       \u001B[2m               \u001B[0m\n",
       "\u001B[2;36m                    \u001B[0m         configuration.                                                         \u001B[2m               \u001B[0m\n"
      ]
     },
     "metadata": {},
     "output_type": "display_data"
    },
    {
     "data": {
      "text/html": [
       "<pre style=\"white-space:pre;overflow-x:auto;line-height:normal;font-family:Menlo,'DejaVu Sans Mono',consolas,'Courier New',monospace\"><span style=\"color: #7fbfbf; text-decoration-color: #7fbfbf\">                    </span><span style=\"color: #000080; text-decoration-color: #000080\">INFO    </span> Registered line magic <span style=\"color: #008000; text-decoration-color: #008000\">'%reload_kedro'</span>                                   <a href=\"file:///Users/Merel_Theisen/anaconda3/envs/iris-databricks/lib/python3.10/site-packages/kedro/ipython/__init__.py\" target=\"_blank\"><span style=\"color: #7f7f7f; text-decoration-color: #7f7f7f\">__init__.py</span></a><span style=\"color: #7f7f7f; text-decoration-color: #7f7f7f\">:</span><a href=\"file:///Users/Merel_Theisen/anaconda3/envs/iris-databricks/lib/python3.10/site-packages/kedro/ipython/__init__.py#61\" target=\"_blank\"><span style=\"color: #7f7f7f; text-decoration-color: #7f7f7f\">61</span></a>\n",
       "</pre>\n"
      ],
      "text/plain": [
       "\u001B[2;36m                   \u001B[0m\u001B[2;36m \u001B[0m\u001B[34mINFO    \u001B[0m Registered line magic \u001B[32m'%reload_kedro'\u001B[0m                                   \u001B]8;id=800185;file:///Users/Merel_Theisen/anaconda3/envs/iris-databricks/lib/python3.10/site-packages/kedro/ipython/__init__.py\u001B\\\u001B[2m__init__.py\u001B[0m\u001B]8;;\u001B\\\u001B[2m:\u001B[0m\u001B]8;id=768958;file:///Users/Merel_Theisen/anaconda3/envs/iris-databricks/lib/python3.10/site-packages/kedro/ipython/__init__.py#61\u001B\\\u001B[2m61\u001B[0m\u001B]8;;\u001B\\\n"
      ]
     },
     "metadata": {},
     "output_type": "display_data"
    },
    {
     "data": {
      "text/html": [
       "<pre style=\"white-space:pre;overflow-x:auto;line-height:normal;font-family:Menlo,'DejaVu Sans Mono',consolas,'Courier New',monospace\"><span style=\"color: #7fbfbf; text-decoration-color: #7fbfbf\">                    </span><span style=\"color: #000080; text-decoration-color: #000080\">INFO    </span> Registered line magic <span style=\"color: #008000; text-decoration-color: #008000\">'%load_node'</span>                                      <a href=\"file:///Users/Merel_Theisen/anaconda3/envs/iris-databricks/lib/python3.10/site-packages/kedro/ipython/__init__.py\" target=\"_blank\"><span style=\"color: #7f7f7f; text-decoration-color: #7f7f7f\">__init__.py</span></a><span style=\"color: #7f7f7f; text-decoration-color: #7f7f7f\">:</span><a href=\"file:///Users/Merel_Theisen/anaconda3/envs/iris-databricks/lib/python3.10/site-packages/kedro/ipython/__init__.py#63\" target=\"_blank\"><span style=\"color: #7f7f7f; text-decoration-color: #7f7f7f\">63</span></a>\n",
       "</pre>\n"
      ],
      "text/plain": [
       "\u001B[2;36m                   \u001B[0m\u001B[2;36m \u001B[0m\u001B[34mINFO    \u001B[0m Registered line magic \u001B[32m'%load_node'\u001B[0m                                      \u001B]8;id=31000;file:///Users/Merel_Theisen/anaconda3/envs/iris-databricks/lib/python3.10/site-packages/kedro/ipython/__init__.py\u001B\\\u001B[2m__init__.py\u001B[0m\u001B]8;;\u001B\\\u001B[2m:\u001B[0m\u001B]8;id=466533;file:///Users/Merel_Theisen/anaconda3/envs/iris-databricks/lib/python3.10/site-packages/kedro/ipython/__init__.py#63\u001B\\\u001B[2m63\u001B[0m\u001B]8;;\u001B\\\n"
      ]
     },
     "metadata": {},
     "output_type": "display_data"
    },
    {
     "data": {
      "text/html": [
       "<pre style=\"white-space:pre;overflow-x:auto;line-height:normal;font-family:Menlo,'DejaVu Sans Mono',consolas,'Courier New',monospace\"><span style=\"color: #7fbfbf; text-decoration-color: #7fbfbf\">                    </span><span style=\"color: #000080; text-decoration-color: #000080\">INFO    </span> Resolved project path as:                                              <a href=\"file:///Users/Merel_Theisen/anaconda3/envs/iris-databricks/lib/python3.10/site-packages/kedro/ipython/__init__.py\" target=\"_blank\"><span style=\"color: #7f7f7f; text-decoration-color: #7f7f7f\">__init__.py</span></a><span style=\"color: #7f7f7f; text-decoration-color: #7f7f7f\">:</span><a href=\"file:///Users/Merel_Theisen/anaconda3/envs/iris-databricks/lib/python3.10/site-packages/kedro/ipython/__init__.py#178\" target=\"_blank\"><span style=\"color: #7f7f7f; text-decoration-color: #7f7f7f\">178</span></a>\n",
       "<span style=\"color: #7fbfbf; text-decoration-color: #7fbfbf\">                    </span>         <span style=\"color: #800080; text-decoration-color: #800080\">/Users/Merel_Theisen/Projects/kedro-academy/kedro-databricks-bootcamp/</span> <span style=\"color: #7f7f7f; text-decoration-color: #7f7f7f\">               </span>\n",
       "<span style=\"color: #7fbfbf; text-decoration-color: #7fbfbf\">                    </span>         <span style=\"color: #800080; text-decoration-color: #800080\">02_databricks/</span><span style=\"color: #ff00ff; text-decoration-color: #ff00ff\">rocketfuel.</span>                                              <span style=\"color: #7f7f7f; text-decoration-color: #7f7f7f\">               </span>\n",
       "<span style=\"color: #7fbfbf; text-decoration-color: #7fbfbf\">                    </span>         To set a different path, run <span style=\"color: #008000; text-decoration-color: #008000\">'%reload_kedro &lt;project_root&gt;'</span>            <span style=\"color: #7f7f7f; text-decoration-color: #7f7f7f\">               </span>\n",
       "</pre>\n"
      ],
      "text/plain": [
       "\u001B[2;36m                   \u001B[0m\u001B[2;36m \u001B[0m\u001B[34mINFO    \u001B[0m Resolved project path as:                                              \u001B]8;id=930013;file:///Users/Merel_Theisen/anaconda3/envs/iris-databricks/lib/python3.10/site-packages/kedro/ipython/__init__.py\u001B\\\u001B[2m__init__.py\u001B[0m\u001B]8;;\u001B\\\u001B[2m:\u001B[0m\u001B]8;id=448021;file:///Users/Merel_Theisen/anaconda3/envs/iris-databricks/lib/python3.10/site-packages/kedro/ipython/__init__.py#178\u001B\\\u001B[2m178\u001B[0m\u001B]8;;\u001B\\\n",
       "\u001B[2;36m                    \u001B[0m         \u001B[35m/Users/Merel_Theisen/Projects/kedro-academy/kedro-databricks-bootcamp/\u001B[0m \u001B[2m               \u001B[0m\n",
       "\u001B[2;36m                    \u001B[0m         \u001B[35m02_databricks/\u001B[0m\u001B[95mrocketfuel.\u001B[0m                                              \u001B[2m               \u001B[0m\n",
       "\u001B[2;36m                    \u001B[0m         To set a different path, run \u001B[32m'%reload_kedro \u001B[0m\u001B[32m<\u001B[0m\u001B[32mproject_root\u001B[0m\u001B[32m>\u001B[0m\u001B[32m'\u001B[0m            \u001B[2m               \u001B[0m\n"
      ]
     },
     "metadata": {},
     "output_type": "display_data"
    },
    {
     "data": {
      "text/html": [
       "<pre style=\"white-space:pre;overflow-x:auto;line-height:normal;font-family:Menlo,'DejaVu Sans Mono',consolas,'Courier New',monospace\"><span style=\"color: #800000; text-decoration-color: #800000\">╭─────────────────────────────── </span><span style=\"color: #800000; text-decoration-color: #800000; font-weight: bold\">Traceback </span><span style=\"color: #bf7f7f; text-decoration-color: #bf7f7f; font-weight: bold\">(most recent call last)</span><span style=\"color: #800000; text-decoration-color: #800000\"> ────────────────────────────────╮</span>\n",
       "<span style=\"color: #800000; text-decoration-color: #800000\">│</span> <span style=\"color: #bfbf7f; text-decoration-color: #bfbf7f\">/Users/Merel_Theisen/anaconda3/envs/iris-databricks/lib/python3.10/site-packages/kedro/io/</span><span style=\"color: #808000; text-decoration-color: #808000; font-weight: bold\">core.p</span> <span style=\"color: #800000; text-decoration-color: #800000\">│</span>\n",
       "<span style=\"color: #800000; text-decoration-color: #800000\">│</span> <span style=\"color: #808000; text-decoration-color: #808000; font-weight: bold\">y</span>:<span style=\"color: #0000ff; text-decoration-color: #0000ff\">181</span> in <span style=\"color: #00ff00; text-decoration-color: #00ff00\">from_config</span>                                                                             <span style=\"color: #800000; text-decoration-color: #800000\">│</span>\n",
       "<span style=\"color: #800000; text-decoration-color: #800000\">│</span>                                                                                                  <span style=\"color: #800000; text-decoration-color: #800000\">│</span>\n",
       "<span style=\"color: #800000; text-decoration-color: #800000\">│</span>   <span style=\"color: #7f7f7f; text-decoration-color: #7f7f7f\">178 </span><span style=\"color: #7f7f7f; text-decoration-color: #7f7f7f\">│   │   </span>                                                                                   <span style=\"color: #800000; text-decoration-color: #800000\">│</span>\n",
       "<span style=\"color: #800000; text-decoration-color: #800000\">│</span>   <span style=\"color: #7f7f7f; text-decoration-color: #7f7f7f\">179 </span><span style=\"color: #bfbf7f; text-decoration-color: #bfbf7f\">│   │   </span><span style=\"color: #808000; text-decoration-color: #808000\">\"\"\"</span>                                                                                <span style=\"color: #800000; text-decoration-color: #800000\">│</span>\n",
       "<span style=\"color: #800000; text-decoration-color: #800000\">│</span>   <span style=\"color: #7f7f7f; text-decoration-color: #7f7f7f\">180 </span><span style=\"color: #7f7f7f; text-decoration-color: #7f7f7f\">│   │   </span><span style=\"color: #0000ff; text-decoration-color: #0000ff\">try</span>:                                                                               <span style=\"color: #800000; text-decoration-color: #800000\">│</span>\n",
       "<span style=\"color: #800000; text-decoration-color: #800000\">│</span> <span style=\"color: #800000; text-decoration-color: #800000\">❱ </span>181 <span style=\"color: #7f7f7f; text-decoration-color: #7f7f7f\">│   │   │   </span>class_obj, config = parse_dataset_definition(                                  <span style=\"color: #800000; text-decoration-color: #800000\">│</span>\n",
       "<span style=\"color: #800000; text-decoration-color: #800000\">│</span>   <span style=\"color: #7f7f7f; text-decoration-color: #7f7f7f\">182 </span><span style=\"color: #7f7f7f; text-decoration-color: #7f7f7f\">│   │   │   │   </span>config, load_version, save_version                                         <span style=\"color: #800000; text-decoration-color: #800000\">│</span>\n",
       "<span style=\"color: #800000; text-decoration-color: #800000\">│</span>   <span style=\"color: #7f7f7f; text-decoration-color: #7f7f7f\">183 </span><span style=\"color: #7f7f7f; text-decoration-color: #7f7f7f\">│   │   │   </span>)                                                                              <span style=\"color: #800000; text-decoration-color: #800000\">│</span>\n",
       "<span style=\"color: #800000; text-decoration-color: #800000\">│</span>   <span style=\"color: #7f7f7f; text-decoration-color: #7f7f7f\">184 </span><span style=\"color: #7f7f7f; text-decoration-color: #7f7f7f\">│   │   </span><span style=\"color: #0000ff; text-decoration-color: #0000ff\">except</span> <span style=\"color: #00ffff; text-decoration-color: #00ffff\">Exception</span> <span style=\"color: #0000ff; text-decoration-color: #0000ff\">as</span> exc:                                                           <span style=\"color: #800000; text-decoration-color: #800000\">│</span>\n",
       "<span style=\"color: #800000; text-decoration-color: #800000\">│</span>                                                                                                  <span style=\"color: #800000; text-decoration-color: #800000\">│</span>\n",
       "<span style=\"color: #800000; text-decoration-color: #800000\">│</span> <span style=\"color: #bfbf7f; text-decoration-color: #bfbf7f\">/Users/Merel_Theisen/anaconda3/envs/iris-databricks/lib/python3.10/site-packages/kedro/io/</span><span style=\"color: #808000; text-decoration-color: #808000; font-weight: bold\">core.p</span> <span style=\"color: #800000; text-decoration-color: #800000\">│</span>\n",
       "<span style=\"color: #800000; text-decoration-color: #800000\">│</span> <span style=\"color: #808000; text-decoration-color: #808000; font-weight: bold\">y</span>:<span style=\"color: #0000ff; text-decoration-color: #0000ff\">517</span> in <span style=\"color: #00ff00; text-decoration-color: #00ff00\">parse_dataset_definition</span>                                                                <span style=\"color: #800000; text-decoration-color: #800000\">│</span>\n",
       "<span style=\"color: #800000; text-decoration-color: #800000\">│</span>                                                                                                  <span style=\"color: #800000; text-decoration-color: #800000\">│</span>\n",
       "<span style=\"color: #800000; text-decoration-color: #800000\">│</span>   <span style=\"color: #7f7f7f; text-decoration-color: #7f7f7f\">514 </span><span style=\"color: #7f7f7f; text-decoration-color: #7f7f7f\">│   │   │   │   </span><span style=\"color: #808000; text-decoration-color: #808000\">\"`pip install kedro-datasets[&lt;dataset-group&gt;]` to install `kedro-dataset</span>   <span style=\"color: #800000; text-decoration-color: #800000\">│</span>\n",
       "<span style=\"color: #800000; text-decoration-color: #800000\">│</span>   <span style=\"color: #7f7f7f; text-decoration-color: #7f7f7f\">515 </span><span style=\"color: #7f7f7f; text-decoration-color: #7f7f7f\">│   │   │   │   </span><span style=\"color: #808000; text-decoration-color: #808000\">\"related dependencies for the specific dataset group.\"</span>                     <span style=\"color: #800000; text-decoration-color: #800000\">│</span>\n",
       "<span style=\"color: #800000; text-decoration-color: #800000\">│</span>   <span style=\"color: #7f7f7f; text-decoration-color: #7f7f7f\">516 </span><span style=\"color: #7f7f7f; text-decoration-color: #7f7f7f\">│   │   │   </span>)                                                                              <span style=\"color: #800000; text-decoration-color: #800000\">│</span>\n",
       "<span style=\"color: #800000; text-decoration-color: #800000\">│</span> <span style=\"color: #800000; text-decoration-color: #800000\">❱ </span>517 <span style=\"color: #7f7f7f; text-decoration-color: #7f7f7f\">│   │   │   </span><span style=\"color: #0000ff; text-decoration-color: #0000ff\">raise</span> DatasetError(                                                            <span style=\"color: #800000; text-decoration-color: #800000\">│</span>\n",
       "<span style=\"color: #800000; text-decoration-color: #800000\">│</span>   <span style=\"color: #7f7f7f; text-decoration-color: #7f7f7f\">518 </span><span style=\"color: #7f7f7f; text-decoration-color: #7f7f7f\">│   │   │   │   </span><span style=\"color: #808000; text-decoration-color: #808000\">f\"Class '{</span>dataset_type<span style=\"color: #808000; text-decoration-color: #808000\">}' not found, is this a typo?\"</span> <span style=\"color: #808000; text-decoration-color: #808000\">f\"\\n{</span>hint<span style=\"color: #808000; text-decoration-color: #808000\">}\"</span>           <span style=\"color: #800000; text-decoration-color: #800000\">│</span>\n",
       "<span style=\"color: #800000; text-decoration-color: #800000\">│</span>   <span style=\"color: #7f7f7f; text-decoration-color: #7f7f7f\">519 </span><span style=\"color: #7f7f7f; text-decoration-color: #7f7f7f\">│   │   │   </span>)                                                                              <span style=\"color: #800000; text-decoration-color: #800000\">│</span>\n",
       "<span style=\"color: #800000; text-decoration-color: #800000\">│</span>   <span style=\"color: #7f7f7f; text-decoration-color: #7f7f7f\">520 </span>                                                                                           <span style=\"color: #800000; text-decoration-color: #800000\">│</span>\n",
       "<span style=\"color: #800000; text-decoration-color: #800000\">╰──────────────────────────────────────────────────────────────────────────────────────────────────╯</span>\n",
       "<span style=\"color: #ff0000; text-decoration-color: #ff0000; font-weight: bold\">DatasetError: </span>Class <span style=\"color: #008000; text-decoration-color: #008000\">'kedro_mlflow.io.models.MlflowModelTrackingDataset'</span> not found, is this a typo?\n",
       "Hint: If you are trying to use a dataset from `kedro-datasets`, make sure that the package is installed in your \n",
       "current environment. You can do so by running `pip install kedro-datasets` or `pip install \n",
       "kedro-datasets<span style=\"font-weight: bold\">[&lt;</span><span style=\"color: #ff00ff; text-decoration-color: #ff00ff; font-weight: bold\">dataset-group</span><span style=\"font-weight: bold\">&gt;]</span>` to install `kedro-datasets` along with related dependencies for the specific \n",
       "dataset group.\n",
       "\n",
       "<span style=\"font-style: italic\">The above exception was the direct cause of the following exception:</span>\n",
       "\n",
       "<span style=\"color: #800000; text-decoration-color: #800000\">╭─────────────────────────────── </span><span style=\"color: #800000; text-decoration-color: #800000; font-weight: bold\">Traceback </span><span style=\"color: #bf7f7f; text-decoration-color: #bf7f7f; font-weight: bold\">(most recent call last)</span><span style=\"color: #800000; text-decoration-color: #800000\"> ────────────────────────────────╮</span>\n",
       "<span style=\"color: #800000; text-decoration-color: #800000\">│</span> in <span style=\"color: #00ff00; text-decoration-color: #00ff00\">&lt;module&gt;</span>:<span style=\"color: #0000ff; text-decoration-color: #0000ff\">1</span>                                                                                    <span style=\"color: #800000; text-decoration-color: #800000\">│</span>\n",
       "<span style=\"color: #800000; text-decoration-color: #800000\">│</span>                                                                                                  <span style=\"color: #800000; text-decoration-color: #800000\">│</span>\n",
       "<span style=\"color: #800000; text-decoration-color: #800000\">│</span> <span style=\"color: #800000; text-decoration-color: #800000\">❱ </span>1 get_ipython().run_line_magic(<span style=\"color: #808000; text-decoration-color: #808000\">'load_ext'</span>, <span style=\"color: #808000; text-decoration-color: #808000\">'kedro.ipython'</span>)                                    <span style=\"color: #800000; text-decoration-color: #800000\">│</span>\n",
       "<span style=\"color: #800000; text-decoration-color: #800000\">│</span>   <span style=\"color: #7f7f7f; text-decoration-color: #7f7f7f\">2 </span>                                                                                             <span style=\"color: #800000; text-decoration-color: #800000\">│</span>\n",
       "<span style=\"color: #800000; text-decoration-color: #800000\">│</span>                                                                                                  <span style=\"color: #800000; text-decoration-color: #800000\">│</span>\n",
       "<span style=\"color: #800000; text-decoration-color: #800000\">│</span> <span style=\"color: #bfbf7f; text-decoration-color: #bfbf7f\">/Users/Merel_Theisen/anaconda3/envs/iris-databricks/lib/python3.10/site-packages/IPython/core/</span><span style=\"color: #808000; text-decoration-color: #808000; font-weight: bold\">in</span> <span style=\"color: #800000; text-decoration-color: #800000\">│</span>\n",
       "<span style=\"color: #800000; text-decoration-color: #800000\">│</span> <span style=\"color: #808000; text-decoration-color: #808000; font-weight: bold\">teractiveshell.py</span>:<span style=\"color: #0000ff; text-decoration-color: #0000ff\">2480</span> in <span style=\"color: #00ff00; text-decoration-color: #00ff00\">run_line_magic</span>                                                         <span style=\"color: #800000; text-decoration-color: #800000\">│</span>\n",
       "<span style=\"color: #800000; text-decoration-color: #800000\">│</span>                                                                                                  <span style=\"color: #800000; text-decoration-color: #800000\">│</span>\n",
       "<span style=\"color: #800000; text-decoration-color: #800000\">│</span>   <span style=\"color: #7f7f7f; text-decoration-color: #7f7f7f\">2477 </span><span style=\"color: #7f7f7f; text-decoration-color: #7f7f7f\">│   │   │   </span><span style=\"color: #0000ff; text-decoration-color: #0000ff\">if</span> <span style=\"color: #00ffff; text-decoration-color: #00ffff\">getattr</span>(fn, <span style=\"color: #808000; text-decoration-color: #808000\">\"needs_local_scope\"</span>, <span style=\"color: #0000ff; text-decoration-color: #0000ff\">False</span>):                                   <span style=\"color: #800000; text-decoration-color: #800000\">│</span>\n",
       "<span style=\"color: #800000; text-decoration-color: #800000\">│</span>   <span style=\"color: #7f7f7f; text-decoration-color: #7f7f7f\">2478 </span><span style=\"color: #7f7f7f; text-decoration-color: #7f7f7f\">│   │   │   │   </span>kwargs[<span style=\"color: #808000; text-decoration-color: #808000\">'local_ns'</span>] = <span style=\"color: #00ffff; text-decoration-color: #00ffff\">self</span>.get_local_scope(stack_depth)                    <span style=\"color: #800000; text-decoration-color: #800000\">│</span>\n",
       "<span style=\"color: #800000; text-decoration-color: #800000\">│</span>   <span style=\"color: #7f7f7f; text-decoration-color: #7f7f7f\">2479 </span><span style=\"color: #7f7f7f; text-decoration-color: #7f7f7f\">│   │   │   </span><span style=\"color: #0000ff; text-decoration-color: #0000ff\">with</span> <span style=\"color: #00ffff; text-decoration-color: #00ffff\">self</span>.builtin_trap:                                                       <span style=\"color: #800000; text-decoration-color: #800000\">│</span>\n",
       "<span style=\"color: #800000; text-decoration-color: #800000\">│</span> <span style=\"color: #800000; text-decoration-color: #800000\">❱ </span>2480 <span style=\"color: #7f7f7f; text-decoration-color: #7f7f7f\">│   │   │   │   </span>result = fn(*args, **kwargs)                                              <span style=\"color: #800000; text-decoration-color: #800000\">│</span>\n",
       "<span style=\"color: #800000; text-decoration-color: #800000\">│</span>   <span style=\"color: #7f7f7f; text-decoration-color: #7f7f7f\">2481 </span><span style=\"color: #7f7f7f; text-decoration-color: #7f7f7f\">│   │   │   </span>                                                                              <span style=\"color: #800000; text-decoration-color: #800000\">│</span>\n",
       "<span style=\"color: #800000; text-decoration-color: #800000\">│</span>   <span style=\"color: #7f7f7f; text-decoration-color: #7f7f7f\">2482 </span><span style=\"color: #7f7f7f; text-decoration-color: #7f7f7f\">│   │   │   </span><span style=\"color: #7f7f7f; text-decoration-color: #7f7f7f\"># The code below prevents the output from being displayed</span>                     <span style=\"color: #800000; text-decoration-color: #800000\">│</span>\n",
       "<span style=\"color: #800000; text-decoration-color: #800000\">│</span>   <span style=\"color: #7f7f7f; text-decoration-color: #7f7f7f\">2483 </span><span style=\"color: #7f7f7f; text-decoration-color: #7f7f7f\">│   │   │   </span><span style=\"color: #7f7f7f; text-decoration-color: #7f7f7f\"># when using magics with decorator @output_can_be_silenced</span>                    <span style=\"color: #800000; text-decoration-color: #800000\">│</span>\n",
       "<span style=\"color: #800000; text-decoration-color: #800000\">│</span>                                                                                                  <span style=\"color: #800000; text-decoration-color: #800000\">│</span>\n",
       "<span style=\"color: #800000; text-decoration-color: #800000\">│</span> <span style=\"color: #bfbf7f; text-decoration-color: #bfbf7f\">/Users/Merel_Theisen/anaconda3/envs/iris-databricks/lib/python3.10/site-packages/IPython/core/ma</span> <span style=\"color: #800000; text-decoration-color: #800000\">│</span>\n",
       "<span style=\"color: #800000; text-decoration-color: #800000\">│</span> <span style=\"color: #bfbf7f; text-decoration-color: #bfbf7f\">gics/</span><span style=\"color: #808000; text-decoration-color: #808000; font-weight: bold\">extension.py</span>:<span style=\"color: #0000ff; text-decoration-color: #0000ff\">33</span> in <span style=\"color: #00ff00; text-decoration-color: #00ff00\">load_ext</span>                                                                 <span style=\"color: #800000; text-decoration-color: #800000\">│</span>\n",
       "<span style=\"color: #800000; text-decoration-color: #800000\">│</span>                                                                                                  <span style=\"color: #800000; text-decoration-color: #800000\">│</span>\n",
       "<span style=\"color: #800000; text-decoration-color: #800000\">│</span>   <span style=\"color: #7f7f7f; text-decoration-color: #7f7f7f\">30 </span><span style=\"color: #bfbfbf; text-decoration-color: #bfbfbf\">│   │   </span><span style=\"color: #808000; text-decoration-color: #808000\">\"\"\"Load an IPython extension by its module name.\"\"\"</span>                                 <span style=\"color: #800000; text-decoration-color: #800000\">│</span>\n",
       "<span style=\"color: #800000; text-decoration-color: #800000\">│</span>   <span style=\"color: #7f7f7f; text-decoration-color: #7f7f7f\">31 </span><span style=\"color: #7f7f7f; text-decoration-color: #7f7f7f\">│   │   </span><span style=\"color: #0000ff; text-decoration-color: #0000ff\">if</span> <span style=\"color: #ff00ff; text-decoration-color: #ff00ff\">not</span> module_str:                                                                  <span style=\"color: #800000; text-decoration-color: #800000\">│</span>\n",
       "<span style=\"color: #800000; text-decoration-color: #800000\">│</span>   <span style=\"color: #7f7f7f; text-decoration-color: #7f7f7f\">32 </span><span style=\"color: #7f7f7f; text-decoration-color: #7f7f7f\">│   │   │   </span><span style=\"color: #0000ff; text-decoration-color: #0000ff\">raise</span> UsageError(<span style=\"color: #808000; text-decoration-color: #808000\">'Missing module name.'</span>)                                        <span style=\"color: #800000; text-decoration-color: #800000\">│</span>\n",
       "<span style=\"color: #800000; text-decoration-color: #800000\">│</span> <span style=\"color: #800000; text-decoration-color: #800000\">❱ </span>33 <span style=\"color: #7f7f7f; text-decoration-color: #7f7f7f\">│   │   </span>res = <span style=\"color: #00ffff; text-decoration-color: #00ffff\">self</span>.shell.extension_manager.load_extension(module_str)                       <span style=\"color: #800000; text-decoration-color: #800000\">│</span>\n",
       "<span style=\"color: #800000; text-decoration-color: #800000\">│</span>   <span style=\"color: #7f7f7f; text-decoration-color: #7f7f7f\">34 </span><span style=\"color: #7f7f7f; text-decoration-color: #7f7f7f\">│   │   </span>                                                                                    <span style=\"color: #800000; text-decoration-color: #800000\">│</span>\n",
       "<span style=\"color: #800000; text-decoration-color: #800000\">│</span>   <span style=\"color: #7f7f7f; text-decoration-color: #7f7f7f\">35 </span><span style=\"color: #7f7f7f; text-decoration-color: #7f7f7f\">│   │   </span><span style=\"color: #0000ff; text-decoration-color: #0000ff\">if</span> res == <span style=\"color: #808000; text-decoration-color: #808000\">'already loaded'</span>:                                                         <span style=\"color: #800000; text-decoration-color: #800000\">│</span>\n",
       "<span style=\"color: #800000; text-decoration-color: #800000\">│</span>   <span style=\"color: #7f7f7f; text-decoration-color: #7f7f7f\">36 </span><span style=\"color: #7f7f7f; text-decoration-color: #7f7f7f\">│   │   │   </span><span style=\"color: #00ffff; text-decoration-color: #00ffff\">print</span>(<span style=\"color: #808000; text-decoration-color: #808000\">\"The %s extension is already loaded. To reload it, use:\"</span> % module_str)    <span style=\"color: #800000; text-decoration-color: #800000\">│</span>\n",
       "<span style=\"color: #800000; text-decoration-color: #800000\">│</span>                                                                                                  <span style=\"color: #800000; text-decoration-color: #800000\">│</span>\n",
       "<span style=\"color: #800000; text-decoration-color: #800000\">│</span> <span style=\"color: #bfbf7f; text-decoration-color: #bfbf7f\">/Users/Merel_Theisen/anaconda3/envs/iris-databricks/lib/python3.10/site-packages/IPython/core/</span><span style=\"color: #808000; text-decoration-color: #808000; font-weight: bold\">ex</span> <span style=\"color: #800000; text-decoration-color: #800000\">│</span>\n",
       "<span style=\"color: #800000; text-decoration-color: #800000\">│</span> <span style=\"color: #808000; text-decoration-color: #808000; font-weight: bold\">tensions.py</span>:<span style=\"color: #0000ff; text-decoration-color: #0000ff\">62</span> in <span style=\"color: #00ff00; text-decoration-color: #00ff00\">load_extension</span>                                                                 <span style=\"color: #800000; text-decoration-color: #800000\">│</span>\n",
       "<span style=\"color: #800000; text-decoration-color: #800000\">│</span>                                                                                                  <span style=\"color: #800000; text-decoration-color: #800000\">│</span>\n",
       "<span style=\"color: #800000; text-decoration-color: #800000\">│</span>   <span style=\"color: #7f7f7f; text-decoration-color: #7f7f7f\"> 59 </span><span style=\"color: #bfbf7f; text-decoration-color: #bfbf7f\">│   │   </span><span style=\"color: #808000; text-decoration-color: #808000\">function, or None if it succeeded.</span>                                                 <span style=\"color: #800000; text-decoration-color: #800000\">│</span>\n",
       "<span style=\"color: #800000; text-decoration-color: #800000\">│</span>   <span style=\"color: #7f7f7f; text-decoration-color: #7f7f7f\"> 60 </span><span style=\"color: #bfbf7f; text-decoration-color: #bfbf7f\">│   │   </span><span style=\"color: #808000; text-decoration-color: #808000\">\"\"\"</span>                                                                                <span style=\"color: #800000; text-decoration-color: #800000\">│</span>\n",
       "<span style=\"color: #800000; text-decoration-color: #800000\">│</span>   <span style=\"color: #7f7f7f; text-decoration-color: #7f7f7f\"> 61 </span><span style=\"color: #7f7f7f; text-decoration-color: #7f7f7f\">│   │   </span><span style=\"color: #0000ff; text-decoration-color: #0000ff\">try</span>:                                                                               <span style=\"color: #800000; text-decoration-color: #800000\">│</span>\n",
       "<span style=\"color: #800000; text-decoration-color: #800000\">│</span> <span style=\"color: #800000; text-decoration-color: #800000\">❱ </span> 62 <span style=\"color: #7f7f7f; text-decoration-color: #7f7f7f\">│   │   │   </span><span style=\"color: #0000ff; text-decoration-color: #0000ff\">return</span> <span style=\"color: #00ffff; text-decoration-color: #00ffff\">self</span>._load_extension(module_str)                                        <span style=\"color: #800000; text-decoration-color: #800000\">│</span>\n",
       "<span style=\"color: #800000; text-decoration-color: #800000\">│</span>   <span style=\"color: #7f7f7f; text-decoration-color: #7f7f7f\"> 63 </span><span style=\"color: #7f7f7f; text-decoration-color: #7f7f7f\">│   │   </span><span style=\"color: #0000ff; text-decoration-color: #0000ff\">except</span> <span style=\"color: #00ffff; text-decoration-color: #00ffff\">ModuleNotFoundError</span>:                                                        <span style=\"color: #800000; text-decoration-color: #800000\">│</span>\n",
       "<span style=\"color: #800000; text-decoration-color: #800000\">│</span>   <span style=\"color: #7f7f7f; text-decoration-color: #7f7f7f\"> 64 </span><span style=\"color: #7f7f7f; text-decoration-color: #7f7f7f\">│   │   │   </span><span style=\"color: #0000ff; text-decoration-color: #0000ff\">if</span> module_str <span style=\"color: #ff00ff; text-decoration-color: #ff00ff\">in</span> BUILTINS_EXTS:                                                <span style=\"color: #800000; text-decoration-color: #800000\">│</span>\n",
       "<span style=\"color: #800000; text-decoration-color: #800000\">│</span>   <span style=\"color: #7f7f7f; text-decoration-color: #7f7f7f\"> 65 </span><span style=\"color: #7f7f7f; text-decoration-color: #7f7f7f\">│   │   │   │   </span>BUILTINS_EXTS[module_str] = <span style=\"color: #0000ff; text-decoration-color: #0000ff\">True</span>                                           <span style=\"color: #800000; text-decoration-color: #800000\">│</span>\n",
       "<span style=\"color: #800000; text-decoration-color: #800000\">│</span>                                                                                                  <span style=\"color: #800000; text-decoration-color: #800000\">│</span>\n",
       "<span style=\"color: #800000; text-decoration-color: #800000\">│</span> <span style=\"color: #bfbf7f; text-decoration-color: #bfbf7f\">/Users/Merel_Theisen/anaconda3/envs/iris-databricks/lib/python3.10/site-packages/IPython/core/</span><span style=\"color: #808000; text-decoration-color: #808000; font-weight: bold\">ex</span> <span style=\"color: #800000; text-decoration-color: #800000\">│</span>\n",
       "<span style=\"color: #800000; text-decoration-color: #800000\">│</span> <span style=\"color: #808000; text-decoration-color: #808000; font-weight: bold\">tensions.py</span>:<span style=\"color: #0000ff; text-decoration-color: #0000ff\">79</span> in <span style=\"color: #00ff00; text-decoration-color: #00ff00\">_load_extension</span>                                                                <span style=\"color: #800000; text-decoration-color: #800000\">│</span>\n",
       "<span style=\"color: #800000; text-decoration-color: #800000\">│</span>                                                                                                  <span style=\"color: #800000; text-decoration-color: #800000\">│</span>\n",
       "<span style=\"color: #800000; text-decoration-color: #800000\">│</span>   <span style=\"color: #7f7f7f; text-decoration-color: #7f7f7f\"> 76 </span><span style=\"color: #7f7f7f; text-decoration-color: #7f7f7f\">│   │   │   </span><span style=\"color: #0000ff; text-decoration-color: #0000ff\">if</span> module_str <span style=\"color: #ff00ff; text-decoration-color: #ff00ff\">not</span> <span style=\"color: #ff00ff; text-decoration-color: #ff00ff\">in</span> sys.modules:                                              <span style=\"color: #800000; text-decoration-color: #800000\">│</span>\n",
       "<span style=\"color: #800000; text-decoration-color: #800000\">│</span>   <span style=\"color: #7f7f7f; text-decoration-color: #7f7f7f\"> 77 </span><span style=\"color: #7f7f7f; text-decoration-color: #7f7f7f\">│   │   │   │   </span>mod = import_module(module_str)                                            <span style=\"color: #800000; text-decoration-color: #800000\">│</span>\n",
       "<span style=\"color: #800000; text-decoration-color: #800000\">│</span>   <span style=\"color: #7f7f7f; text-decoration-color: #7f7f7f\"> 78 </span><span style=\"color: #7f7f7f; text-decoration-color: #7f7f7f\">│   │   │   </span>mod = sys.modules[module_str]                                                  <span style=\"color: #800000; text-decoration-color: #800000\">│</span>\n",
       "<span style=\"color: #800000; text-decoration-color: #800000\">│</span> <span style=\"color: #800000; text-decoration-color: #800000\">❱ </span> 79 <span style=\"color: #7f7f7f; text-decoration-color: #7f7f7f\">│   │   │   </span><span style=\"color: #0000ff; text-decoration-color: #0000ff\">if</span> <span style=\"color: #00ffff; text-decoration-color: #00ffff\">self</span>._call_load_ipython_extension(mod):                                     <span style=\"color: #800000; text-decoration-color: #800000\">│</span>\n",
       "<span style=\"color: #800000; text-decoration-color: #800000\">│</span>   <span style=\"color: #7f7f7f; text-decoration-color: #7f7f7f\"> 80 </span><span style=\"color: #7f7f7f; text-decoration-color: #7f7f7f\">│   │   │   │   </span><span style=\"color: #00ffff; text-decoration-color: #00ffff\">self</span>.loaded.add(module_str)                                                <span style=\"color: #800000; text-decoration-color: #800000\">│</span>\n",
       "<span style=\"color: #800000; text-decoration-color: #800000\">│</span>   <span style=\"color: #7f7f7f; text-decoration-color: #7f7f7f\"> 81 </span><span style=\"color: #7f7f7f; text-decoration-color: #7f7f7f\">│   │   │   </span><span style=\"color: #0000ff; text-decoration-color: #0000ff\">else</span>:                                                                          <span style=\"color: #800000; text-decoration-color: #800000\">│</span>\n",
       "<span style=\"color: #800000; text-decoration-color: #800000\">│</span>   <span style=\"color: #7f7f7f; text-decoration-color: #7f7f7f\"> 82 </span><span style=\"color: #7f7f7f; text-decoration-color: #7f7f7f\">│   │   │   │   </span><span style=\"color: #0000ff; text-decoration-color: #0000ff\">return</span> <span style=\"color: #808000; text-decoration-color: #808000\">\"no load function\"</span>                                                  <span style=\"color: #800000; text-decoration-color: #800000\">│</span>\n",
       "<span style=\"color: #800000; text-decoration-color: #800000\">│</span>                                                                                                  <span style=\"color: #800000; text-decoration-color: #800000\">│</span>\n",
       "<span style=\"color: #800000; text-decoration-color: #800000\">│</span> <span style=\"color: #bfbf7f; text-decoration-color: #bfbf7f\">/Users/Merel_Theisen/anaconda3/envs/iris-databricks/lib/python3.10/site-packages/IPython/core/</span><span style=\"color: #808000; text-decoration-color: #808000; font-weight: bold\">ex</span> <span style=\"color: #800000; text-decoration-color: #800000\">│</span>\n",
       "<span style=\"color: #800000; text-decoration-color: #800000\">│</span> <span style=\"color: #808000; text-decoration-color: #808000; font-weight: bold\">tensions.py</span>:<span style=\"color: #0000ff; text-decoration-color: #0000ff\">129</span> in <span style=\"color: #00ff00; text-decoration-color: #00ff00\">_call_load_ipython_extension</span>                                                  <span style=\"color: #800000; text-decoration-color: #800000\">│</span>\n",
       "<span style=\"color: #800000; text-decoration-color: #800000\">│</span>                                                                                                  <span style=\"color: #800000; text-decoration-color: #800000\">│</span>\n",
       "<span style=\"color: #800000; text-decoration-color: #800000\">│</span>   <span style=\"color: #7f7f7f; text-decoration-color: #7f7f7f\">126 </span><span style=\"color: #7f7f7f; text-decoration-color: #7f7f7f\">│   </span>                                                                                       <span style=\"color: #800000; text-decoration-color: #800000\">│</span>\n",
       "<span style=\"color: #800000; text-decoration-color: #800000\">│</span>   <span style=\"color: #7f7f7f; text-decoration-color: #7f7f7f\">127 </span><span style=\"color: #7f7f7f; text-decoration-color: #7f7f7f\">│   </span><span style=\"color: #0000ff; text-decoration-color: #0000ff\">def</span> <span style=\"color: #00ff00; text-decoration-color: #00ff00\">_call_load_ipython_extension</span>(<span style=\"color: #00ffff; text-decoration-color: #00ffff\">self</span>, mod):                                           <span style=\"color: #800000; text-decoration-color: #800000\">│</span>\n",
       "<span style=\"color: #800000; text-decoration-color: #800000\">│</span>   <span style=\"color: #7f7f7f; text-decoration-color: #7f7f7f\">128 </span><span style=\"color: #7f7f7f; text-decoration-color: #7f7f7f\">│   │   </span><span style=\"color: #0000ff; text-decoration-color: #0000ff\">if</span> <span style=\"color: #00ffff; text-decoration-color: #00ffff\">hasattr</span>(mod, <span style=\"color: #808000; text-decoration-color: #808000\">'load_ipython_extension'</span>):                                         <span style=\"color: #800000; text-decoration-color: #800000\">│</span>\n",
       "<span style=\"color: #800000; text-decoration-color: #800000\">│</span> <span style=\"color: #800000; text-decoration-color: #800000\">❱ </span>129 <span style=\"color: #7f7f7f; text-decoration-color: #7f7f7f\">│   │   │   </span>mod.load_ipython_extension(<span style=\"color: #00ffff; text-decoration-color: #00ffff\">self</span>.shell)                                         <span style=\"color: #800000; text-decoration-color: #800000\">│</span>\n",
       "<span style=\"color: #800000; text-decoration-color: #800000\">│</span>   <span style=\"color: #7f7f7f; text-decoration-color: #7f7f7f\">130 </span><span style=\"color: #7f7f7f; text-decoration-color: #7f7f7f\">│   │   │   </span><span style=\"color: #0000ff; text-decoration-color: #0000ff\">return</span> <span style=\"color: #0000ff; text-decoration-color: #0000ff\">True</span>                                                                    <span style=\"color: #800000; text-decoration-color: #800000\">│</span>\n",
       "<span style=\"color: #800000; text-decoration-color: #800000\">│</span>   <span style=\"color: #7f7f7f; text-decoration-color: #7f7f7f\">131 </span><span style=\"color: #7f7f7f; text-decoration-color: #7f7f7f\">│   </span>                                                                                       <span style=\"color: #800000; text-decoration-color: #800000\">│</span>\n",
       "<span style=\"color: #800000; text-decoration-color: #800000\">│</span>   <span style=\"color: #7f7f7f; text-decoration-color: #7f7f7f\">132 </span><span style=\"color: #7f7f7f; text-decoration-color: #7f7f7f\">│   </span><span style=\"color: #0000ff; text-decoration-color: #0000ff\">def</span> <span style=\"color: #00ff00; text-decoration-color: #00ff00\">_call_unload_ipython_extension</span>(<span style=\"color: #00ffff; text-decoration-color: #00ffff\">self</span>, mod):                                         <span style=\"color: #800000; text-decoration-color: #800000\">│</span>\n",
       "<span style=\"color: #800000; text-decoration-color: #800000\">│</span>                                                                                                  <span style=\"color: #800000; text-decoration-color: #800000\">│</span>\n",
       "<span style=\"color: #800000; text-decoration-color: #800000\">│</span> <span style=\"color: #bfbf7f; text-decoration-color: #bfbf7f\">/Users/Merel_Theisen/anaconda3/envs/iris-databricks/lib/python3.10/site-packages/kedro/ipython/</span><span style=\"color: #808000; text-decoration-color: #808000; font-weight: bold\">_</span> <span style=\"color: #800000; text-decoration-color: #800000\">│</span>\n",
       "<span style=\"color: #800000; text-decoration-color: #800000\">│</span> <span style=\"color: #808000; text-decoration-color: #808000; font-weight: bold\">_init__.py</span>:<span style=\"color: #0000ff; text-decoration-color: #0000ff\">72</span> in <span style=\"color: #00ff00; text-decoration-color: #00ff00\">load_ipython_extension</span>                                                          <span style=\"color: #800000; text-decoration-color: #800000\">│</span>\n",
       "<span style=\"color: #800000; text-decoration-color: #800000\">│</span>                                                                                                  <span style=\"color: #800000; text-decoration-color: #800000\">│</span>\n",
       "<span style=\"color: #800000; text-decoration-color: #800000\">│</span>   <span style=\"color: #7f7f7f; text-decoration-color: #7f7f7f\"> 69 </span><span style=\"color: #7f7f7f; text-decoration-color: #7f7f7f\">│   │   </span>)                                                                                  <span style=\"color: #800000; text-decoration-color: #800000\">│</span>\n",
       "<span style=\"color: #800000; text-decoration-color: #800000\">│</span>   <span style=\"color: #7f7f7f; text-decoration-color: #7f7f7f\"> 70 </span><span style=\"color: #7f7f7f; text-decoration-color: #7f7f7f\">│   │   </span><span style=\"color: #0000ff; text-decoration-color: #0000ff\">return</span>                                                                             <span style=\"color: #800000; text-decoration-color: #800000\">│</span>\n",
       "<span style=\"color: #800000; text-decoration-color: #800000\">│</span>   <span style=\"color: #7f7f7f; text-decoration-color: #7f7f7f\"> 71 </span><span style=\"color: #7f7f7f; text-decoration-color: #7f7f7f\">│   </span>                                                                                       <span style=\"color: #800000; text-decoration-color: #800000\">│</span>\n",
       "<span style=\"color: #800000; text-decoration-color: #800000\">│</span> <span style=\"color: #800000; text-decoration-color: #800000\">❱ </span> 72 <span style=\"color: #7f7f7f; text-decoration-color: #7f7f7f\">│   </span>reload_kedro()                                                                         <span style=\"color: #800000; text-decoration-color: #800000\">│</span>\n",
       "<span style=\"color: #800000; text-decoration-color: #800000\">│</span>   <span style=\"color: #7f7f7f; text-decoration-color: #7f7f7f\"> 73 </span>                                                                                           <span style=\"color: #800000; text-decoration-color: #800000\">│</span>\n",
       "<span style=\"color: #800000; text-decoration-color: #800000\">│</span>   <span style=\"color: #7f7f7f; text-decoration-color: #7f7f7f\"> 74 </span>                                                                                           <span style=\"color: #800000; text-decoration-color: #800000\">│</span>\n",
       "<span style=\"color: #800000; text-decoration-color: #800000\">│</span>   <span style=\"color: #7f7f7f; text-decoration-color: #7f7f7f\"> 75 </span><span style=\"color: #ff00ff; text-decoration-color: #ff00ff; font-weight: bold\">@typing</span>.no_type_check                                                                      <span style=\"color: #800000; text-decoration-color: #800000\">│</span>\n",
       "<span style=\"color: #800000; text-decoration-color: #800000\">│</span>                                                                                                  <span style=\"color: #800000; text-decoration-color: #800000\">│</span>\n",
       "<span style=\"color: #800000; text-decoration-color: #800000\">│</span> <span style=\"color: #bfbf7f; text-decoration-color: #bfbf7f\">/Users/Merel_Theisen/anaconda3/envs/iris-databricks/lib/python3.10/site-packages/kedro/ipython/</span><span style=\"color: #808000; text-decoration-color: #808000; font-weight: bold\">_</span> <span style=\"color: #800000; text-decoration-color: #800000\">│</span>\n",
       "<span style=\"color: #800000; text-decoration-color: #800000\">│</span> <span style=\"color: #808000; text-decoration-color: #808000; font-weight: bold\">_init__.py</span>:<span style=\"color: #0000ff; text-decoration-color: #0000ff\">133</span> in <span style=\"color: #00ff00; text-decoration-color: #00ff00\">reload_kedro</span>                                                                   <span style=\"color: #800000; text-decoration-color: #800000\">│</span>\n",
       "<span style=\"color: #800000; text-decoration-color: #800000\">│</span>                                                                                                  <span style=\"color: #800000; text-decoration-color: #800000\">│</span>\n",
       "<span style=\"color: #800000; text-decoration-color: #800000\">│</span>   <span style=\"color: #7f7f7f; text-decoration-color: #7f7f7f\">130 </span><span style=\"color: #7f7f7f; text-decoration-color: #7f7f7f\">│   │   </span>conf_source=conf_source,                                                           <span style=\"color: #800000; text-decoration-color: #800000\">│</span>\n",
       "<span style=\"color: #800000; text-decoration-color: #800000\">│</span>   <span style=\"color: #7f7f7f; text-decoration-color: #7f7f7f\">131 </span><span style=\"color: #7f7f7f; text-decoration-color: #7f7f7f\">│   </span>)                                                                                      <span style=\"color: #800000; text-decoration-color: #800000\">│</span>\n",
       "<span style=\"color: #800000; text-decoration-color: #800000\">│</span>   <span style=\"color: #7f7f7f; text-decoration-color: #7f7f7f\">132 </span><span style=\"color: #7f7f7f; text-decoration-color: #7f7f7f\">│   </span>context = session.load_context()                                                       <span style=\"color: #800000; text-decoration-color: #800000\">│</span>\n",
       "<span style=\"color: #800000; text-decoration-color: #800000\">│</span> <span style=\"color: #800000; text-decoration-color: #800000\">❱ </span>133 <span style=\"color: #7f7f7f; text-decoration-color: #7f7f7f\">│   </span>catalog = context.catalog                                                              <span style=\"color: #800000; text-decoration-color: #800000\">│</span>\n",
       "<span style=\"color: #800000; text-decoration-color: #800000\">│</span>   <span style=\"color: #7f7f7f; text-decoration-color: #7f7f7f\">134 </span><span style=\"color: #7f7f7f; text-decoration-color: #7f7f7f\">│   </span>                                                                                       <span style=\"color: #800000; text-decoration-color: #800000\">│</span>\n",
       "<span style=\"color: #800000; text-decoration-color: #800000\">│</span>   <span style=\"color: #7f7f7f; text-decoration-color: #7f7f7f\">135 </span><span style=\"color: #7f7f7f; text-decoration-color: #7f7f7f\">│   </span>get_ipython().push(  <span style=\"color: #7f7f7f; text-decoration-color: #7f7f7f\"># type: ignore[no-untyped-call]</span>                                   <span style=\"color: #800000; text-decoration-color: #800000\">│</span>\n",
       "<span style=\"color: #800000; text-decoration-color: #800000\">│</span>   <span style=\"color: #7f7f7f; text-decoration-color: #7f7f7f\">136 </span><span style=\"color: #7f7f7f; text-decoration-color: #7f7f7f\">│   │   </span>variables={                                                                        <span style=\"color: #800000; text-decoration-color: #800000\">│</span>\n",
       "<span style=\"color: #800000; text-decoration-color: #800000\">│</span>                                                                                                  <span style=\"color: #800000; text-decoration-color: #800000\">│</span>\n",
       "<span style=\"color: #800000; text-decoration-color: #800000\">│</span> <span style=\"color: #bfbf7f; text-decoration-color: #bfbf7f\">/Users/Merel_Theisen/anaconda3/envs/iris-databricks/lib/python3.10/site-packages/kedro/framework</span> <span style=\"color: #800000; text-decoration-color: #800000\">│</span>\n",
       "<span style=\"color: #800000; text-decoration-color: #800000\">│</span> <span style=\"color: #bfbf7f; text-decoration-color: #bfbf7f\">/context/</span><span style=\"color: #808000; text-decoration-color: #808000; font-weight: bold\">context.py</span>:<span style=\"color: #0000ff; text-decoration-color: #0000ff\">190</span> in <span style=\"color: #00ff00; text-decoration-color: #00ff00\">catalog</span>                                                               <span style=\"color: #800000; text-decoration-color: #800000\">│</span>\n",
       "<span style=\"color: #800000; text-decoration-color: #800000\">│</span>                                                                                                  <span style=\"color: #800000; text-decoration-color: #800000\">│</span>\n",
       "<span style=\"color: #800000; text-decoration-color: #800000\">│</span>   <span style=\"color: #7f7f7f; text-decoration-color: #7f7f7f\">187 </span><span style=\"color: #bfbf7f; text-decoration-color: #bfbf7f\">│   │   │   </span><span style=\"color: #808000; text-decoration-color: #808000\">KedroContextError: Incorrect catalog registered for the project.</span>               <span style=\"color: #800000; text-decoration-color: #800000\">│</span>\n",
       "<span style=\"color: #800000; text-decoration-color: #800000\">│</span>   <span style=\"color: #7f7f7f; text-decoration-color: #7f7f7f\">188 </span><span style=\"color: #7f7f7f; text-decoration-color: #7f7f7f\">│   │   </span>                                                                                   <span style=\"color: #800000; text-decoration-color: #800000\">│</span>\n",
       "<span style=\"color: #800000; text-decoration-color: #800000\">│</span>   <span style=\"color: #7f7f7f; text-decoration-color: #7f7f7f\">189 </span><span style=\"color: #bfbf7f; text-decoration-color: #bfbf7f\">│   │   </span><span style=\"color: #808000; text-decoration-color: #808000\">\"\"\"</span>                                                                                <span style=\"color: #800000; text-decoration-color: #800000\">│</span>\n",
       "<span style=\"color: #800000; text-decoration-color: #800000\">│</span> <span style=\"color: #800000; text-decoration-color: #800000\">❱ </span>190 <span style=\"color: #7f7f7f; text-decoration-color: #7f7f7f\">│   │   </span><span style=\"color: #0000ff; text-decoration-color: #0000ff\">return</span> <span style=\"color: #00ffff; text-decoration-color: #00ffff\">self</span>._get_catalog()                                                         <span style=\"color: #800000; text-decoration-color: #800000\">│</span>\n",
       "<span style=\"color: #800000; text-decoration-color: #800000\">│</span>   <span style=\"color: #7f7f7f; text-decoration-color: #7f7f7f\">191 </span><span style=\"color: #7f7f7f; text-decoration-color: #7f7f7f\">│   </span>                                                                                       <span style=\"color: #800000; text-decoration-color: #800000\">│</span>\n",
       "<span style=\"color: #800000; text-decoration-color: #800000\">│</span>   <span style=\"color: #7f7f7f; text-decoration-color: #7f7f7f\">192 </span><span style=\"color: #7f7f7f; text-decoration-color: #7f7f7f\">│   </span><span style=\"color: #ff00ff; text-decoration-color: #ff00ff; font-weight: bold\">@property</span>                                                                              <span style=\"color: #800000; text-decoration-color: #800000\">│</span>\n",
       "<span style=\"color: #800000; text-decoration-color: #800000\">│</span>   <span style=\"color: #7f7f7f; text-decoration-color: #7f7f7f\">193 </span><span style=\"color: #7f7f7f; text-decoration-color: #7f7f7f\">│   </span><span style=\"color: #0000ff; text-decoration-color: #0000ff\">def</span> <span style=\"color: #00ff00; text-decoration-color: #00ff00\">params</span>(<span style=\"color: #00ffff; text-decoration-color: #00ffff\">self</span>) -&gt; <span style=\"color: #00ffff; text-decoration-color: #00ffff\">dict</span>[<span style=\"color: #00ffff; text-decoration-color: #00ffff\">str</span>, Any]:                                                    <span style=\"color: #800000; text-decoration-color: #800000\">│</span>\n",
       "<span style=\"color: #800000; text-decoration-color: #800000\">│</span>                                                                                                  <span style=\"color: #800000; text-decoration-color: #800000\">│</span>\n",
       "<span style=\"color: #800000; text-decoration-color: #800000\">│</span> <span style=\"color: #bfbf7f; text-decoration-color: #bfbf7f\">/Users/Merel_Theisen/anaconda3/envs/iris-databricks/lib/python3.10/site-packages/kedro/framework</span> <span style=\"color: #800000; text-decoration-color: #800000\">│</span>\n",
       "<span style=\"color: #800000; text-decoration-color: #800000\">│</span> <span style=\"color: #bfbf7f; text-decoration-color: #bfbf7f\">/context/</span><span style=\"color: #808000; text-decoration-color: #808000; font-weight: bold\">context.py</span>:<span style=\"color: #0000ff; text-decoration-color: #0000ff\">234</span> in <span style=\"color: #00ff00; text-decoration-color: #00ff00\">_get_catalog</span>                                                          <span style=\"color: #800000; text-decoration-color: #800000\">│</span>\n",
       "<span style=\"color: #800000; text-decoration-color: #800000\">│</span>                                                                                                  <span style=\"color: #800000; text-decoration-color: #800000\">│</span>\n",
       "<span style=\"color: #800000; text-decoration-color: #800000\">│</span>   <span style=\"color: #7f7f7f; text-decoration-color: #7f7f7f\">231 </span><span style=\"color: #7f7f7f; text-decoration-color: #7f7f7f\">│   │   </span>)                                                                                  <span style=\"color: #800000; text-decoration-color: #800000\">│</span>\n",
       "<span style=\"color: #800000; text-decoration-color: #800000\">│</span>   <span style=\"color: #7f7f7f; text-decoration-color: #7f7f7f\">232 </span><span style=\"color: #7f7f7f; text-decoration-color: #7f7f7f\">│   │   </span>conf_creds = <span style=\"color: #00ffff; text-decoration-color: #00ffff\">self</span>._get_config_credentials()                                        <span style=\"color: #800000; text-decoration-color: #800000\">│</span>\n",
       "<span style=\"color: #800000; text-decoration-color: #800000\">│</span>   <span style=\"color: #7f7f7f; text-decoration-color: #7f7f7f\">233 </span><span style=\"color: #7f7f7f; text-decoration-color: #7f7f7f\">│   │   </span>                                                                                   <span style=\"color: #800000; text-decoration-color: #800000\">│</span>\n",
       "<span style=\"color: #800000; text-decoration-color: #800000\">│</span> <span style=\"color: #800000; text-decoration-color: #800000\">❱ </span>234 <span style=\"color: #7f7f7f; text-decoration-color: #7f7f7f\">│   │   </span>catalog: DataCatalog = settings.DATA_CATALOG_CLASS.from_config(                    <span style=\"color: #800000; text-decoration-color: #800000\">│</span>\n",
       "<span style=\"color: #800000; text-decoration-color: #800000\">│</span>   <span style=\"color: #7f7f7f; text-decoration-color: #7f7f7f\">235 </span><span style=\"color: #7f7f7f; text-decoration-color: #7f7f7f\">│   │   │   </span>catalog=conf_catalog,                                                          <span style=\"color: #800000; text-decoration-color: #800000\">│</span>\n",
       "<span style=\"color: #800000; text-decoration-color: #800000\">│</span>   <span style=\"color: #7f7f7f; text-decoration-color: #7f7f7f\">236 </span><span style=\"color: #7f7f7f; text-decoration-color: #7f7f7f\">│   │   │   </span>credentials=conf_creds,                                                        <span style=\"color: #800000; text-decoration-color: #800000\">│</span>\n",
       "<span style=\"color: #800000; text-decoration-color: #800000\">│</span>   <span style=\"color: #7f7f7f; text-decoration-color: #7f7f7f\">237 </span><span style=\"color: #7f7f7f; text-decoration-color: #7f7f7f\">│   │   │   </span>load_versions=load_versions,                                                   <span style=\"color: #800000; text-decoration-color: #800000\">│</span>\n",
       "<span style=\"color: #800000; text-decoration-color: #800000\">│</span>                                                                                                  <span style=\"color: #800000; text-decoration-color: #800000\">│</span>\n",
       "<span style=\"color: #800000; text-decoration-color: #800000\">│</span> <span style=\"color: #bfbf7f; text-decoration-color: #bfbf7f\">/Users/Merel_Theisen/anaconda3/envs/iris-databricks/lib/python3.10/site-packages/kedro/io/</span><span style=\"color: #808000; text-decoration-color: #808000; font-weight: bold\">data_c</span> <span style=\"color: #800000; text-decoration-color: #800000\">│</span>\n",
       "<span style=\"color: #800000; text-decoration-color: #800000\">│</span> <span style=\"color: #808000; text-decoration-color: #808000; font-weight: bold\">atalog.py</span>:<span style=\"color: #0000ff; text-decoration-color: #0000ff\">291</span> in <span style=\"color: #00ff00; text-decoration-color: #00ff00\">from_config</span>                                                                     <span style=\"color: #800000; text-decoration-color: #800000\">│</span>\n",
       "<span style=\"color: #800000; text-decoration-color: #800000\">│</span>                                                                                                  <span style=\"color: #800000; text-decoration-color: #800000\">│</span>\n",
       "<span style=\"color: #800000; text-decoration-color: #800000\">│</span>   <span style=\"color: #7f7f7f; text-decoration-color: #7f7f7f\">288 </span><span style=\"color: #7f7f7f; text-decoration-color: #7f7f7f\">│   │   </span>                                                                                   <span style=\"color: #800000; text-decoration-color: #800000\">│</span>\n",
       "<span style=\"color: #800000; text-decoration-color: #800000\">│</span>   <span style=\"color: #7f7f7f; text-decoration-color: #7f7f7f\">289 </span><span style=\"color: #7f7f7f; text-decoration-color: #7f7f7f\">│   │   </span><span style=\"color: #0000ff; text-decoration-color: #0000ff\">for</span> ds_name <span style=\"color: #ff00ff; text-decoration-color: #ff00ff\">in</span> catalog:                                                            <span style=\"color: #800000; text-decoration-color: #800000\">│</span>\n",
       "<span style=\"color: #800000; text-decoration-color: #800000\">│</span>   <span style=\"color: #7f7f7f; text-decoration-color: #7f7f7f\">290 </span><span style=\"color: #7f7f7f; text-decoration-color: #7f7f7f\">│   │   │   </span><span style=\"color: #0000ff; text-decoration-color: #0000ff\">if</span> <span style=\"color: #ff00ff; text-decoration-color: #ff00ff\">not</span> config_resolver.is_pattern(ds_name):                                    <span style=\"color: #800000; text-decoration-color: #800000\">│</span>\n",
       "<span style=\"color: #800000; text-decoration-color: #800000\">│</span> <span style=\"color: #800000; text-decoration-color: #800000\">❱ </span>291 <span style=\"color: #7f7f7f; text-decoration-color: #7f7f7f\">│   │   │   │   </span>datasets[ds_name] = AbstractDataset.from_config(                           <span style=\"color: #800000; text-decoration-color: #800000\">│</span>\n",
       "<span style=\"color: #800000; text-decoration-color: #800000\">│</span>   <span style=\"color: #7f7f7f; text-decoration-color: #7f7f7f\">292 </span><span style=\"color: #7f7f7f; text-decoration-color: #7f7f7f\">│   │   │   │   │   </span>ds_name,                                                               <span style=\"color: #800000; text-decoration-color: #800000\">│</span>\n",
       "<span style=\"color: #800000; text-decoration-color: #800000\">│</span>   <span style=\"color: #7f7f7f; text-decoration-color: #7f7f7f\">293 </span><span style=\"color: #7f7f7f; text-decoration-color: #7f7f7f\">│   │   │   │   │   </span>config_resolver.config.get(ds_name, {}),                               <span style=\"color: #800000; text-decoration-color: #800000\">│</span>\n",
       "<span style=\"color: #800000; text-decoration-color: #800000\">│</span>   <span style=\"color: #7f7f7f; text-decoration-color: #7f7f7f\">294 </span><span style=\"color: #7f7f7f; text-decoration-color: #7f7f7f\">│   │   │   │   │   </span>load_versions.get(ds_name),                                            <span style=\"color: #800000; text-decoration-color: #800000\">│</span>\n",
       "<span style=\"color: #800000; text-decoration-color: #800000\">│</span>                                                                                                  <span style=\"color: #800000; text-decoration-color: #800000\">│</span>\n",
       "<span style=\"color: #800000; text-decoration-color: #800000\">│</span> <span style=\"color: #bfbf7f; text-decoration-color: #bfbf7f\">/Users/Merel_Theisen/anaconda3/envs/iris-databricks/lib/python3.10/site-packages/kedro/io/</span><span style=\"color: #808000; text-decoration-color: #808000; font-weight: bold\">core.p</span> <span style=\"color: #800000; text-decoration-color: #800000\">│</span>\n",
       "<span style=\"color: #800000; text-decoration-color: #800000\">│</span> <span style=\"color: #808000; text-decoration-color: #808000; font-weight: bold\">y</span>:<span style=\"color: #0000ff; text-decoration-color: #0000ff\">185</span> in <span style=\"color: #00ff00; text-decoration-color: #00ff00\">from_config</span>                                                                             <span style=\"color: #800000; text-decoration-color: #800000\">│</span>\n",
       "<span style=\"color: #800000; text-decoration-color: #800000\">│</span>                                                                                                  <span style=\"color: #800000; text-decoration-color: #800000\">│</span>\n",
       "<span style=\"color: #800000; text-decoration-color: #800000\">│</span>   <span style=\"color: #7f7f7f; text-decoration-color: #7f7f7f\">182 </span><span style=\"color: #7f7f7f; text-decoration-color: #7f7f7f\">│   │   │   │   </span>config, load_version, save_version                                         <span style=\"color: #800000; text-decoration-color: #800000\">│</span>\n",
       "<span style=\"color: #800000; text-decoration-color: #800000\">│</span>   <span style=\"color: #7f7f7f; text-decoration-color: #7f7f7f\">183 </span><span style=\"color: #7f7f7f; text-decoration-color: #7f7f7f\">│   │   │   </span>)                                                                              <span style=\"color: #800000; text-decoration-color: #800000\">│</span>\n",
       "<span style=\"color: #800000; text-decoration-color: #800000\">│</span>   <span style=\"color: #7f7f7f; text-decoration-color: #7f7f7f\">184 </span><span style=\"color: #7f7f7f; text-decoration-color: #7f7f7f\">│   │   </span><span style=\"color: #0000ff; text-decoration-color: #0000ff\">except</span> <span style=\"color: #00ffff; text-decoration-color: #00ffff\">Exception</span> <span style=\"color: #0000ff; text-decoration-color: #0000ff\">as</span> exc:                                                           <span style=\"color: #800000; text-decoration-color: #800000\">│</span>\n",
       "<span style=\"color: #800000; text-decoration-color: #800000\">│</span> <span style=\"color: #800000; text-decoration-color: #800000\">❱ </span>185 <span style=\"color: #7f7f7f; text-decoration-color: #7f7f7f\">│   │   │   </span><span style=\"color: #0000ff; text-decoration-color: #0000ff\">raise</span> DatasetError(                                                            <span style=\"color: #800000; text-decoration-color: #800000\">│</span>\n",
       "<span style=\"color: #800000; text-decoration-color: #800000\">│</span>   <span style=\"color: #7f7f7f; text-decoration-color: #7f7f7f\">186 </span><span style=\"color: #7f7f7f; text-decoration-color: #7f7f7f\">│   │   │   │   </span><span style=\"color: #808000; text-decoration-color: #808000\">f\"An exception occurred when parsing config \"</span>                              <span style=\"color: #800000; text-decoration-color: #800000\">│</span>\n",
       "<span style=\"color: #800000; text-decoration-color: #800000\">│</span>   <span style=\"color: #7f7f7f; text-decoration-color: #7f7f7f\">187 </span><span style=\"color: #7f7f7f; text-decoration-color: #7f7f7f\">│   │   │   │   </span><span style=\"color: #808000; text-decoration-color: #808000\">f\"for dataset '{</span>name<span style=\"color: #808000; text-decoration-color: #808000\">}':\\n{</span>exc<span style=\"color: #808000; text-decoration-color: #808000\">!s}\"</span>                                          <span style=\"color: #800000; text-decoration-color: #800000\">│</span>\n",
       "<span style=\"color: #800000; text-decoration-color: #800000\">│</span>   <span style=\"color: #7f7f7f; text-decoration-color: #7f7f7f\">188 </span><span style=\"color: #7f7f7f; text-decoration-color: #7f7f7f\">│   │   │   </span>) <span style=\"color: #0000ff; text-decoration-color: #0000ff\">from</span> <span style=\"color: #00ffff; text-decoration-color: #00ffff; text-decoration: underline\">exc</span>                                                                     <span style=\"color: #800000; text-decoration-color: #800000\">│</span>\n",
       "<span style=\"color: #800000; text-decoration-color: #800000\">╰──────────────────────────────────────────────────────────────────────────────────────────────────╯</span>\n",
       "<span style=\"color: #ff0000; text-decoration-color: #ff0000; font-weight: bold\">DatasetError: </span>An exception occurred when parsing config for dataset <span style=\"color: #008000; text-decoration-color: #008000\">'regressor'</span>:\n",
       "Class <span style=\"color: #008000; text-decoration-color: #008000\">'kedro_mlflow.io.models.MlflowModelTrackingDataset'</span> not found, is this a typo?\n",
       "Hint: If you are trying to use a dataset from `kedro-datasets`, make sure that the package is installed in your \n",
       "current environment. You can do so by running `pip install kedro-datasets` or `pip install \n",
       "kedro-datasets<span style=\"font-weight: bold\">[&lt;</span><span style=\"color: #ff00ff; text-decoration-color: #ff00ff; font-weight: bold\">dataset-group</span><span style=\"font-weight: bold\">&gt;]</span>` to install `kedro-datasets` along with related dependencies for the specific \n",
       "dataset group.\n",
       "</pre>\n"
      ],
      "text/plain": [
       "\u001B[31m╭─\u001B[0m\u001B[31m──────────────────────────────\u001B[0m\u001B[31m \u001B[0m\u001B[1;31mTraceback \u001B[0m\u001B[1;2;31m(most recent call last)\u001B[0m\u001B[31m \u001B[0m\u001B[31m───────────────────────────────\u001B[0m\u001B[31m─╮\u001B[0m\n",
       "\u001B[31m│\u001B[0m \u001B[2;33m/Users/Merel_Theisen/anaconda3/envs/iris-databricks/lib/python3.10/site-packages/kedro/io/\u001B[0m\u001B[1;33mcore.p\u001B[0m \u001B[31m│\u001B[0m\n",
       "\u001B[31m│\u001B[0m \u001B[1;33my\u001B[0m:\u001B[94m181\u001B[0m in \u001B[92mfrom_config\u001B[0m                                                                             \u001B[31m│\u001B[0m\n",
       "\u001B[31m│\u001B[0m                                                                                                  \u001B[31m│\u001B[0m\n",
       "\u001B[31m│\u001B[0m   \u001B[2m178 \u001B[0m\u001B[2m│   │   \u001B[0m                                                                                   \u001B[31m│\u001B[0m\n",
       "\u001B[31m│\u001B[0m   \u001B[2m179 \u001B[0m\u001B[2;33m│   │   \u001B[0m\u001B[33m\"\"\"\u001B[0m                                                                                \u001B[31m│\u001B[0m\n",
       "\u001B[31m│\u001B[0m   \u001B[2m180 \u001B[0m\u001B[2m│   │   \u001B[0m\u001B[94mtry\u001B[0m:                                                                               \u001B[31m│\u001B[0m\n",
       "\u001B[31m│\u001B[0m \u001B[31m❱ \u001B[0m181 \u001B[2m│   │   │   \u001B[0mclass_obj, config = parse_dataset_definition(                                  \u001B[31m│\u001B[0m\n",
       "\u001B[31m│\u001B[0m   \u001B[2m182 \u001B[0m\u001B[2m│   │   │   │   \u001B[0mconfig, load_version, save_version                                         \u001B[31m│\u001B[0m\n",
       "\u001B[31m│\u001B[0m   \u001B[2m183 \u001B[0m\u001B[2m│   │   │   \u001B[0m)                                                                              \u001B[31m│\u001B[0m\n",
       "\u001B[31m│\u001B[0m   \u001B[2m184 \u001B[0m\u001B[2m│   │   \u001B[0m\u001B[94mexcept\u001B[0m \u001B[96mException\u001B[0m \u001B[94mas\u001B[0m exc:                                                           \u001B[31m│\u001B[0m\n",
       "\u001B[31m│\u001B[0m                                                                                                  \u001B[31m│\u001B[0m\n",
       "\u001B[31m│\u001B[0m \u001B[2;33m/Users/Merel_Theisen/anaconda3/envs/iris-databricks/lib/python3.10/site-packages/kedro/io/\u001B[0m\u001B[1;33mcore.p\u001B[0m \u001B[31m│\u001B[0m\n",
       "\u001B[31m│\u001B[0m \u001B[1;33my\u001B[0m:\u001B[94m517\u001B[0m in \u001B[92mparse_dataset_definition\u001B[0m                                                                \u001B[31m│\u001B[0m\n",
       "\u001B[31m│\u001B[0m                                                                                                  \u001B[31m│\u001B[0m\n",
       "\u001B[31m│\u001B[0m   \u001B[2m514 \u001B[0m\u001B[2m│   │   │   │   \u001B[0m\u001B[33m\"\u001B[0m\u001B[33m`pip install kedro-datasets[<dataset-group>]` to install `kedro-dataset\u001B[0m   \u001B[31m│\u001B[0m\n",
       "\u001B[31m│\u001B[0m   \u001B[2m515 \u001B[0m\u001B[2m│   │   │   │   \u001B[0m\u001B[33m\"\u001B[0m\u001B[33mrelated dependencies for the specific dataset group.\u001B[0m\u001B[33m\"\u001B[0m                     \u001B[31m│\u001B[0m\n",
       "\u001B[31m│\u001B[0m   \u001B[2m516 \u001B[0m\u001B[2m│   │   │   \u001B[0m)                                                                              \u001B[31m│\u001B[0m\n",
       "\u001B[31m│\u001B[0m \u001B[31m❱ \u001B[0m517 \u001B[2m│   │   │   \u001B[0m\u001B[94mraise\u001B[0m DatasetError(                                                            \u001B[31m│\u001B[0m\n",
       "\u001B[31m│\u001B[0m   \u001B[2m518 \u001B[0m\u001B[2m│   │   │   │   \u001B[0m\u001B[33mf\u001B[0m\u001B[33m\"\u001B[0m\u001B[33mClass \u001B[0m\u001B[33m'\u001B[0m\u001B[33m{\u001B[0mdataset_type\u001B[33m}\u001B[0m\u001B[33m'\u001B[0m\u001B[33m not found, is this a typo?\u001B[0m\u001B[33m\"\u001B[0m \u001B[33mf\u001B[0m\u001B[33m\"\u001B[0m\u001B[33m\\n\u001B[0m\u001B[33m{\u001B[0mhint\u001B[33m}\u001B[0m\u001B[33m\"\u001B[0m           \u001B[31m│\u001B[0m\n",
       "\u001B[31m│\u001B[0m   \u001B[2m519 \u001B[0m\u001B[2m│   │   │   \u001B[0m)                                                                              \u001B[31m│\u001B[0m\n",
       "\u001B[31m│\u001B[0m   \u001B[2m520 \u001B[0m                                                                                           \u001B[31m│\u001B[0m\n",
       "\u001B[31m╰──────────────────────────────────────────────────────────────────────────────────────────────────╯\u001B[0m\n",
       "\u001B[1;91mDatasetError: \u001B[0mClass \u001B[32m'kedro_mlflow.io.models.MlflowModelTrackingDataset'\u001B[0m not found, is this a typo?\n",
       "Hint: If you are trying to use a dataset from `kedro-datasets`, make sure that the package is installed in your \n",
       "current environment. You can do so by running `pip install kedro-datasets` or `pip install \n",
       "kedro-datasets\u001B[1m[\u001B[0m\u001B[1m<\u001B[0m\u001B[1;95mdataset-group\u001B[0m\u001B[1m>\u001B[0m\u001B[1m]\u001B[0m` to install `kedro-datasets` along with related dependencies for the specific \n",
       "dataset group.\n",
       "\n",
       "\u001B[3mThe above exception was the direct cause of the following exception:\u001B[0m\n",
       "\n",
       "\u001B[31m╭─\u001B[0m\u001B[31m──────────────────────────────\u001B[0m\u001B[31m \u001B[0m\u001B[1;31mTraceback \u001B[0m\u001B[1;2;31m(most recent call last)\u001B[0m\u001B[31m \u001B[0m\u001B[31m───────────────────────────────\u001B[0m\u001B[31m─╮\u001B[0m\n",
       "\u001B[31m│\u001B[0m in \u001B[92m<module>\u001B[0m:\u001B[94m1\u001B[0m                                                                                    \u001B[31m│\u001B[0m\n",
       "\u001B[31m│\u001B[0m                                                                                                  \u001B[31m│\u001B[0m\n",
       "\u001B[31m│\u001B[0m \u001B[31m❱ \u001B[0m1 get_ipython().run_line_magic(\u001B[33m'\u001B[0m\u001B[33mload_ext\u001B[0m\u001B[33m'\u001B[0m, \u001B[33m'\u001B[0m\u001B[33mkedro.ipython\u001B[0m\u001B[33m'\u001B[0m)                                    \u001B[31m│\u001B[0m\n",
       "\u001B[31m│\u001B[0m   \u001B[2m2 \u001B[0m                                                                                             \u001B[31m│\u001B[0m\n",
       "\u001B[31m│\u001B[0m                                                                                                  \u001B[31m│\u001B[0m\n",
       "\u001B[31m│\u001B[0m \u001B[2;33m/Users/Merel_Theisen/anaconda3/envs/iris-databricks/lib/python3.10/site-packages/IPython/core/\u001B[0m\u001B[1;33min\u001B[0m \u001B[31m│\u001B[0m\n",
       "\u001B[31m│\u001B[0m \u001B[1;33mteractiveshell.py\u001B[0m:\u001B[94m2480\u001B[0m in \u001B[92mrun_line_magic\u001B[0m                                                         \u001B[31m│\u001B[0m\n",
       "\u001B[31m│\u001B[0m                                                                                                  \u001B[31m│\u001B[0m\n",
       "\u001B[31m│\u001B[0m   \u001B[2m2477 \u001B[0m\u001B[2m│   │   │   \u001B[0m\u001B[94mif\u001B[0m \u001B[96mgetattr\u001B[0m(fn, \u001B[33m\"\u001B[0m\u001B[33mneeds_local_scope\u001B[0m\u001B[33m\"\u001B[0m, \u001B[94mFalse\u001B[0m):                                   \u001B[31m│\u001B[0m\n",
       "\u001B[31m│\u001B[0m   \u001B[2m2478 \u001B[0m\u001B[2m│   │   │   │   \u001B[0mkwargs[\u001B[33m'\u001B[0m\u001B[33mlocal_ns\u001B[0m\u001B[33m'\u001B[0m] = \u001B[96mself\u001B[0m.get_local_scope(stack_depth)                    \u001B[31m│\u001B[0m\n",
       "\u001B[31m│\u001B[0m   \u001B[2m2479 \u001B[0m\u001B[2m│   │   │   \u001B[0m\u001B[94mwith\u001B[0m \u001B[96mself\u001B[0m.builtin_trap:                                                       \u001B[31m│\u001B[0m\n",
       "\u001B[31m│\u001B[0m \u001B[31m❱ \u001B[0m2480 \u001B[2m│   │   │   │   \u001B[0mresult = fn(*args, **kwargs)                                              \u001B[31m│\u001B[0m\n",
       "\u001B[31m│\u001B[0m   \u001B[2m2481 \u001B[0m\u001B[2m│   │   │   \u001B[0m                                                                              \u001B[31m│\u001B[0m\n",
       "\u001B[31m│\u001B[0m   \u001B[2m2482 \u001B[0m\u001B[2m│   │   │   \u001B[0m\u001B[2m# The code below prevents the output from being displayed\u001B[0m                     \u001B[31m│\u001B[0m\n",
       "\u001B[31m│\u001B[0m   \u001B[2m2483 \u001B[0m\u001B[2m│   │   │   \u001B[0m\u001B[2m# when using magics with decorator @output_can_be_silenced\u001B[0m                    \u001B[31m│\u001B[0m\n",
       "\u001B[31m│\u001B[0m                                                                                                  \u001B[31m│\u001B[0m\n",
       "\u001B[31m│\u001B[0m \u001B[2;33m/Users/Merel_Theisen/anaconda3/envs/iris-databricks/lib/python3.10/site-packages/IPython/core/ma\u001B[0m \u001B[31m│\u001B[0m\n",
       "\u001B[31m│\u001B[0m \u001B[2;33mgics/\u001B[0m\u001B[1;33mextension.py\u001B[0m:\u001B[94m33\u001B[0m in \u001B[92mload_ext\u001B[0m                                                                 \u001B[31m│\u001B[0m\n",
       "\u001B[31m│\u001B[0m                                                                                                  \u001B[31m│\u001B[0m\n",
       "\u001B[31m│\u001B[0m   \u001B[2m30 \u001B[0m\u001B[2;90m│   │   \u001B[0m\u001B[33m\"\"\"Load an IPython extension by its module name.\"\"\"\u001B[0m                                 \u001B[31m│\u001B[0m\n",
       "\u001B[31m│\u001B[0m   \u001B[2m31 \u001B[0m\u001B[2m│   │   \u001B[0m\u001B[94mif\u001B[0m \u001B[95mnot\u001B[0m module_str:                                                                  \u001B[31m│\u001B[0m\n",
       "\u001B[31m│\u001B[0m   \u001B[2m32 \u001B[0m\u001B[2m│   │   │   \u001B[0m\u001B[94mraise\u001B[0m UsageError(\u001B[33m'\u001B[0m\u001B[33mMissing module name.\u001B[0m\u001B[33m'\u001B[0m)                                        \u001B[31m│\u001B[0m\n",
       "\u001B[31m│\u001B[0m \u001B[31m❱ \u001B[0m33 \u001B[2m│   │   \u001B[0mres = \u001B[96mself\u001B[0m.shell.extension_manager.load_extension(module_str)                       \u001B[31m│\u001B[0m\n",
       "\u001B[31m│\u001B[0m   \u001B[2m34 \u001B[0m\u001B[2m│   │   \u001B[0m                                                                                    \u001B[31m│\u001B[0m\n",
       "\u001B[31m│\u001B[0m   \u001B[2m35 \u001B[0m\u001B[2m│   │   \u001B[0m\u001B[94mif\u001B[0m res == \u001B[33m'\u001B[0m\u001B[33malready loaded\u001B[0m\u001B[33m'\u001B[0m:                                                         \u001B[31m│\u001B[0m\n",
       "\u001B[31m│\u001B[0m   \u001B[2m36 \u001B[0m\u001B[2m│   │   │   \u001B[0m\u001B[96mprint\u001B[0m(\u001B[33m\"\u001B[0m\u001B[33mThe \u001B[0m\u001B[33m%s\u001B[0m\u001B[33m extension is already loaded. To reload it, use:\u001B[0m\u001B[33m\"\u001B[0m % module_str)    \u001B[31m│\u001B[0m\n",
       "\u001B[31m│\u001B[0m                                                                                                  \u001B[31m│\u001B[0m\n",
       "\u001B[31m│\u001B[0m \u001B[2;33m/Users/Merel_Theisen/anaconda3/envs/iris-databricks/lib/python3.10/site-packages/IPython/core/\u001B[0m\u001B[1;33mex\u001B[0m \u001B[31m│\u001B[0m\n",
       "\u001B[31m│\u001B[0m \u001B[1;33mtensions.py\u001B[0m:\u001B[94m62\u001B[0m in \u001B[92mload_extension\u001B[0m                                                                 \u001B[31m│\u001B[0m\n",
       "\u001B[31m│\u001B[0m                                                                                                  \u001B[31m│\u001B[0m\n",
       "\u001B[31m│\u001B[0m   \u001B[2m 59 \u001B[0m\u001B[2;33m│   │   \u001B[0m\u001B[33mfunction, or None if it succeeded.\u001B[0m                                                 \u001B[31m│\u001B[0m\n",
       "\u001B[31m│\u001B[0m   \u001B[2m 60 \u001B[0m\u001B[2;33m│   │   \u001B[0m\u001B[33m\"\"\"\u001B[0m                                                                                \u001B[31m│\u001B[0m\n",
       "\u001B[31m│\u001B[0m   \u001B[2m 61 \u001B[0m\u001B[2m│   │   \u001B[0m\u001B[94mtry\u001B[0m:                                                                               \u001B[31m│\u001B[0m\n",
       "\u001B[31m│\u001B[0m \u001B[31m❱ \u001B[0m 62 \u001B[2m│   │   │   \u001B[0m\u001B[94mreturn\u001B[0m \u001B[96mself\u001B[0m._load_extension(module_str)                                        \u001B[31m│\u001B[0m\n",
       "\u001B[31m│\u001B[0m   \u001B[2m 63 \u001B[0m\u001B[2m│   │   \u001B[0m\u001B[94mexcept\u001B[0m \u001B[96mModuleNotFoundError\u001B[0m:                                                        \u001B[31m│\u001B[0m\n",
       "\u001B[31m│\u001B[0m   \u001B[2m 64 \u001B[0m\u001B[2m│   │   │   \u001B[0m\u001B[94mif\u001B[0m module_str \u001B[95min\u001B[0m BUILTINS_EXTS:                                                \u001B[31m│\u001B[0m\n",
       "\u001B[31m│\u001B[0m   \u001B[2m 65 \u001B[0m\u001B[2m│   │   │   │   \u001B[0mBUILTINS_EXTS[module_str] = \u001B[94mTrue\u001B[0m                                           \u001B[31m│\u001B[0m\n",
       "\u001B[31m│\u001B[0m                                                                                                  \u001B[31m│\u001B[0m\n",
       "\u001B[31m│\u001B[0m \u001B[2;33m/Users/Merel_Theisen/anaconda3/envs/iris-databricks/lib/python3.10/site-packages/IPython/core/\u001B[0m\u001B[1;33mex\u001B[0m \u001B[31m│\u001B[0m\n",
       "\u001B[31m│\u001B[0m \u001B[1;33mtensions.py\u001B[0m:\u001B[94m79\u001B[0m in \u001B[92m_load_extension\u001B[0m                                                                \u001B[31m│\u001B[0m\n",
       "\u001B[31m│\u001B[0m                                                                                                  \u001B[31m│\u001B[0m\n",
       "\u001B[31m│\u001B[0m   \u001B[2m 76 \u001B[0m\u001B[2m│   │   │   \u001B[0m\u001B[94mif\u001B[0m module_str \u001B[95mnot\u001B[0m \u001B[95min\u001B[0m sys.modules:                                              \u001B[31m│\u001B[0m\n",
       "\u001B[31m│\u001B[0m   \u001B[2m 77 \u001B[0m\u001B[2m│   │   │   │   \u001B[0mmod = import_module(module_str)                                            \u001B[31m│\u001B[0m\n",
       "\u001B[31m│\u001B[0m   \u001B[2m 78 \u001B[0m\u001B[2m│   │   │   \u001B[0mmod = sys.modules[module_str]                                                  \u001B[31m│\u001B[0m\n",
       "\u001B[31m│\u001B[0m \u001B[31m❱ \u001B[0m 79 \u001B[2m│   │   │   \u001B[0m\u001B[94mif\u001B[0m \u001B[96mself\u001B[0m._call_load_ipython_extension(mod):                                     \u001B[31m│\u001B[0m\n",
       "\u001B[31m│\u001B[0m   \u001B[2m 80 \u001B[0m\u001B[2m│   │   │   │   \u001B[0m\u001B[96mself\u001B[0m.loaded.add(module_str)                                                \u001B[31m│\u001B[0m\n",
       "\u001B[31m│\u001B[0m   \u001B[2m 81 \u001B[0m\u001B[2m│   │   │   \u001B[0m\u001B[94melse\u001B[0m:                                                                          \u001B[31m│\u001B[0m\n",
       "\u001B[31m│\u001B[0m   \u001B[2m 82 \u001B[0m\u001B[2m│   │   │   │   \u001B[0m\u001B[94mreturn\u001B[0m \u001B[33m\"\u001B[0m\u001B[33mno load function\u001B[0m\u001B[33m\"\u001B[0m                                                  \u001B[31m│\u001B[0m\n",
       "\u001B[31m│\u001B[0m                                                                                                  \u001B[31m│\u001B[0m\n",
       "\u001B[31m│\u001B[0m \u001B[2;33m/Users/Merel_Theisen/anaconda3/envs/iris-databricks/lib/python3.10/site-packages/IPython/core/\u001B[0m\u001B[1;33mex\u001B[0m \u001B[31m│\u001B[0m\n",
       "\u001B[31m│\u001B[0m \u001B[1;33mtensions.py\u001B[0m:\u001B[94m129\u001B[0m in \u001B[92m_call_load_ipython_extension\u001B[0m                                                  \u001B[31m│\u001B[0m\n",
       "\u001B[31m│\u001B[0m                                                                                                  \u001B[31m│\u001B[0m\n",
       "\u001B[31m│\u001B[0m   \u001B[2m126 \u001B[0m\u001B[2m│   \u001B[0m                                                                                       \u001B[31m│\u001B[0m\n",
       "\u001B[31m│\u001B[0m   \u001B[2m127 \u001B[0m\u001B[2m│   \u001B[0m\u001B[94mdef\u001B[0m \u001B[92m_call_load_ipython_extension\u001B[0m(\u001B[96mself\u001B[0m, mod):                                           \u001B[31m│\u001B[0m\n",
       "\u001B[31m│\u001B[0m   \u001B[2m128 \u001B[0m\u001B[2m│   │   \u001B[0m\u001B[94mif\u001B[0m \u001B[96mhasattr\u001B[0m(mod, \u001B[33m'\u001B[0m\u001B[33mload_ipython_extension\u001B[0m\u001B[33m'\u001B[0m):                                         \u001B[31m│\u001B[0m\n",
       "\u001B[31m│\u001B[0m \u001B[31m❱ \u001B[0m129 \u001B[2m│   │   │   \u001B[0mmod.load_ipython_extension(\u001B[96mself\u001B[0m.shell)                                         \u001B[31m│\u001B[0m\n",
       "\u001B[31m│\u001B[0m   \u001B[2m130 \u001B[0m\u001B[2m│   │   │   \u001B[0m\u001B[94mreturn\u001B[0m \u001B[94mTrue\u001B[0m                                                                    \u001B[31m│\u001B[0m\n",
       "\u001B[31m│\u001B[0m   \u001B[2m131 \u001B[0m\u001B[2m│   \u001B[0m                                                                                       \u001B[31m│\u001B[0m\n",
       "\u001B[31m│\u001B[0m   \u001B[2m132 \u001B[0m\u001B[2m│   \u001B[0m\u001B[94mdef\u001B[0m \u001B[92m_call_unload_ipython_extension\u001B[0m(\u001B[96mself\u001B[0m, mod):                                         \u001B[31m│\u001B[0m\n",
       "\u001B[31m│\u001B[0m                                                                                                  \u001B[31m│\u001B[0m\n",
       "\u001B[31m│\u001B[0m \u001B[2;33m/Users/Merel_Theisen/anaconda3/envs/iris-databricks/lib/python3.10/site-packages/kedro/ipython/\u001B[0m\u001B[1;33m_\u001B[0m \u001B[31m│\u001B[0m\n",
       "\u001B[31m│\u001B[0m \u001B[1;33m_init__.py\u001B[0m:\u001B[94m72\u001B[0m in \u001B[92mload_ipython_extension\u001B[0m                                                          \u001B[31m│\u001B[0m\n",
       "\u001B[31m│\u001B[0m                                                                                                  \u001B[31m│\u001B[0m\n",
       "\u001B[31m│\u001B[0m   \u001B[2m 69 \u001B[0m\u001B[2m│   │   \u001B[0m)                                                                                  \u001B[31m│\u001B[0m\n",
       "\u001B[31m│\u001B[0m   \u001B[2m 70 \u001B[0m\u001B[2m│   │   \u001B[0m\u001B[94mreturn\u001B[0m                                                                             \u001B[31m│\u001B[0m\n",
       "\u001B[31m│\u001B[0m   \u001B[2m 71 \u001B[0m\u001B[2m│   \u001B[0m                                                                                       \u001B[31m│\u001B[0m\n",
       "\u001B[31m│\u001B[0m \u001B[31m❱ \u001B[0m 72 \u001B[2m│   \u001B[0mreload_kedro()                                                                         \u001B[31m│\u001B[0m\n",
       "\u001B[31m│\u001B[0m   \u001B[2m 73 \u001B[0m                                                                                           \u001B[31m│\u001B[0m\n",
       "\u001B[31m│\u001B[0m   \u001B[2m 74 \u001B[0m                                                                                           \u001B[31m│\u001B[0m\n",
       "\u001B[31m│\u001B[0m   \u001B[2m 75 \u001B[0m\u001B[1;95m@typing\u001B[0m.no_type_check                                                                      \u001B[31m│\u001B[0m\n",
       "\u001B[31m│\u001B[0m                                                                                                  \u001B[31m│\u001B[0m\n",
       "\u001B[31m│\u001B[0m \u001B[2;33m/Users/Merel_Theisen/anaconda3/envs/iris-databricks/lib/python3.10/site-packages/kedro/ipython/\u001B[0m\u001B[1;33m_\u001B[0m \u001B[31m│\u001B[0m\n",
       "\u001B[31m│\u001B[0m \u001B[1;33m_init__.py\u001B[0m:\u001B[94m133\u001B[0m in \u001B[92mreload_kedro\u001B[0m                                                                   \u001B[31m│\u001B[0m\n",
       "\u001B[31m│\u001B[0m                                                                                                  \u001B[31m│\u001B[0m\n",
       "\u001B[31m│\u001B[0m   \u001B[2m130 \u001B[0m\u001B[2m│   │   \u001B[0mconf_source=conf_source,                                                           \u001B[31m│\u001B[0m\n",
       "\u001B[31m│\u001B[0m   \u001B[2m131 \u001B[0m\u001B[2m│   \u001B[0m)                                                                                      \u001B[31m│\u001B[0m\n",
       "\u001B[31m│\u001B[0m   \u001B[2m132 \u001B[0m\u001B[2m│   \u001B[0mcontext = session.load_context()                                                       \u001B[31m│\u001B[0m\n",
       "\u001B[31m│\u001B[0m \u001B[31m❱ \u001B[0m133 \u001B[2m│   \u001B[0mcatalog = context.catalog                                                              \u001B[31m│\u001B[0m\n",
       "\u001B[31m│\u001B[0m   \u001B[2m134 \u001B[0m\u001B[2m│   \u001B[0m                                                                                       \u001B[31m│\u001B[0m\n",
       "\u001B[31m│\u001B[0m   \u001B[2m135 \u001B[0m\u001B[2m│   \u001B[0mget_ipython().push(  \u001B[2m# type: ignore[no-untyped-call]\u001B[0m                                   \u001B[31m│\u001B[0m\n",
       "\u001B[31m│\u001B[0m   \u001B[2m136 \u001B[0m\u001B[2m│   │   \u001B[0mvariables={                                                                        \u001B[31m│\u001B[0m\n",
       "\u001B[31m│\u001B[0m                                                                                                  \u001B[31m│\u001B[0m\n",
       "\u001B[31m│\u001B[0m \u001B[2;33m/Users/Merel_Theisen/anaconda3/envs/iris-databricks/lib/python3.10/site-packages/kedro/framework\u001B[0m \u001B[31m│\u001B[0m\n",
       "\u001B[31m│\u001B[0m \u001B[2;33m/context/\u001B[0m\u001B[1;33mcontext.py\u001B[0m:\u001B[94m190\u001B[0m in \u001B[92mcatalog\u001B[0m                                                               \u001B[31m│\u001B[0m\n",
       "\u001B[31m│\u001B[0m                                                                                                  \u001B[31m│\u001B[0m\n",
       "\u001B[31m│\u001B[0m   \u001B[2m187 \u001B[0m\u001B[2;33m│   │   │   \u001B[0m\u001B[33mKedroContextError: Incorrect catalog registered for the project.\u001B[0m               \u001B[31m│\u001B[0m\n",
       "\u001B[31m│\u001B[0m   \u001B[2m188 \u001B[0m\u001B[2m│   │   \u001B[0m                                                                                   \u001B[31m│\u001B[0m\n",
       "\u001B[31m│\u001B[0m   \u001B[2m189 \u001B[0m\u001B[2;33m│   │   \u001B[0m\u001B[33m\"\"\"\u001B[0m                                                                                \u001B[31m│\u001B[0m\n",
       "\u001B[31m│\u001B[0m \u001B[31m❱ \u001B[0m190 \u001B[2m│   │   \u001B[0m\u001B[94mreturn\u001B[0m \u001B[96mself\u001B[0m._get_catalog()                                                         \u001B[31m│\u001B[0m\n",
       "\u001B[31m│\u001B[0m   \u001B[2m191 \u001B[0m\u001B[2m│   \u001B[0m                                                                                       \u001B[31m│\u001B[0m\n",
       "\u001B[31m│\u001B[0m   \u001B[2m192 \u001B[0m\u001B[2m│   \u001B[0m\u001B[1;95m@property\u001B[0m                                                                              \u001B[31m│\u001B[0m\n",
       "\u001B[31m│\u001B[0m   \u001B[2m193 \u001B[0m\u001B[2m│   \u001B[0m\u001B[94mdef\u001B[0m \u001B[92mparams\u001B[0m(\u001B[96mself\u001B[0m) -> \u001B[96mdict\u001B[0m[\u001B[96mstr\u001B[0m, Any]:                                                    \u001B[31m│\u001B[0m\n",
       "\u001B[31m│\u001B[0m                                                                                                  \u001B[31m│\u001B[0m\n",
       "\u001B[31m│\u001B[0m \u001B[2;33m/Users/Merel_Theisen/anaconda3/envs/iris-databricks/lib/python3.10/site-packages/kedro/framework\u001B[0m \u001B[31m│\u001B[0m\n",
       "\u001B[31m│\u001B[0m \u001B[2;33m/context/\u001B[0m\u001B[1;33mcontext.py\u001B[0m:\u001B[94m234\u001B[0m in \u001B[92m_get_catalog\u001B[0m                                                          \u001B[31m│\u001B[0m\n",
       "\u001B[31m│\u001B[0m                                                                                                  \u001B[31m│\u001B[0m\n",
       "\u001B[31m│\u001B[0m   \u001B[2m231 \u001B[0m\u001B[2m│   │   \u001B[0m)                                                                                  \u001B[31m│\u001B[0m\n",
       "\u001B[31m│\u001B[0m   \u001B[2m232 \u001B[0m\u001B[2m│   │   \u001B[0mconf_creds = \u001B[96mself\u001B[0m._get_config_credentials()                                        \u001B[31m│\u001B[0m\n",
       "\u001B[31m│\u001B[0m   \u001B[2m233 \u001B[0m\u001B[2m│   │   \u001B[0m                                                                                   \u001B[31m│\u001B[0m\n",
       "\u001B[31m│\u001B[0m \u001B[31m❱ \u001B[0m234 \u001B[2m│   │   \u001B[0mcatalog: DataCatalog = settings.DATA_CATALOG_CLASS.from_config(                    \u001B[31m│\u001B[0m\n",
       "\u001B[31m│\u001B[0m   \u001B[2m235 \u001B[0m\u001B[2m│   │   │   \u001B[0mcatalog=conf_catalog,                                                          \u001B[31m│\u001B[0m\n",
       "\u001B[31m│\u001B[0m   \u001B[2m236 \u001B[0m\u001B[2m│   │   │   \u001B[0mcredentials=conf_creds,                                                        \u001B[31m│\u001B[0m\n",
       "\u001B[31m│\u001B[0m   \u001B[2m237 \u001B[0m\u001B[2m│   │   │   \u001B[0mload_versions=load_versions,                                                   \u001B[31m│\u001B[0m\n",
       "\u001B[31m│\u001B[0m                                                                                                  \u001B[31m│\u001B[0m\n",
       "\u001B[31m│\u001B[0m \u001B[2;33m/Users/Merel_Theisen/anaconda3/envs/iris-databricks/lib/python3.10/site-packages/kedro/io/\u001B[0m\u001B[1;33mdata_c\u001B[0m \u001B[31m│\u001B[0m\n",
       "\u001B[31m│\u001B[0m \u001B[1;33matalog.py\u001B[0m:\u001B[94m291\u001B[0m in \u001B[92mfrom_config\u001B[0m                                                                     \u001B[31m│\u001B[0m\n",
       "\u001B[31m│\u001B[0m                                                                                                  \u001B[31m│\u001B[0m\n",
       "\u001B[31m│\u001B[0m   \u001B[2m288 \u001B[0m\u001B[2m│   │   \u001B[0m                                                                                   \u001B[31m│\u001B[0m\n",
       "\u001B[31m│\u001B[0m   \u001B[2m289 \u001B[0m\u001B[2m│   │   \u001B[0m\u001B[94mfor\u001B[0m ds_name \u001B[95min\u001B[0m catalog:                                                            \u001B[31m│\u001B[0m\n",
       "\u001B[31m│\u001B[0m   \u001B[2m290 \u001B[0m\u001B[2m│   │   │   \u001B[0m\u001B[94mif\u001B[0m \u001B[95mnot\u001B[0m config_resolver.is_pattern(ds_name):                                    \u001B[31m│\u001B[0m\n",
       "\u001B[31m│\u001B[0m \u001B[31m❱ \u001B[0m291 \u001B[2m│   │   │   │   \u001B[0mdatasets[ds_name] = AbstractDataset.from_config(                           \u001B[31m│\u001B[0m\n",
       "\u001B[31m│\u001B[0m   \u001B[2m292 \u001B[0m\u001B[2m│   │   │   │   │   \u001B[0mds_name,                                                               \u001B[31m│\u001B[0m\n",
       "\u001B[31m│\u001B[0m   \u001B[2m293 \u001B[0m\u001B[2m│   │   │   │   │   \u001B[0mconfig_resolver.config.get(ds_name, {}),                               \u001B[31m│\u001B[0m\n",
       "\u001B[31m│\u001B[0m   \u001B[2m294 \u001B[0m\u001B[2m│   │   │   │   │   \u001B[0mload_versions.get(ds_name),                                            \u001B[31m│\u001B[0m\n",
       "\u001B[31m│\u001B[0m                                                                                                  \u001B[31m│\u001B[0m\n",
       "\u001B[31m│\u001B[0m \u001B[2;33m/Users/Merel_Theisen/anaconda3/envs/iris-databricks/lib/python3.10/site-packages/kedro/io/\u001B[0m\u001B[1;33mcore.p\u001B[0m \u001B[31m│\u001B[0m\n",
       "\u001B[31m│\u001B[0m \u001B[1;33my\u001B[0m:\u001B[94m185\u001B[0m in \u001B[92mfrom_config\u001B[0m                                                                             \u001B[31m│\u001B[0m\n",
       "\u001B[31m│\u001B[0m                                                                                                  \u001B[31m│\u001B[0m\n",
       "\u001B[31m│\u001B[0m   \u001B[2m182 \u001B[0m\u001B[2m│   │   │   │   \u001B[0mconfig, load_version, save_version                                         \u001B[31m│\u001B[0m\n",
       "\u001B[31m│\u001B[0m   \u001B[2m183 \u001B[0m\u001B[2m│   │   │   \u001B[0m)                                                                              \u001B[31m│\u001B[0m\n",
       "\u001B[31m│\u001B[0m   \u001B[2m184 \u001B[0m\u001B[2m│   │   \u001B[0m\u001B[94mexcept\u001B[0m \u001B[96mException\u001B[0m \u001B[94mas\u001B[0m exc:                                                           \u001B[31m│\u001B[0m\n",
       "\u001B[31m│\u001B[0m \u001B[31m❱ \u001B[0m185 \u001B[2m│   │   │   \u001B[0m\u001B[94mraise\u001B[0m DatasetError(                                                            \u001B[31m│\u001B[0m\n",
       "\u001B[31m│\u001B[0m   \u001B[2m186 \u001B[0m\u001B[2m│   │   │   │   \u001B[0m\u001B[33mf\u001B[0m\u001B[33m\"\u001B[0m\u001B[33mAn exception occurred when parsing config \u001B[0m\u001B[33m\"\u001B[0m                              \u001B[31m│\u001B[0m\n",
       "\u001B[31m│\u001B[0m   \u001B[2m187 \u001B[0m\u001B[2m│   │   │   │   \u001B[0m\u001B[33mf\u001B[0m\u001B[33m\"\u001B[0m\u001B[33mfor dataset \u001B[0m\u001B[33m'\u001B[0m\u001B[33m{\u001B[0mname\u001B[33m}\u001B[0m\u001B[33m'\u001B[0m\u001B[33m:\u001B[0m\u001B[33m\\n\u001B[0m\u001B[33m{\u001B[0mexc\u001B[33m!s}\u001B[0m\u001B[33m\"\u001B[0m                                          \u001B[31m│\u001B[0m\n",
       "\u001B[31m│\u001B[0m   \u001B[2m188 \u001B[0m\u001B[2m│   │   │   \u001B[0m) \u001B[94mfrom\u001B[0m \u001B[4;96mexc\u001B[0m                                                                     \u001B[31m│\u001B[0m\n",
       "\u001B[31m╰──────────────────────────────────────────────────────────────────────────────────────────────────╯\u001B[0m\n",
       "\u001B[1;91mDatasetError: \u001B[0mAn exception occurred when parsing config for dataset \u001B[32m'regressor'\u001B[0m:\n",
       "Class \u001B[32m'kedro_mlflow.io.models.MlflowModelTrackingDataset'\u001B[0m not found, is this a typo?\n",
       "Hint: If you are trying to use a dataset from `kedro-datasets`, make sure that the package is installed in your \n",
       "current environment. You can do so by running `pip install kedro-datasets` or `pip install \n",
       "kedro-datasets\u001B[1m[\u001B[0m\u001B[1m<\u001B[0m\u001B[1;95mdataset-group\u001B[0m\u001B[1m>\u001B[0m\u001B[1m]\u001B[0m` to install `kedro-datasets` along with related dependencies for the specific \n",
       "dataset group.\n"
      ]
     },
     "metadata": {},
     "output_type": "display_data"
    }
   ],
   "source": [
    "%load_ext kedro.ipython"
   ]
  },
  {
   "cell_type": "markdown",
   "metadata": {},
   "source": [
    "Ensure your project now contains the databricks configuration created in the previous notebook. Add it into your `base/catalog.yml` file. The content should be as follows:\n",
    "\n",
    "```yaml\n",
    "_uc_catalog: #your catalog location\n",
    "_uc_schema: #your schema location\n",
    "\n",
    "companies_raw:\n",
    "  type: spark.SparkDataset\n",
    "  filepath: /Volumes/${_uc_catalog}/${_uc_schema}/bronze/companies.csv\n",
    "  file_format: csv\n",
    "  load_args:\n",
    "    header: True\n",
    "    inferSchema: True\n",
    "\n",
    "reviews_raw:\n",
    "  type: spark.SparkDataset\n",
    "  filepath: /Volumes/${_uc_catalog}/${_uc_schema}/bronze/reviews.csv\n",
    "  file_format: csv\n",
    "  load_args:\n",
    "    header: True\n",
    "    inferSchema: True\n",
    "\n",
    "companies:\n",
    "  type: databricks.ManagedTableDataset\n",
    "  catalog: ${_uc_catalog}\n",
    "  database: ${_uc_schema}\n",
    "  table: companies\n",
    "  write_mode: overwrite\n",
    "\n",
    "reviews:\n",
    "  type: databricks.ManagedTableDataset\n",
    "  catalog: ${_uc_catalog}\n",
    "  database: ${_uc_schema}\n",
    "  table: reviews\n",
    "  write_mode: overwrite\n",
    "\n",
    "shuttles:\n",
    "  type: databricks.ManagedTableDataset\n",
    "  catalog: ${_uc_catalog}\n",
    "  database: ${_uc_schema}\n",
    "  table: shuttles\n",
    "  write_mode: overwrite\n",
    "\n",
    "preprocessed_companies:\n",
    "  type: databricks.ManagedTableDataset\n",
    "  catalog: ${_uc_catalog}\n",
    "  database: ${_uc_schema}\n",
    "  table: preprocessed_companies\n",
    "  write_mode: overwrite\n",
    "\n",
    "preprocessed_shuttles:\n",
    "  type: databricks.ManagedTableDataset\n",
    "  catalog: ${_uc_catalog}\n",
    "  database: ${_uc_schema}\n",
    "  table: preprocessed_shuttles\n",
    "  write_mode: overwrite\n",
    "\n",
    "preprocessed_reviews:\n",
    "  type: databricks.ManagedTableDataset\n",
    "  catalog: ${_uc_catalog}\n",
    "  database: ${_uc_schema}\n",
    "  table: preprocessed_reviews\n",
    "  write_mode: overwrite\n",
    "\n",
    "model_input_table:\n",
    "  type: databricks.ManagedTableDataset\n",
    "  catalog: ${_uc_catalog}\n",
    "  database: ${_uc_schema}\n",
    "  table: model_input_table\n",
    "  write_mode: overwrite\n",
    "\n",
    "regressor:\n",
    "  type: pickle.PickleDataset\n",
    "  filepath: data/06_models/regressor.pickle\n",
    "  versioned: true\n",
    "```"
   ]
  },
  {
   "cell_type": "markdown",
   "metadata": {},
   "source": [
    "You should also have a `conf/local/catalog.yml` file that contains the following:\n",
    "\n",
    "```yaml\n",
    "shuttles_raw:\n",
    "  type: pandas.ExcelDataset\n",
    "  filepath: data/01_raw/shuttles.xlsx\n",
    "  load_args:\n",
    "    engine: openpyxl\n",
    "```"
   ]
  },
  {
   "cell_type": "code",
   "execution_count": null,
   "metadata": {},
   "outputs": [],
   "source": [
    "%reload_kedro ../../rocketfuel"
   ]
  },
  {
   "cell_type": "code",
   "execution_count": null,
   "metadata": {},
   "outputs": [],
   "source": [
    "catalog.list()"
   ]
  },
  {
   "cell_type": "markdown",
   "metadata": {},
   "source": [
    "Notice how data is loaded as a PySpark DataFrame, directly from Databricks Unity Catalog!"
   ]
  },
  {
   "cell_type": "code",
   "execution_count": null,
   "metadata": {},
   "outputs": [],
   "source": [
    "catalog._get_dataset(\"companies\")"
   ]
  },
  {
   "cell_type": "code",
   "execution_count": null,
   "metadata": {},
   "outputs": [],
   "source": "display(catalog.load(\"companies\"))"
  },
  {
   "cell_type": "markdown",
   "metadata": {},
   "source": [
    "### Exercise 1\n",
    "\n",
    "Codify the logic of the dummy `load_data` pipeline inside the project and run it locally through `databricks-connect`. For that:\n",
    "\n",
    "- Create the pipeline in your local development environment.\n",
    "- Run ```%reload_kedro``` to reload the Kedro project.\n",
    "- Try to execute the `load_data` pipeline from the VS Code notebook.\n",
    "- Iterate until it works."
   ]
  },
  {
   "cell_type": "code",
   "execution_count": null,
   "metadata": {},
   "outputs": [],
   "source": [
    "%reload_kedro ../../rocketfuel"
   ]
  },
  {
   "cell_type": "code",
   "execution_count": null,
   "metadata": {},
   "outputs": [],
   "source": [
    "# The below command let's you execute the `load_data` pipeline\n",
    "session.run(\"load_data\")"
   ]
  },
  {
   "cell_type": "markdown",
   "metadata": {
    "application/vnd.databricks.v1+cell": {
     "cellMetadata": {},
     "inputWidgets": {},
     "nuid": "07630ef1-c5c6-4396-b841-f6973b2f3123",
     "showTitle": false,
     "tableResultSettingsMap": {},
     "title": ""
    }
   },
   "source": [
    "## Integration with Databricks MLflow"
   ]
  },
  {
   "cell_type": "markdown",
   "metadata": {
    "application/vnd.databricks.v1+cell": {
     "cellMetadata": {},
     "inputWidgets": {},
     "nuid": "ef08d133-d23c-4243-a273-9c890221900d",
     "showTitle": false,
     "tableResultSettingsMap": {},
     "title": ""
    }
   },
   "source": [
    "### Log Kedro runs as MLflow experiments"
   ]
  },
  {
   "cell_type": "markdown",
   "metadata": {
    "application/vnd.databricks.v1+cell": {
     "cellMetadata": {},
     "inputWidgets": {},
     "nuid": "635550a0-4476-4477-a71d-935f5a3d7e87",
     "showTitle": false,
     "tableResultSettingsMap": {},
     "title": ""
    }
   },
   "source": [
    "There are 2 types of MLflow experiments in Databricks:\n",
    "- **Workspace** experiments are not associated with any notebook, and any notebook can log a run to these experiments by using the experiment ID or the experiment name. _They cannot be created inside Git folders._\n",
    "- **Notebook** experiments are associated with a specific notebook. _They are note checked into source control_.\n",
    "\n",
    "Therefore, for personal experimentation **notebook** experiments are more appropriate, and for collaboration **workspace** experiments can be created in a regular workspace folder outside of Git."
   ]
  },
  {
   "cell_type": "markdown",
   "metadata": {},
   "source": [
    "Since you will be running this notebook locally using Databricks Connect, creating a **workspace** experiment will be more flexible. First, create the appropriate parent directory using the Databricks SDK:"
   ]
  },
  {
   "cell_type": "code",
   "execution_count": 1,
   "metadata": {},
   "outputs": [
    {
     "data": {
      "text/plain": [
       "'/Users/merel_theisen@mckinsey.com'"
      ]
     },
     "execution_count": 1,
     "metadata": {},
     "output_type": "execute_result"
    }
   ],
   "source": [
    "from databricks.sdk import WorkspaceClient\n",
    "\n",
    "w = WorkspaceClient()\n",
    "\n",
    "current_user = w.current_user.me()\n",
    "home_dir = f\"/Users/{current_user.user_name}\"\n",
    "home_dir"
   ]
  },
  {
   "cell_type": "markdown",
   "metadata": {},
   "source": [
    "Next, you will need a Databricks token:"
   ]
  },
  {
   "cell_type": "code",
   "execution_count": null,
   "metadata": {},
   "outputs": [],
   "source": [
    "# FIXME: Call `databricks configure` on the CLI instead of setting the environment variables here?\n",
    "#\n",
    "# import os\n",
    "#\n",
    "# os.environ[\"DATABRICKS_INSTANCE\"] = w.config.host\n",
    "# Do NOT commit this to version control!\n",
    "# os.environ[\"DATABRICKS_TOKEN\"] = \"...\""
   ]
  },
  {
   "cell_type": "markdown",
   "metadata": {},
   "source": [
    "\n",
    "Finally, verify that everything works:"
   ]
  },
  {
   "cell_type": "code",
   "execution_count": 2,
   "metadata": {},
   "outputs": [
    {
     "data": {
      "text/plain": [
       "<Experiment: artifact_location='dbfs:/databricks/mlflow-tracking/3389653495272219', creation_time=1749817173167, experiment_id='3389653495272219', last_update_time=1750063246513, lifecycle_stage='active', name='/Users/merel_theisen@mckinsey.com/02_2-kedro-on-databricks', tags={'mlflow.experiment.sourceName': '/Users/merel_theisen@mckinsey.com/02_2-kedro-on-databricks',\n",
       " 'mlflow.experimentKind': 'custom_model_development',\n",
       " 'mlflow.experimentType': 'MLFLOW_EXPERIMENT',\n",
       " 'mlflow.ownerEmail': 'merel_theisen@mckinsey.com',\n",
       " 'mlflow.ownerId': '1425391920417431'}>"
      ]
     },
     "execution_count": 2,
     "metadata": {},
     "output_type": "execute_result"
    }
   ],
   "source": [
    "import mlflow\n",
    "\n",
    "# This workaround is needed with serverless compute, see official answer at\n",
    "# https://community.databricks.com/t5/machine-learning/using-datbricks-connect-with-serverless-compute-and-mlflow/m-p/97604#M3764\n",
    "mlflow.tracking._model_registry.utils._get_registry_uri_from_spark_session = (\n",
    "    lambda: \"databricks-uc\"\n",
    ")\n",
    "\n",
    "experiment_path = f\"{home_dir}/02_2-kedro-on-databricks\"\n",
    "\n",
    "mlflow.set_tracking_uri(\"databricks\")\n",
    "mlflow.set_experiment(experiment_path)"
   ]
  },
  {
   "cell_type": "markdown",
   "metadata": {},
   "source": [
    "MLflow is the perfect companion for Kedro projects, thanks to the `kedro-mlflow` community plugin:"
   ]
  },
  {
   "cell_type": "code",
   "execution_count": 6,
   "metadata": {
    "application/vnd.databricks.v1+cell": {
     "cellMetadata": {
      "byteLimit": 2048000,
      "rowLimit": 10000
     },
     "inputWidgets": {},
     "nuid": "b7d25c96-e66a-4a90-9c5d-087a9737a796",
     "showTitle": false,
     "tableResultSettingsMap": {},
     "title": ""
    }
   },
   "outputs": [
    {
     "name": "stdout",
     "output_type": "stream",
     "text": [
      "Collecting kedro-mlflow\n",
      "  Using cached kedro_mlflow-0.14.4-py3-none-any.whl.metadata (14 kB)\n",
      "Requirement already satisfied: kedro<0.20.0,>=0.19.0 in /Users/Merel_Theisen/anaconda3/envs/iris-databricks/lib/python3.10/site-packages (from kedro-mlflow) (0.19.10)\n",
      "Requirement already satisfied: kedro_datasets in /Users/Merel_Theisen/anaconda3/envs/iris-databricks/lib/python3.10/site-packages (from kedro-mlflow) (7.0.0)\n",
      "Requirement already satisfied: mlflow<3.0.0,>=2.7.0 in /Users/Merel_Theisen/anaconda3/envs/iris-databricks/lib/python3.10/site-packages (from kedro-mlflow) (2.11.2)\n",
      "Requirement already satisfied: pydantic<3.0.0,>=1.0.0 in /Users/Merel_Theisen/anaconda3/envs/iris-databricks/lib/python3.10/site-packages (from kedro-mlflow) (2.11.6)\n",
      "Requirement already satisfied: attrs>=21.3 in /Users/Merel_Theisen/anaconda3/envs/iris-databricks/lib/python3.10/site-packages (from kedro<0.20.0,>=0.19.0->kedro-mlflow) (24.1.0)\n",
      "Requirement already satisfied: build>=0.7.0 in /Users/Merel_Theisen/anaconda3/envs/iris-databricks/lib/python3.10/site-packages (from kedro<0.20.0,>=0.19.0->kedro-mlflow) (1.2.1)\n",
      "Requirement already satisfied: cachetools>=4.1 in /Users/Merel_Theisen/anaconda3/envs/iris-databricks/lib/python3.10/site-packages (from kedro<0.20.0,>=0.19.0->kedro-mlflow) (5.4.0)\n",
      "Requirement already satisfied: click>=4.0 in /Users/Merel_Theisen/anaconda3/envs/iris-databricks/lib/python3.10/site-packages (from kedro<0.20.0,>=0.19.0->kedro-mlflow) (8.1.7)\n",
      "Requirement already satisfied: cookiecutter<3.0,>=2.1.1 in /Users/Merel_Theisen/anaconda3/envs/iris-databricks/lib/python3.10/site-packages (from kedro<0.20.0,>=0.19.0->kedro-mlflow) (2.6.0)\n",
      "Requirement already satisfied: dynaconf<4.0,>=3.1.2 in /Users/Merel_Theisen/anaconda3/envs/iris-databricks/lib/python3.10/site-packages (from kedro<0.20.0,>=0.19.0->kedro-mlflow) (3.2.6)\n",
      "Requirement already satisfied: fsspec>=2021.4 in /Users/Merel_Theisen/anaconda3/envs/iris-databricks/lib/python3.10/site-packages (from kedro<0.20.0,>=0.19.0->kedro-mlflow) (2025.5.1)\n",
      "Requirement already satisfied: gitpython>=3.0 in /Users/Merel_Theisen/anaconda3/envs/iris-databricks/lib/python3.10/site-packages (from kedro<0.20.0,>=0.19.0->kedro-mlflow) (3.1.43)\n",
      "Requirement already satisfied: importlib-metadata<9.0,>=3.6 in /Users/Merel_Theisen/anaconda3/envs/iris-databricks/lib/python3.10/site-packages (from kedro<0.20.0,>=0.19.0->kedro-mlflow) (7.2.1)\n",
      "Requirement already satisfied: importlib_resources<7.0,>=1.3 in /Users/Merel_Theisen/anaconda3/envs/iris-databricks/lib/python3.10/site-packages (from kedro<0.20.0,>=0.19.0->kedro-mlflow) (6.4.0)\n",
      "Requirement already satisfied: kedro-telemetry>=0.5.0 in /Users/Merel_Theisen/anaconda3/envs/iris-databricks/lib/python3.10/site-packages (from kedro<0.20.0,>=0.19.0->kedro-mlflow) (0.6.0)\n",
      "Requirement already satisfied: more_itertools>=8.14.0 in /Users/Merel_Theisen/anaconda3/envs/iris-databricks/lib/python3.10/site-packages (from kedro<0.20.0,>=0.19.0->kedro-mlflow) (10.3.0)\n",
      "Requirement already satisfied: omegaconf>=2.1.1 in /Users/Merel_Theisen/anaconda3/envs/iris-databricks/lib/python3.10/site-packages (from kedro<0.20.0,>=0.19.0->kedro-mlflow) (2.3.0)\n",
      "Requirement already satisfied: parse>=1.19.0 in /Users/Merel_Theisen/anaconda3/envs/iris-databricks/lib/python3.10/site-packages (from kedro<0.20.0,>=0.19.0->kedro-mlflow) (1.20.2)\n",
      "Requirement already satisfied: pluggy>=1.0 in /Users/Merel_Theisen/anaconda3/envs/iris-databricks/lib/python3.10/site-packages (from kedro<0.20.0,>=0.19.0->kedro-mlflow) (1.5.0)\n",
      "Requirement already satisfied: pre-commit-hooks in /Users/Merel_Theisen/anaconda3/envs/iris-databricks/lib/python3.10/site-packages (from kedro<0.20.0,>=0.19.0->kedro-mlflow) (4.6.0)\n",
      "Requirement already satisfied: PyYAML<7.0,>=4.2 in /Users/Merel_Theisen/anaconda3/envs/iris-databricks/lib/python3.10/site-packages (from kedro<0.20.0,>=0.19.0->kedro-mlflow) (6.0.1)\n",
      "Requirement already satisfied: rich<14.0,>=12.0 in /Users/Merel_Theisen/anaconda3/envs/iris-databricks/lib/python3.10/site-packages (from kedro<0.20.0,>=0.19.0->kedro-mlflow) (13.7.1)\n",
      "Requirement already satisfied: rope<2.0,>=0.21 in /Users/Merel_Theisen/anaconda3/envs/iris-databricks/lib/python3.10/site-packages (from kedro<0.20.0,>=0.19.0->kedro-mlflow) (1.13.0)\n",
      "Requirement already satisfied: toml>=0.10.0 in /Users/Merel_Theisen/anaconda3/envs/iris-databricks/lib/python3.10/site-packages (from kedro<0.20.0,>=0.19.0->kedro-mlflow) (0.10.2)\n",
      "Requirement already satisfied: typing_extensions>=4.0 in /Users/Merel_Theisen/anaconda3/envs/iris-databricks/lib/python3.10/site-packages (from kedro<0.20.0,>=0.19.0->kedro-mlflow) (4.12.2)\n",
      "Requirement already satisfied: cloudpickle<4 in /Users/Merel_Theisen/anaconda3/envs/iris-databricks/lib/python3.10/site-packages (from mlflow<3.0.0,>=2.7.0->kedro-mlflow) (3.1.1)\n",
      "Requirement already satisfied: entrypoints<1 in /Users/Merel_Theisen/anaconda3/envs/iris-databricks/lib/python3.10/site-packages (from mlflow<3.0.0,>=2.7.0->kedro-mlflow) (0.4)\n",
      "Requirement already satisfied: protobuf<5,>=3.12.0 in /Users/Merel_Theisen/anaconda3/envs/iris-databricks/lib/python3.10/site-packages (from mlflow<3.0.0,>=2.7.0->kedro-mlflow) (4.25.8)\n",
      "Requirement already satisfied: pytz<2025 in /Users/Merel_Theisen/anaconda3/envs/iris-databricks/lib/python3.10/site-packages (from mlflow<3.0.0,>=2.7.0->kedro-mlflow) (2024.1)\n",
      "Requirement already satisfied: requests<3,>=2.17.3 in /Users/Merel_Theisen/anaconda3/envs/iris-databricks/lib/python3.10/site-packages (from mlflow<3.0.0,>=2.7.0->kedro-mlflow) (2.32.3)\n",
      "Requirement already satisfied: packaging<24 in /Users/Merel_Theisen/anaconda3/envs/iris-databricks/lib/python3.10/site-packages (from mlflow<3.0.0,>=2.7.0->kedro-mlflow) (23.2)\n",
      "Requirement already satisfied: sqlparse<1,>=0.4.0 in /Users/Merel_Theisen/anaconda3/envs/iris-databricks/lib/python3.10/site-packages (from mlflow<3.0.0,>=2.7.0->kedro-mlflow) (0.5.3)\n",
      "Requirement already satisfied: alembic!=1.10.0,<2 in /Users/Merel_Theisen/anaconda3/envs/iris-databricks/lib/python3.10/site-packages (from mlflow<3.0.0,>=2.7.0->kedro-mlflow) (1.16.1)\n",
      "Requirement already satisfied: docker<8,>=4.0.0 in /Users/Merel_Theisen/anaconda3/envs/iris-databricks/lib/python3.10/site-packages (from mlflow<3.0.0,>=2.7.0->kedro-mlflow) (7.1.0)\n",
      "Requirement already satisfied: Flask<4 in /Users/Merel_Theisen/anaconda3/envs/iris-databricks/lib/python3.10/site-packages (from mlflow<3.0.0,>=2.7.0->kedro-mlflow) (3.1.1)\n",
      "Requirement already satisfied: numpy<2 in /Users/Merel_Theisen/anaconda3/envs/iris-databricks/lib/python3.10/site-packages (from mlflow<3.0.0,>=2.7.0->kedro-mlflow) (1.26.4)\n",
      "Requirement already satisfied: scipy<2 in /Users/Merel_Theisen/anaconda3/envs/iris-databricks/lib/python3.10/site-packages (from mlflow<3.0.0,>=2.7.0->kedro-mlflow) (1.15.3)\n",
      "Requirement already satisfied: pandas<3 in /Users/Merel_Theisen/anaconda3/envs/iris-databricks/lib/python3.10/site-packages (from mlflow<3.0.0,>=2.7.0->kedro-mlflow) (2.2.2)\n",
      "Requirement already satisfied: querystring-parser<2 in /Users/Merel_Theisen/anaconda3/envs/iris-databricks/lib/python3.10/site-packages (from mlflow<3.0.0,>=2.7.0->kedro-mlflow) (1.2.4)\n",
      "Requirement already satisfied: sqlalchemy<3,>=1.4.0 in /Users/Merel_Theisen/anaconda3/envs/iris-databricks/lib/python3.10/site-packages (from mlflow<3.0.0,>=2.7.0->kedro-mlflow) (2.0.41)\n",
      "Requirement already satisfied: scikit-learn<2 in /Users/Merel_Theisen/anaconda3/envs/iris-databricks/lib/python3.10/site-packages (from mlflow<3.0.0,>=2.7.0->kedro-mlflow) (1.5.2)\n",
      "Requirement already satisfied: pyarrow<16,>=4.0.0 in /Users/Merel_Theisen/anaconda3/envs/iris-databricks/lib/python3.10/site-packages (from mlflow<3.0.0,>=2.7.0->kedro-mlflow) (15.0.2)\n",
      "Requirement already satisfied: markdown<4,>=3.3 in /Users/Merel_Theisen/anaconda3/envs/iris-databricks/lib/python3.10/site-packages (from mlflow<3.0.0,>=2.7.0->kedro-mlflow) (3.8)\n",
      "Requirement already satisfied: matplotlib<4 in /Users/Merel_Theisen/anaconda3/envs/iris-databricks/lib/python3.10/site-packages (from mlflow<3.0.0,>=2.7.0->kedro-mlflow) (3.10.3)\n",
      "Requirement already satisfied: graphene<4 in /Users/Merel_Theisen/anaconda3/envs/iris-databricks/lib/python3.10/site-packages (from mlflow<3.0.0,>=2.7.0->kedro-mlflow) (3.4.3)\n",
      "Requirement already satisfied: gunicorn<22 in /Users/Merel_Theisen/anaconda3/envs/iris-databricks/lib/python3.10/site-packages (from mlflow<3.0.0,>=2.7.0->kedro-mlflow) (21.2.0)\n",
      "Requirement already satisfied: Jinja2<4,>=2.11 in /Users/Merel_Theisen/anaconda3/envs/iris-databricks/lib/python3.10/site-packages (from mlflow<3.0.0,>=2.7.0->kedro-mlflow) (3.1.4)\n",
      "Requirement already satisfied: annotated-types>=0.6.0 in /Users/Merel_Theisen/anaconda3/envs/iris-databricks/lib/python3.10/site-packages (from pydantic<3.0.0,>=1.0.0->kedro-mlflow) (0.7.0)\n",
      "Requirement already satisfied: pydantic-core==2.33.2 in /Users/Merel_Theisen/anaconda3/envs/iris-databricks/lib/python3.10/site-packages (from pydantic<3.0.0,>=1.0.0->kedro-mlflow) (2.33.2)\n",
      "Requirement already satisfied: typing-inspection>=0.4.0 in /Users/Merel_Theisen/anaconda3/envs/iris-databricks/lib/python3.10/site-packages (from pydantic<3.0.0,>=1.0.0->kedro-mlflow) (0.4.1)\n",
      "Requirement already satisfied: lazy_loader in /Users/Merel_Theisen/anaconda3/envs/iris-databricks/lib/python3.10/site-packages (from kedro_datasets->kedro-mlflow) (0.4)\n",
      "Requirement already satisfied: Mako in /Users/Merel_Theisen/anaconda3/envs/iris-databricks/lib/python3.10/site-packages (from alembic!=1.10.0,<2->mlflow<3.0.0,>=2.7.0->kedro-mlflow) (1.3.10)\n",
      "Requirement already satisfied: tomli in /Users/Merel_Theisen/anaconda3/envs/iris-databricks/lib/python3.10/site-packages (from alembic!=1.10.0,<2->mlflow<3.0.0,>=2.7.0->kedro-mlflow) (2.0.1)\n",
      "Requirement already satisfied: pyproject_hooks in /Users/Merel_Theisen/anaconda3/envs/iris-databricks/lib/python3.10/site-packages (from build>=0.7.0->kedro<0.20.0,>=0.19.0->kedro-mlflow) (1.1.0)\n",
      "Requirement already satisfied: binaryornot>=0.4.4 in /Users/Merel_Theisen/anaconda3/envs/iris-databricks/lib/python3.10/site-packages (from cookiecutter<3.0,>=2.1.1->kedro<0.20.0,>=0.19.0->kedro-mlflow) (0.4.4)\n",
      "Requirement already satisfied: python-slugify>=4.0.0 in /Users/Merel_Theisen/anaconda3/envs/iris-databricks/lib/python3.10/site-packages (from cookiecutter<3.0,>=2.1.1->kedro<0.20.0,>=0.19.0->kedro-mlflow) (8.0.4)\n",
      "Requirement already satisfied: arrow in /Users/Merel_Theisen/anaconda3/envs/iris-databricks/lib/python3.10/site-packages (from cookiecutter<3.0,>=2.1.1->kedro<0.20.0,>=0.19.0->kedro-mlflow) (1.3.0)\n",
      "Requirement already satisfied: urllib3>=1.26.0 in /Users/Merel_Theisen/anaconda3/envs/iris-databricks/lib/python3.10/site-packages (from docker<8,>=4.0.0->mlflow<3.0.0,>=2.7.0->kedro-mlflow) (2.2.2)\n",
      "Requirement already satisfied: blinker>=1.9.0 in /Users/Merel_Theisen/anaconda3/envs/iris-databricks/lib/python3.10/site-packages (from Flask<4->mlflow<3.0.0,>=2.7.0->kedro-mlflow) (1.9.0)\n",
      "Requirement already satisfied: itsdangerous>=2.2.0 in /Users/Merel_Theisen/anaconda3/envs/iris-databricks/lib/python3.10/site-packages (from Flask<4->mlflow<3.0.0,>=2.7.0->kedro-mlflow) (2.2.0)\n",
      "Requirement already satisfied: markupsafe>=2.1.1 in /Users/Merel_Theisen/anaconda3/envs/iris-databricks/lib/python3.10/site-packages (from Flask<4->mlflow<3.0.0,>=2.7.0->kedro-mlflow) (2.1.5)\n",
      "Requirement already satisfied: werkzeug>=3.1.0 in /Users/Merel_Theisen/anaconda3/envs/iris-databricks/lib/python3.10/site-packages (from Flask<4->mlflow<3.0.0,>=2.7.0->kedro-mlflow) (3.1.3)\n",
      "Requirement already satisfied: gitdb<5,>=4.0.1 in /Users/Merel_Theisen/anaconda3/envs/iris-databricks/lib/python3.10/site-packages (from gitpython>=3.0->kedro<0.20.0,>=0.19.0->kedro-mlflow) (4.0.11)\n",
      "Requirement already satisfied: graphql-core<3.3,>=3.1 in /Users/Merel_Theisen/anaconda3/envs/iris-databricks/lib/python3.10/site-packages (from graphene<4->mlflow<3.0.0,>=2.7.0->kedro-mlflow) (3.2.6)\n",
      "Requirement already satisfied: graphql-relay<3.3,>=3.1 in /Users/Merel_Theisen/anaconda3/envs/iris-databricks/lib/python3.10/site-packages (from graphene<4->mlflow<3.0.0,>=2.7.0->kedro-mlflow) (3.2.0)\n",
      "Requirement already satisfied: python-dateutil<3,>=2.7.0 in /Users/Merel_Theisen/anaconda3/envs/iris-databricks/lib/python3.10/site-packages (from graphene<4->mlflow<3.0.0,>=2.7.0->kedro-mlflow) (2.9.0.post0)\n",
      "Requirement already satisfied: zipp>=0.5 in /Users/Merel_Theisen/anaconda3/envs/iris-databricks/lib/python3.10/site-packages (from importlib-metadata<9.0,>=3.6->kedro<0.20.0,>=0.19.0->kedro-mlflow) (3.19.2)\n",
      "Requirement already satisfied: appdirs>=1.4.4 in /Users/Merel_Theisen/anaconda3/envs/iris-databricks/lib/python3.10/site-packages (from kedro-telemetry>=0.5.0->kedro<0.20.0,>=0.19.0->kedro-mlflow) (1.4.4)\n",
      "Requirement already satisfied: contourpy>=1.0.1 in /Users/Merel_Theisen/anaconda3/envs/iris-databricks/lib/python3.10/site-packages (from matplotlib<4->mlflow<3.0.0,>=2.7.0->kedro-mlflow) (1.3.2)\n",
      "Requirement already satisfied: cycler>=0.10 in /Users/Merel_Theisen/anaconda3/envs/iris-databricks/lib/python3.10/site-packages (from matplotlib<4->mlflow<3.0.0,>=2.7.0->kedro-mlflow) (0.12.1)\n",
      "Requirement already satisfied: fonttools>=4.22.0 in /Users/Merel_Theisen/anaconda3/envs/iris-databricks/lib/python3.10/site-packages (from matplotlib<4->mlflow<3.0.0,>=2.7.0->kedro-mlflow) (4.58.3)\n",
      "Requirement already satisfied: kiwisolver>=1.3.1 in /Users/Merel_Theisen/anaconda3/envs/iris-databricks/lib/python3.10/site-packages (from matplotlib<4->mlflow<3.0.0,>=2.7.0->kedro-mlflow) (1.4.8)\n",
      "Requirement already satisfied: pillow>=8 in /Users/Merel_Theisen/anaconda3/envs/iris-databricks/lib/python3.10/site-packages (from matplotlib<4->mlflow<3.0.0,>=2.7.0->kedro-mlflow) (11.2.1)\n",
      "Requirement already satisfied: pyparsing>=2.3.1 in /Users/Merel_Theisen/anaconda3/envs/iris-databricks/lib/python3.10/site-packages (from matplotlib<4->mlflow<3.0.0,>=2.7.0->kedro-mlflow) (3.2.3)\n",
      "Requirement already satisfied: antlr4-python3-runtime==4.9.* in /Users/Merel_Theisen/anaconda3/envs/iris-databricks/lib/python3.10/site-packages (from omegaconf>=2.1.1->kedro<0.20.0,>=0.19.0->kedro-mlflow) (4.9.3)\n",
      "Requirement already satisfied: tzdata>=2022.7 in /Users/Merel_Theisen/anaconda3/envs/iris-databricks/lib/python3.10/site-packages (from pandas<3->mlflow<3.0.0,>=2.7.0->kedro-mlflow) (2024.1)\n",
      "Requirement already satisfied: six in /Users/Merel_Theisen/anaconda3/envs/iris-databricks/lib/python3.10/site-packages (from querystring-parser<2->mlflow<3.0.0,>=2.7.0->kedro-mlflow) (1.16.0)\n",
      "Requirement already satisfied: charset-normalizer<4,>=2 in /Users/Merel_Theisen/anaconda3/envs/iris-databricks/lib/python3.10/site-packages (from requests<3,>=2.17.3->mlflow<3.0.0,>=2.7.0->kedro-mlflow) (3.3.2)\n",
      "Requirement already satisfied: idna<4,>=2.5 in /Users/Merel_Theisen/anaconda3/envs/iris-databricks/lib/python3.10/site-packages (from requests<3,>=2.17.3->mlflow<3.0.0,>=2.7.0->kedro-mlflow) (3.7)\n",
      "Requirement already satisfied: certifi>=2017.4.17 in /Users/Merel_Theisen/anaconda3/envs/iris-databricks/lib/python3.10/site-packages (from requests<3,>=2.17.3->mlflow<3.0.0,>=2.7.0->kedro-mlflow) (2024.7.4)\n",
      "Requirement already satisfied: markdown-it-py>=2.2.0 in /Users/Merel_Theisen/anaconda3/envs/iris-databricks/lib/python3.10/site-packages (from rich<14.0,>=12.0->kedro<0.20.0,>=0.19.0->kedro-mlflow) (3.0.0)\n",
      "Requirement already satisfied: pygments<3.0.0,>=2.13.0 in /Users/Merel_Theisen/anaconda3/envs/iris-databricks/lib/python3.10/site-packages (from rich<14.0,>=12.0->kedro<0.20.0,>=0.19.0->kedro-mlflow) (2.18.0)\n",
      "Requirement already satisfied: pytoolconfig>=1.2.2 in /Users/Merel_Theisen/anaconda3/envs/iris-databricks/lib/python3.10/site-packages (from pytoolconfig[global]>=1.2.2->rope<2.0,>=0.21->kedro<0.20.0,>=0.19.0->kedro-mlflow) (1.3.1)\n",
      "Requirement already satisfied: joblib>=1.2.0 in /Users/Merel_Theisen/anaconda3/envs/iris-databricks/lib/python3.10/site-packages (from scikit-learn<2->mlflow<3.0.0,>=2.7.0->kedro-mlflow) (1.4.0)\n",
      "Requirement already satisfied: threadpoolctl>=3.1.0 in /Users/Merel_Theisen/anaconda3/envs/iris-databricks/lib/python3.10/site-packages (from scikit-learn<2->mlflow<3.0.0,>=2.7.0->kedro-mlflow) (3.6.0)\n",
      "Requirement already satisfied: ruamel.yaml>=0.15 in /Users/Merel_Theisen/anaconda3/envs/iris-databricks/lib/python3.10/site-packages (from pre-commit-hooks->kedro<0.20.0,>=0.19.0->kedro-mlflow) (0.18.6)\n",
      "Requirement already satisfied: chardet>=3.0.2 in /Users/Merel_Theisen/anaconda3/envs/iris-databricks/lib/python3.10/site-packages (from binaryornot>=0.4.4->cookiecutter<3.0,>=2.1.1->kedro<0.20.0,>=0.19.0->kedro-mlflow) (5.2.0)\n",
      "Requirement already satisfied: smmap<6,>=3.0.1 in /Users/Merel_Theisen/anaconda3/envs/iris-databricks/lib/python3.10/site-packages (from gitdb<5,>=4.0.1->gitpython>=3.0->kedro<0.20.0,>=0.19.0->kedro-mlflow) (5.0.1)\n",
      "Requirement already satisfied: mdurl~=0.1 in /Users/Merel_Theisen/anaconda3/envs/iris-databricks/lib/python3.10/site-packages (from markdown-it-py>=2.2.0->rich<14.0,>=12.0->kedro<0.20.0,>=0.19.0->kedro-mlflow) (0.1.2)\n",
      "Requirement already satisfied: text-unidecode>=1.3 in /Users/Merel_Theisen/anaconda3/envs/iris-databricks/lib/python3.10/site-packages (from python-slugify>=4.0.0->cookiecutter<3.0,>=2.1.1->kedro<0.20.0,>=0.19.0->kedro-mlflow) (1.3)\n",
      "Requirement already satisfied: platformdirs>=3.11.0 in /Users/Merel_Theisen/anaconda3/envs/iris-databricks/lib/python3.10/site-packages (from pytoolconfig[global]>=1.2.2->rope<2.0,>=0.21->kedro<0.20.0,>=0.19.0->kedro-mlflow) (4.2.2)\n",
      "Requirement already satisfied: ruamel.yaml.clib>=0.2.7 in /Users/Merel_Theisen/anaconda3/envs/iris-databricks/lib/python3.10/site-packages (from ruamel.yaml>=0.15->pre-commit-hooks->kedro<0.20.0,>=0.19.0->kedro-mlflow) (0.2.8)\n",
      "Requirement already satisfied: types-python-dateutil>=2.8.10 in /Users/Merel_Theisen/anaconda3/envs/iris-databricks/lib/python3.10/site-packages (from arrow->cookiecutter<3.0,>=2.1.1->kedro<0.20.0,>=0.19.0->kedro-mlflow) (2.9.0.20240316)\n",
      "Using cached kedro_mlflow-0.14.4-py3-none-any.whl (54 kB)\n",
      "Installing collected packages: kedro-mlflow\n",
      "Successfully installed kedro-mlflow-0.14.4\n",
      "Note: you may need to restart the kernel to use updated packages.\n"
     ]
    }
   ],
   "source": [
    "%pip install kedro-mlflow"
   ]
  },
  {
   "cell_type": "markdown",
   "metadata": {
    "application/vnd.databricks.v1+cell": {
     "cellMetadata": {},
     "inputWidgets": {},
     "nuid": "3dd745b5-e7e3-4f02-8dad-738d19e27eed",
     "showTitle": false,
     "tableResultSettingsMap": {},
     "title": ""
    }
   },
   "source": [
    "`kedro-mlflow` can take [configuration](https://kedro-mlflow.readthedocs.io/en/0.14.4/source/03_experiment_tracking/01_experiment_tracking/01_configuration.html) from `conf/<environment>/mlflow.yml`, which can be used to configure the experiment name.\n",
    "\n",
    "To this end, let's add some OmegaConf syntax to `mlflow.yml` so that the experiment name can be specified from the outside:"
   ]
  },
  {
   "cell_type": "code",
   "execution_count": null,
   "metadata": {
    "application/vnd.databricks.v1+cell": {
     "cellMetadata": {
      "byteLimit": 2048000,
      "rowLimit": 10000
     },
     "inputWidgets": {},
     "nuid": "3b3bf303-18a8-4314-b5ed-74f2def4eea2",
     "showTitle": false,
     "tableResultSettingsMap": {},
     "title": ""
    }
   },
   "outputs": [],
   "source": [
    "%%writefile ../conf/local/mlflow.yml\n",
    "server:\n",
    "  mlflow_tracking_uri: databricks\n",
    "\n",
    "tracking:\n",
    "  experiment:\n",
    "    name: ${runtime_params:mlflow_experiment_name}"
   ]
  },
  {
   "cell_type": "markdown",
   "metadata": {
    "application/vnd.databricks.v1+cell": {
     "cellMetadata": {},
     "inputWidgets": {},
     "nuid": "712b00a6-6e06-46b2-b383-fc38bed5ed88",
     "showTitle": false,
     "tableResultSettingsMap": {},
     "title": ""
    }
   },
   "source": [
    "Now you can pass the experiment name as a runtime parameter:\n",
    "\n",
    "_Note: Extra params cannot contain spaces when passed to `%reload_kedro`, see [this issue](https://github.com/kedro-org/kedro/issues/4813)_"
   ]
  },
  {
   "cell_type": "code",
   "execution_count": 3,
   "metadata": {
    "application/vnd.databricks.v1+cell": {
     "cellMetadata": {
      "byteLimit": 2048000,
      "rowLimit": 10000
     },
     "inputWidgets": {},
     "nuid": "b869d0ed-84a1-48a2-9ca0-e303c14e09ad",
     "showTitle": false,
     "tableResultSettingsMap": {},
     "title": ""
    }
   },
   "outputs": [
    {
     "name": "stderr",
     "output_type": "stream",
     "text": [
      "UsageError: Line magic function `%reload_kedro` not found.\n"
     ]
    }
   ],
   "source": [
    "%reload_kedro --params mlflow_experiment_name=$experiment_path"
   ]
  },
  {
   "cell_type": "markdown",
   "metadata": {
    "application/vnd.databricks.v1+cell": {
     "cellMetadata": {},
     "inputWidgets": {},
     "nuid": "6cd9ed83-fe75-40c4-97a1-bf4e48c75605",
     "showTitle": false,
     "tableResultSettingsMap": {},
     "title": ""
    }
   },
   "source": [
    "Now, every time a Kedro pipeline is run, it's logged as al MLflow run:"
   ]
  },
  {
   "cell_type": "code",
   "execution_count": null,
   "metadata": {
    "application/vnd.databricks.v1+cell": {
     "cellMetadata": {
      "byteLimit": 2048000,
      "rowLimit": 10000
     },
     "inputWidgets": {},
     "nuid": "164eeb73-3ca4-4358-9537-e9118b22bd32",
     "showTitle": false,
     "tableResultSettingsMap": {},
     "title": ""
    }
   },
   "outputs": [],
   "source": [
    "session.run(\"data_processing\")"
   ]
  },
  {
   "cell_type": "markdown",
   "metadata": {
    "application/vnd.databricks.v1+cell": {
     "cellMetadata": {},
     "inputWidgets": {},
     "nuid": "f7ebedd2-1158-467c-98a6-da60d36b8ea7",
     "showTitle": false,
     "tableResultSettingsMap": {},
     "title": ""
    }
   },
   "source": [
    "![MLflow run corresponding to a Kedro run on Databricks](./kedro-databricks-mlflow-run.png)"
   ]
  },
  {
   "cell_type": "markdown",
   "metadata": {},
   "source": [
    "### Exercise 3\n",
    "\n",
    "Make the necessary changes to the project so that you can run a Kedro pipeline and log the results as a MLflow experiment from the CLI:\n",
    "\n",
    "```bash\n",
    "(.venv) $ kedro run -p data_processing --params mlflow_experiment_name=/Users/juan_luis_cano@mckinsey.com/02_2-kedro-on-databricks\n",
    "```\n",
    "\n",
    "_Note: To run locally you might need to `export DATABRICKS_SERVERLESS_COMPUTE_ID=auto`, see https://learn.microsoft.com/en-us/azure/databricks/dev-tools/databricks-connect/cluster-config#configure-a-connection-to-serverless-compute_"
   ]
  },
  {
   "cell_type": "markdown",
   "metadata": {},
   "source": [
    "### Register models using the Databricks Unity Catalog"
   ]
  },
  {
   "cell_type": "markdown",
   "metadata": {},
   "source": [
    "Registering models on the Unity Catalog from Kedro pipelines is trivial.\n",
    "\n",
    "Adjust the `regressor` dataset:\n",
    "\n",
    "```diff\n",
    " regressor:\n",
    "-  type: pickle.PickleDataset\n",
    "-  filepath: data/06_models/regressor.pickle\n",
    "-  versioned: true\n",
    "+  type: kedro_mlflow.io.models.MlflowModelTrackingDataset\n",
    "+  flavor: mlflow.sklearn\n",
    "```"
   ]
  },
  {
   "cell_type": "markdown",
   "metadata": {},
   "source": [
    "And run the `data_science` pipeline:"
   ]
  },
  {
   "cell_type": "code",
   "execution_count": 7,
   "metadata": {},
   "outputs": [
    {
     "data": {
      "text/html": [
       "<pre style=\"white-space:pre;overflow-x:auto;line-height:normal;font-family:Menlo,'DejaVu Sans Mono',consolas,'Courier New',monospace\"><span style=\"color: #7fbfbf; text-decoration-color: #7fbfbf\">[06/16/25 10:45:32] </span><span style=\"color: #000080; text-decoration-color: #000080\">INFO    </span> Resolved project path as:                                              <a href=\"file:///Users/Merel_Theisen/anaconda3/envs/iris-databricks/lib/python3.10/site-packages/kedro/ipython/__init__.py\" target=\"_blank\"><span style=\"color: #7f7f7f; text-decoration-color: #7f7f7f\">__init__.py</span></a><span style=\"color: #7f7f7f; text-decoration-color: #7f7f7f\">:</span><a href=\"file:///Users/Merel_Theisen/anaconda3/envs/iris-databricks/lib/python3.10/site-packages/kedro/ipython/__init__.py#178\" target=\"_blank\"><span style=\"color: #7f7f7f; text-decoration-color: #7f7f7f\">178</span></a>\n",
       "<span style=\"color: #7fbfbf; text-decoration-color: #7fbfbf\">                    </span>         <span style=\"color: #800080; text-decoration-color: #800080\">/Users/Merel_Theisen/Projects/kedro-academy/kedro-databricks-bootcamp/</span> <span style=\"color: #7f7f7f; text-decoration-color: #7f7f7f\">               </span>\n",
       "<span style=\"color: #7fbfbf; text-decoration-color: #7fbfbf\">                    </span>         <span style=\"color: #800080; text-decoration-color: #800080\">02_databricks/</span><span style=\"color: #ff00ff; text-decoration-color: #ff00ff\">rocketfuel.</span>                                              <span style=\"color: #7f7f7f; text-decoration-color: #7f7f7f\">               </span>\n",
       "<span style=\"color: #7fbfbf; text-decoration-color: #7fbfbf\">                    </span>         To set a different path, run <span style=\"color: #008000; text-decoration-color: #008000\">'%reload_kedro &lt;project_root&gt;'</span>            <span style=\"color: #7f7f7f; text-decoration-color: #7f7f7f\">               </span>\n",
       "</pre>\n"
      ],
      "text/plain": [
       "\u001B[2;36m[06/16/25 10:45:32]\u001B[0m\u001B[2;36m \u001B[0m\u001B[34mINFO    \u001B[0m Resolved project path as:                                              \u001B]8;id=897938;file:///Users/Merel_Theisen/anaconda3/envs/iris-databricks/lib/python3.10/site-packages/kedro/ipython/__init__.py\u001B\\\u001B[2m__init__.py\u001B[0m\u001B]8;;\u001B\\\u001B[2m:\u001B[0m\u001B]8;id=245686;file:///Users/Merel_Theisen/anaconda3/envs/iris-databricks/lib/python3.10/site-packages/kedro/ipython/__init__.py#178\u001B\\\u001B[2m178\u001B[0m\u001B]8;;\u001B\\\n",
       "\u001B[2;36m                    \u001B[0m         \u001B[35m/Users/Merel_Theisen/Projects/kedro-academy/kedro-databricks-bootcamp/\u001B[0m \u001B[2m               \u001B[0m\n",
       "\u001B[2;36m                    \u001B[0m         \u001B[35m02_databricks/\u001B[0m\u001B[95mrocketfuel.\u001B[0m                                              \u001B[2m               \u001B[0m\n",
       "\u001B[2;36m                    \u001B[0m         To set a different path, run \u001B[32m'%reload_kedro \u001B[0m\u001B[32m<\u001B[0m\u001B[32mproject_root\u001B[0m\u001B[32m>\u001B[0m\u001B[32m'\u001B[0m            \u001B[2m               \u001B[0m\n"
      ]
     },
     "metadata": {},
     "output_type": "display_data"
    },
    {
     "data": {
      "text/html": [
       "<pre style=\"white-space:pre;overflow-x:auto;line-height:normal;font-family:Menlo,'DejaVu Sans Mono',consolas,'Courier New',monospace\"><span style=\"color: #7fbfbf; text-decoration-color: #7fbfbf\">                    </span><span style=\"color: #000080; text-decoration-color: #000080\">INFO    </span> Registering new custom resolver: <span style=\"color: #008000; text-decoration-color: #008000\">'km.random_name'</span>                    <a href=\"file:///Users/Merel_Theisen/anaconda3/envs/iris-databricks/lib/python3.10/site-packages/kedro_mlflow/framework/hooks/mlflow_hook.py\" target=\"_blank\"><span style=\"color: #7f7f7f; text-decoration-color: #7f7f7f\">mlflow_hook.py</span></a><span style=\"color: #7f7f7f; text-decoration-color: #7f7f7f\">:</span><a href=\"file:///Users/Merel_Theisen/anaconda3/envs/iris-databricks/lib/python3.10/site-packages/kedro_mlflow/framework/hooks/mlflow_hook.py#65\" target=\"_blank\"><span style=\"color: #7f7f7f; text-decoration-color: #7f7f7f\">65</span></a>\n",
       "</pre>\n"
      ],
      "text/plain": [
       "\u001B[2;36m                   \u001B[0m\u001B[2;36m \u001B[0m\u001B[34mINFO    \u001B[0m Registering new custom resolver: \u001B[32m'km.random_name'\u001B[0m                    \u001B]8;id=697211;file:///Users/Merel_Theisen/anaconda3/envs/iris-databricks/lib/python3.10/site-packages/kedro_mlflow/framework/hooks/mlflow_hook.py\u001B\\\u001B[2mmlflow_hook.py\u001B[0m\u001B]8;;\u001B\\\u001B[2m:\u001B[0m\u001B]8;id=388674;file:///Users/Merel_Theisen/anaconda3/envs/iris-databricks/lib/python3.10/site-packages/kedro_mlflow/framework/hooks/mlflow_hook.py#65\u001B\\\u001B[2m65\u001B[0m\u001B]8;;\u001B\\\n"
      ]
     },
     "metadata": {},
     "output_type": "display_data"
    },
    {
     "data": {
      "text/html": [
       "<pre style=\"white-space:pre;overflow-x:auto;line-height:normal;font-family:Menlo,'DejaVu Sans Mono',consolas,'Courier New',monospace\"><span style=\"color: #7fbfbf; text-decoration-color: #7fbfbf\">[06/16/25 10:45:33] </span><span style=\"color: #000080; text-decoration-color: #000080\">INFO    </span> Kedro is sending anonymous usage data with the sole purpose of improving <a href=\"file:///Users/Merel_Theisen/anaconda3/envs/iris-databricks/lib/python3.10/site-packages/kedro_telemetry/plugin.py\" target=\"_blank\"><span style=\"color: #7f7f7f; text-decoration-color: #7f7f7f\">plugin.py</span></a><span style=\"color: #7f7f7f; text-decoration-color: #7f7f7f\">:</span><a href=\"file:///Users/Merel_Theisen/anaconda3/envs/iris-databricks/lib/python3.10/site-packages/kedro_telemetry/plugin.py#233\" target=\"_blank\"><span style=\"color: #7f7f7f; text-decoration-color: #7f7f7f\">233</span></a>\n",
       "<span style=\"color: #7fbfbf; text-decoration-color: #7fbfbf\">                    </span>         the product. No personal data or IP addresses are stored on our side. If <span style=\"color: #7f7f7f; text-decoration-color: #7f7f7f\">             </span>\n",
       "<span style=\"color: #7fbfbf; text-decoration-color: #7fbfbf\">                    </span>         you want to opt out, set the `KEDRO_DISABLE_TELEMETRY` or `DO_NOT_TRACK` <span style=\"color: #7f7f7f; text-decoration-color: #7f7f7f\">             </span>\n",
       "<span style=\"color: #7fbfbf; text-decoration-color: #7fbfbf\">                    </span>         environment variables, or create a `.telemetry` file in the current      <span style=\"color: #7f7f7f; text-decoration-color: #7f7f7f\">             </span>\n",
       "<span style=\"color: #7fbfbf; text-decoration-color: #7fbfbf\">                    </span>         working directory with the contents `consent: false`. Read more at       <span style=\"color: #7f7f7f; text-decoration-color: #7f7f7f\">             </span>\n",
       "<span style=\"color: #7fbfbf; text-decoration-color: #7fbfbf\">                    </span>         <span style=\"color: #0000ff; text-decoration-color: #0000ff; text-decoration: underline\">https://docs.kedro.org/en/stable/configuration/telemetry.html</span>            <span style=\"color: #7f7f7f; text-decoration-color: #7f7f7f\">             </span>\n",
       "</pre>\n"
      ],
      "text/plain": [
       "\u001B[2;36m[06/16/25 10:45:33]\u001B[0m\u001B[2;36m \u001B[0m\u001B[34mINFO    \u001B[0m Kedro is sending anonymous usage data with the sole purpose of improving \u001B]8;id=602210;file:///Users/Merel_Theisen/anaconda3/envs/iris-databricks/lib/python3.10/site-packages/kedro_telemetry/plugin.py\u001B\\\u001B[2mplugin.py\u001B[0m\u001B]8;;\u001B\\\u001B[2m:\u001B[0m\u001B]8;id=523521;file:///Users/Merel_Theisen/anaconda3/envs/iris-databricks/lib/python3.10/site-packages/kedro_telemetry/plugin.py#233\u001B\\\u001B[2m233\u001B[0m\u001B]8;;\u001B\\\n",
       "\u001B[2;36m                    \u001B[0m         the product. No personal data or IP addresses are stored on our side. If \u001B[2m             \u001B[0m\n",
       "\u001B[2;36m                    \u001B[0m         you want to opt out, set the `KEDRO_DISABLE_TELEMETRY` or `DO_NOT_TRACK` \u001B[2m             \u001B[0m\n",
       "\u001B[2;36m                    \u001B[0m         environment variables, or create a `.telemetry` file in the current      \u001B[2m             \u001B[0m\n",
       "\u001B[2;36m                    \u001B[0m         working directory with the contents `consent: false`. Read more at       \u001B[2m             \u001B[0m\n",
       "\u001B[2;36m                    \u001B[0m         \u001B[4;94mhttps://docs.kedro.org/en/stable/configuration/telemetry.html\u001B[0m            \u001B[2m             \u001B[0m\n"
      ]
     },
     "metadata": {},
     "output_type": "display_data"
    },
    {
     "data": {
      "text/html": [
       "<pre style=\"white-space:pre;overflow-x:auto;line-height:normal;font-family:Menlo,'DejaVu Sans Mono',consolas,'Courier New',monospace\"><span style=\"color: #7fbfbf; text-decoration-color: #7fbfbf\">[06/16/25 10:45:34] </span><span style=\"color: #000080; text-decoration-color: #000080\">INFO    </span> Kedro project rocketfuel                                               <a href=\"file:///Users/Merel_Theisen/anaconda3/envs/iris-databricks/lib/python3.10/site-packages/kedro/ipython/__init__.py\" target=\"_blank\"><span style=\"color: #7f7f7f; text-decoration-color: #7f7f7f\">__init__.py</span></a><span style=\"color: #7f7f7f; text-decoration-color: #7f7f7f\">:</span><a href=\"file:///Users/Merel_Theisen/anaconda3/envs/iris-databricks/lib/python3.10/site-packages/kedro/ipython/__init__.py#144\" target=\"_blank\"><span style=\"color: #7f7f7f; text-decoration-color: #7f7f7f\">144</span></a>\n",
       "</pre>\n"
      ],
      "text/plain": [
       "\u001B[2;36m[06/16/25 10:45:34]\u001B[0m\u001B[2;36m \u001B[0m\u001B[34mINFO    \u001B[0m Kedro project rocketfuel                                               \u001B]8;id=209355;file:///Users/Merel_Theisen/anaconda3/envs/iris-databricks/lib/python3.10/site-packages/kedro/ipython/__init__.py\u001B\\\u001B[2m__init__.py\u001B[0m\u001B]8;;\u001B\\\u001B[2m:\u001B[0m\u001B]8;id=948864;file:///Users/Merel_Theisen/anaconda3/envs/iris-databricks/lib/python3.10/site-packages/kedro/ipython/__init__.py#144\u001B\\\u001B[2m144\u001B[0m\u001B]8;;\u001B\\\n"
      ]
     },
     "metadata": {},
     "output_type": "display_data"
    },
    {
     "data": {
      "text/html": [
       "<pre style=\"white-space:pre;overflow-x:auto;line-height:normal;font-family:Menlo,'DejaVu Sans Mono',consolas,'Courier New',monospace\"><span style=\"color: #7fbfbf; text-decoration-color: #7fbfbf\">                    </span><span style=\"color: #000080; text-decoration-color: #000080\">INFO    </span> Defined global variable <span style=\"color: #008000; text-decoration-color: #008000\">'context'</span>, <span style=\"color: #008000; text-decoration-color: #008000\">'session'</span>, <span style=\"color: #008000; text-decoration-color: #008000\">'catalog'</span> and            <a href=\"file:///Users/Merel_Theisen/anaconda3/envs/iris-databricks/lib/python3.10/site-packages/kedro/ipython/__init__.py\" target=\"_blank\"><span style=\"color: #7f7f7f; text-decoration-color: #7f7f7f\">__init__.py</span></a><span style=\"color: #7f7f7f; text-decoration-color: #7f7f7f\">:</span><a href=\"file:///Users/Merel_Theisen/anaconda3/envs/iris-databricks/lib/python3.10/site-packages/kedro/ipython/__init__.py#145\" target=\"_blank\"><span style=\"color: #7f7f7f; text-decoration-color: #7f7f7f\">145</span></a>\n",
       "<span style=\"color: #7fbfbf; text-decoration-color: #7fbfbf\">                    </span>         <span style=\"color: #008000; text-decoration-color: #008000\">'pipelines'</span>                                                            <span style=\"color: #7f7f7f; text-decoration-color: #7f7f7f\">               </span>\n",
       "</pre>\n"
      ],
      "text/plain": [
       "\u001B[2;36m                   \u001B[0m\u001B[2;36m \u001B[0m\u001B[34mINFO    \u001B[0m Defined global variable \u001B[32m'context'\u001B[0m, \u001B[32m'session'\u001B[0m, \u001B[32m'catalog'\u001B[0m and            \u001B]8;id=72225;file:///Users/Merel_Theisen/anaconda3/envs/iris-databricks/lib/python3.10/site-packages/kedro/ipython/__init__.py\u001B\\\u001B[2m__init__.py\u001B[0m\u001B]8;;\u001B\\\u001B[2m:\u001B[0m\u001B]8;id=266101;file:///Users/Merel_Theisen/anaconda3/envs/iris-databricks/lib/python3.10/site-packages/kedro/ipython/__init__.py#145\u001B\\\u001B[2m145\u001B[0m\u001B]8;;\u001B\\\n",
       "\u001B[2;36m                    \u001B[0m         \u001B[32m'pipelines'\u001B[0m                                                            \u001B[2m               \u001B[0m\n"
      ]
     },
     "metadata": {},
     "output_type": "display_data"
    },
    {
     "data": {
      "text/html": [
       "<pre style=\"white-space:pre;overflow-x:auto;line-height:normal;font-family:Menlo,'DejaVu Sans Mono',consolas,'Courier New',monospace\"><span style=\"color: #7fbfbf; text-decoration-color: #7fbfbf\">                    </span><span style=\"color: #000080; text-decoration-color: #000080\">INFO    </span> Registered line magic <span style=\"color: #008000; text-decoration-color: #008000\">'run_viz'</span>                                        <a href=\"file:///Users/Merel_Theisen/anaconda3/envs/iris-databricks/lib/python3.10/site-packages/kedro/ipython/__init__.py\" target=\"_blank\"><span style=\"color: #7f7f7f; text-decoration-color: #7f7f7f\">__init__.py</span></a><span style=\"color: #7f7f7f; text-decoration-color: #7f7f7f\">:</span><a href=\"file:///Users/Merel_Theisen/anaconda3/envs/iris-databricks/lib/python3.10/site-packages/kedro/ipython/__init__.py#151\" target=\"_blank\"><span style=\"color: #7f7f7f; text-decoration-color: #7f7f7f\">151</span></a>\n",
       "</pre>\n"
      ],
      "text/plain": [
       "\u001B[2;36m                   \u001B[0m\u001B[2;36m \u001B[0m\u001B[34mINFO    \u001B[0m Registered line magic \u001B[32m'run_viz'\u001B[0m                                        \u001B]8;id=329503;file:///Users/Merel_Theisen/anaconda3/envs/iris-databricks/lib/python3.10/site-packages/kedro/ipython/__init__.py\u001B\\\u001B[2m__init__.py\u001B[0m\u001B]8;;\u001B\\\u001B[2m:\u001B[0m\u001B]8;id=133182;file:///Users/Merel_Theisen/anaconda3/envs/iris-databricks/lib/python3.10/site-packages/kedro/ipython/__init__.py#151\u001B\\\u001B[2m151\u001B[0m\u001B]8;;\u001B\\\n"
      ]
     },
     "metadata": {},
     "output_type": "display_data"
    }
   ],
   "source": [
    "%reload_kedro --params mlflow_experiment_name=$experiment_path"
   ]
  },
  {
   "cell_type": "code",
   "execution_count": null,
   "metadata": {},
   "outputs": [
    {
     "data": {
      "text/html": [
       "<pre style=\"white-space:pre;overflow-x:auto;line-height:normal;font-family:Menlo,'DejaVu Sans Mono',consolas,'Courier New',monospace\"><span style=\"color: #7fbfbf; text-decoration-color: #7fbfbf\">[06/16/25 10:45:35] </span><span style=\"color: #000080; text-decoration-color: #000080\">INFO    </span> Kedro project rocketfuel                                                <a href=\"file:///Users/Merel_Theisen/anaconda3/envs/iris-databricks/lib/python3.10/site-packages/kedro/framework/session/session.py\" target=\"_blank\"><span style=\"color: #7f7f7f; text-decoration-color: #7f7f7f\">session.py</span></a><span style=\"color: #7f7f7f; text-decoration-color: #7f7f7f\">:</span><a href=\"file:///Users/Merel_Theisen/anaconda3/envs/iris-databricks/lib/python3.10/site-packages/kedro/framework/session/session.py#329\" target=\"_blank\"><span style=\"color: #7f7f7f; text-decoration-color: #7f7f7f\">329</span></a>\n",
       "</pre>\n"
      ],
      "text/plain": [
       "\u001B[2;36m[06/16/25 10:45:35]\u001B[0m\u001B[2;36m \u001B[0m\u001B[34mINFO    \u001B[0m Kedro project rocketfuel                                                \u001B]8;id=972545;file:///Users/Merel_Theisen/anaconda3/envs/iris-databricks/lib/python3.10/site-packages/kedro/framework/session/session.py\u001B\\\u001B[2msession.py\u001B[0m\u001B]8;;\u001B\\\u001B[2m:\u001B[0m\u001B]8;id=361411;file:///Users/Merel_Theisen/anaconda3/envs/iris-databricks/lib/python3.10/site-packages/kedro/framework/session/session.py#329\u001B\\\u001B[2m329\u001B[0m\u001B]8;;\u001B\\\n"
      ]
     },
     "metadata": {},
     "output_type": "display_data"
    },
    {
     "data": {
      "text/html": [
       "<pre style=\"white-space:pre;overflow-x:auto;line-height:normal;font-family:Menlo,'DejaVu Sans Mono',consolas,'Courier New',monospace\"><span style=\"color: #7fbfbf; text-decoration-color: #7fbfbf\">                    </span><span style=\"color: #000080; text-decoration-color: #000080\">INFO    </span> Registering new custom resolver: <span style=\"color: #008000; text-decoration-color: #008000\">'km.random_name'</span>                    <a href=\"file:///Users/Merel_Theisen/anaconda3/envs/iris-databricks/lib/python3.10/site-packages/kedro_mlflow/framework/hooks/mlflow_hook.py\" target=\"_blank\"><span style=\"color: #7f7f7f; text-decoration-color: #7f7f7f\">mlflow_hook.py</span></a><span style=\"color: #7f7f7f; text-decoration-color: #7f7f7f\">:</span><a href=\"file:///Users/Merel_Theisen/anaconda3/envs/iris-databricks/lib/python3.10/site-packages/kedro_mlflow/framework/hooks/mlflow_hook.py#65\" target=\"_blank\"><span style=\"color: #7f7f7f; text-decoration-color: #7f7f7f\">65</span></a>\n",
       "</pre>\n"
      ],
      "text/plain": [
       "\u001B[2;36m                   \u001B[0m\u001B[2;36m \u001B[0m\u001B[34mINFO    \u001B[0m Registering new custom resolver: \u001B[32m'km.random_name'\u001B[0m                    \u001B]8;id=827763;file:///Users/Merel_Theisen/anaconda3/envs/iris-databricks/lib/python3.10/site-packages/kedro_mlflow/framework/hooks/mlflow_hook.py\u001B\\\u001B[2mmlflow_hook.py\u001B[0m\u001B]8;;\u001B\\\u001B[2m:\u001B[0m\u001B]8;id=738592;file:///Users/Merel_Theisen/anaconda3/envs/iris-databricks/lib/python3.10/site-packages/kedro_mlflow/framework/hooks/mlflow_hook.py#65\u001B\\\u001B[2m65\u001B[0m\u001B]8;;\u001B\\\n"
      ]
     },
     "metadata": {},
     "output_type": "display_data"
    },
    {
     "data": {
      "text/html": [
       "<pre style=\"white-space:pre;overflow-x:auto;line-height:normal;font-family:Menlo,'DejaVu Sans Mono',consolas,'Courier New',monospace\"><span style=\"color: #7fbfbf; text-decoration-color: #7fbfbf\">[06/16/25 10:45:36] </span><span style=\"color: #000080; text-decoration-color: #000080\">INFO    </span> Kedro is sending anonymous usage data with the sole purpose of improving <a href=\"file:///Users/Merel_Theisen/anaconda3/envs/iris-databricks/lib/python3.10/site-packages/kedro_telemetry/plugin.py\" target=\"_blank\"><span style=\"color: #7f7f7f; text-decoration-color: #7f7f7f\">plugin.py</span></a><span style=\"color: #7f7f7f; text-decoration-color: #7f7f7f\">:</span><a href=\"file:///Users/Merel_Theisen/anaconda3/envs/iris-databricks/lib/python3.10/site-packages/kedro_telemetry/plugin.py#233\" target=\"_blank\"><span style=\"color: #7f7f7f; text-decoration-color: #7f7f7f\">233</span></a>\n",
       "<span style=\"color: #7fbfbf; text-decoration-color: #7fbfbf\">                    </span>         the product. No personal data or IP addresses are stored on our side. If <span style=\"color: #7f7f7f; text-decoration-color: #7f7f7f\">             </span>\n",
       "<span style=\"color: #7fbfbf; text-decoration-color: #7fbfbf\">                    </span>         you want to opt out, set the `KEDRO_DISABLE_TELEMETRY` or `DO_NOT_TRACK` <span style=\"color: #7f7f7f; text-decoration-color: #7f7f7f\">             </span>\n",
       "<span style=\"color: #7fbfbf; text-decoration-color: #7fbfbf\">                    </span>         environment variables, or create a `.telemetry` file in the current      <span style=\"color: #7f7f7f; text-decoration-color: #7f7f7f\">             </span>\n",
       "<span style=\"color: #7fbfbf; text-decoration-color: #7fbfbf\">                    </span>         working directory with the contents `consent: false`. Read more at       <span style=\"color: #7f7f7f; text-decoration-color: #7f7f7f\">             </span>\n",
       "<span style=\"color: #7fbfbf; text-decoration-color: #7fbfbf\">                    </span>         <span style=\"color: #0000ff; text-decoration-color: #0000ff; text-decoration: underline\">https://docs.kedro.org/en/stable/configuration/telemetry.html</span>            <span style=\"color: #7f7f7f; text-decoration-color: #7f7f7f\">             </span>\n",
       "</pre>\n"
      ],
      "text/plain": [
       "\u001B[2;36m[06/16/25 10:45:36]\u001B[0m\u001B[2;36m \u001B[0m\u001B[34mINFO    \u001B[0m Kedro is sending anonymous usage data with the sole purpose of improving \u001B]8;id=856118;file:///Users/Merel_Theisen/anaconda3/envs/iris-databricks/lib/python3.10/site-packages/kedro_telemetry/plugin.py\u001B\\\u001B[2mplugin.py\u001B[0m\u001B]8;;\u001B\\\u001B[2m:\u001B[0m\u001B]8;id=987079;file:///Users/Merel_Theisen/anaconda3/envs/iris-databricks/lib/python3.10/site-packages/kedro_telemetry/plugin.py#233\u001B\\\u001B[2m233\u001B[0m\u001B]8;;\u001B\\\n",
       "\u001B[2;36m                    \u001B[0m         the product. No personal data or IP addresses are stored on our side. If \u001B[2m             \u001B[0m\n",
       "\u001B[2;36m                    \u001B[0m         you want to opt out, set the `KEDRO_DISABLE_TELEMETRY` or `DO_NOT_TRACK` \u001B[2m             \u001B[0m\n",
       "\u001B[2;36m                    \u001B[0m         environment variables, or create a `.telemetry` file in the current      \u001B[2m             \u001B[0m\n",
       "\u001B[2;36m                    \u001B[0m         working directory with the contents `consent: false`. Read more at       \u001B[2m             \u001B[0m\n",
       "\u001B[2;36m                    \u001B[0m         \u001B[4;94mhttps://docs.kedro.org/en/stable/configuration/telemetry.html\u001B[0m            \u001B[2m             \u001B[0m\n"
      ]
     },
     "metadata": {},
     "output_type": "display_data"
    }
   ],
   "source": [
    "session.run(\"data_science\")"
   ]
  },
  {
   "cell_type": "markdown",
   "metadata": {},
   "source": [
    "![Model registry](kedro-databricks-mlflow-model-registry.png)"
   ]
  }
 ],
 "metadata": {
  "application/vnd.databricks.v1+notebook": {
   "computePreferences": null,
   "dashboards": [],
   "environmentMetadata": {
    "base_environment": "",
    "environment_version": "2"
   },
   "inputWidgetPreferences": null,
   "language": "python",
   "notebookMetadata": {
    "mostRecentlyExecutedCommandWithImplicitDF": {
     "commandId": 5924746010652874,
     "dataframes": [
      "_sqldf"
     ]
    },
    "pythonIndentUnit": 4
   },
   "notebookName": "02_2-Kedro-on-Databricks-part-2",
   "widgets": {}
  },
  "kernelspec": {
   "display_name": "iris-databricks",
   "language": "python",
   "name": "python3"
  },
  "language_info": {
   "codemirror_mode": {
    "name": "ipython",
    "version": 3
   },
   "file_extension": ".py",
   "mimetype": "text/x-python",
   "name": "python",
   "nbconvert_exporter": "python",
   "pygments_lexer": "ipython3",
   "version": "3.10.14"
  }
 },
 "nbformat": 4,
 "nbformat_minor": 4
}
