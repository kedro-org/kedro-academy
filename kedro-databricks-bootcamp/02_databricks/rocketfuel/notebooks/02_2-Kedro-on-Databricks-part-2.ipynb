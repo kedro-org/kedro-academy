{
 "cells": [
  {
   "cell_type": "markdown",
   "metadata": {
    "application/vnd.databricks.v1+cell": {
     "cellMetadata": {},
     "inputWidgets": {},
     "nuid": "19af4bc9-b683-4210-b429-6bc8be11fcd9",
     "showTitle": false,
     "tableResultSettingsMap": {},
     "title": ""
    }
   },
   "source": [
    "# 02.2 - Kedro on Databricks, part 2\n",
    "\n",
    "_Notes: This notebook is supposed to be run locally from VS Code, all with Databricks Connect_"
   ]
  },
  {
   "cell_type": "markdown",
   "metadata": {
    "application/vnd.databricks.v1+cell": {
     "cellMetadata": {},
     "inputWidgets": {},
     "nuid": "11ef80ca-69c2-46e5-8a5f-c00a9fe45c50",
     "showTitle": false,
     "tableResultSettingsMap": {},
     "title": ""
    }
   },
   "source": [
    "## Kedro and Databricks Connect"
   ]
  },
  {
   "cell_type": "markdown",
   "metadata": {},
   "source": [
    "**Databricks Connect** is a client library that allows you to run Spark code locally on your machine while connecting to a remote Databricks cluster for computation. It essentially lets you develop and execute Spark applications from your local IDE or notebook environment, but the actual processing happens on the Databricks cluster.\n",
    "\n",
    "The **Databricks extension for Visual Studio Code** has several interesting features for connecting to Databricks from VS Code and perform actions sach us deploying and running Databricks Asset Bundles, manage clusters, and easily set up **Databricks Connect**.\n",
    "\n",
    "Therefore, the two are the perfect companion for developing Kedro projects on VS Code, since you can develop on your IDE while using Databricks compute.\n",
    "\n",
    "Follow the official documentation to\n",
    "\n",
    "1. [Install the Databricks extension for VS Code](https://learn.microsoft.com/en-us/azure/databricks/dev-tools/vscode-ext/install)\n",
    "2. [Configure the appropriate cluster](https://learn.microsoft.com/en-us/azure/databricks/dev-tools/vscode-ext/configure)\n",
    "3. [Install Databricks Connect](https://learn.microsoft.com/en-us/azure/databricks/dev-tools/vscode-ext/databricks-connect)\n",
    "\n",
    "_Note: `databricks-connect` provides its own `pyspark` top-level module, and [pip doesn't check for conflicting packages](https://github.com/pypa/pip/issues/4625), so make sure you don't have a [conflicting `pyspark` installation](https://learn.microsoft.com/en-us/azure/databricks/dev-tools/databricks-connect/python/troubleshooting#conflicting-pyspark-installations)!_"
   ]
  },
  {
   "cell_type": "code",
   "execution_count": 1,
   "metadata": {},
   "outputs": [
    {
     "name": "stderr",
     "output_type": "stream",
     "text": [
      "/Users/juan_cano/.ipython/profile_default/startup/00-databricks-init-cdb6174794c74fbc909de1ce43bfe286.py:341: UserWarning: \n",
      "%%sh is not supported on Databricks. This notebook might fail when running on a Databricks cluster.\n",
      "Consider using %sh instead.\n",
      "  warnings.warn(\n",
      "\u001b[2mUsing Python 3.12.9 environment at: /Users/juan_cano/Projects/QuantumBlackLabs/Kedro/kedro-databricks-bootcamp/.venv\u001b[0m\n",
      "\u001b[2mResolved \u001b[1m179 packages\u001b[0m \u001b[2min 20.71s\u001b[0m\u001b[0m\n",
      "   \u001b[36m\u001b[1mBuilding\u001b[0m\u001b[39m rocketfuel\u001b[2m @ file:///Users/juan_cano/Projects/QuantumBlackLabs/Kedro/kedro-databricks-bootcamp/02_databricks/rocketfuel\u001b[0m\n",
      "      \u001b[32m\u001b[1mBuilt\u001b[0m\u001b[39m rocketfuel\u001b[2m @ file:///Users/juan_cano/Projects/QuantumBlackLabs/Kedro/kedro-databricks-bootcamp/02_databricks/rocketfuel\u001b[0m\n",
      "\u001b[2mPrepared \u001b[1m3 packages\u001b[0m \u001b[2min 3.50s\u001b[0m\u001b[0m\n",
      "\u001b[2mUninstalled \u001b[1m5 packages\u001b[0m \u001b[2min 1.54s\u001b[0m\u001b[0m\n",
      "\u001b[2mInstalled \u001b[1m32 packages\u001b[0m \u001b[2min 4.23s\u001b[0m\u001b[0m\n",
      " \u001b[32m+\u001b[39m \u001b[1maiobotocore\u001b[0m\u001b[2m==2.22.0\u001b[0m\n",
      " \u001b[32m+\u001b[39m \u001b[1maiofiles\u001b[0m\u001b[2m==24.1.0\u001b[0m\n",
      " \u001b[32m+\u001b[39m \u001b[1maiohappyeyeballs\u001b[0m\u001b[2m==2.6.1\u001b[0m\n",
      " \u001b[32m+\u001b[39m \u001b[1maiohttp\u001b[0m\u001b[2m==3.12.11\u001b[0m\n",
      " \u001b[32m+\u001b[39m \u001b[1maioitertools\u001b[0m\u001b[2m==0.12.0\u001b[0m\n",
      " \u001b[32m+\u001b[39m \u001b[1maiosignal\u001b[0m\u001b[2m==1.3.2\u001b[0m\n",
      " \u001b[31m-\u001b[39m \u001b[1mbotocore\u001b[0m\u001b[2m==1.34.69\u001b[0m\n",
      " \u001b[32m+\u001b[39m \u001b[1mbotocore\u001b[0m\u001b[2m==1.37.3\u001b[0m\n",
      " \u001b[32m+\u001b[39m \u001b[1mclick-default-group\u001b[0m\u001b[2m==1.2.4\u001b[0m\n",
      " \u001b[32m+\u001b[39m \u001b[1mdelta-spark\u001b[0m\u001b[2m==3.3.2\u001b[0m\n",
      " \u001b[32m+\u001b[39m \u001b[1mdocopt\u001b[0m\u001b[2m==0.6.2\u001b[0m\n",
      " \u001b[32m+\u001b[39m \u001b[1mfrozenlist\u001b[0m\u001b[2m==1.6.2\u001b[0m\n",
      " \u001b[32m+\u001b[39m \u001b[1mhdfs\u001b[0m\u001b[2m==2.7.3\u001b[0m\n",
      " \u001b[32m+\u001b[39m \u001b[1mhttptools\u001b[0m\u001b[2m==0.6.4\u001b[0m\n",
      " \u001b[32m+\u001b[39m \u001b[1mkedro-viz\u001b[0m\u001b[2m==11.0.2\u001b[0m\n",
      " \u001b[32m+\u001b[39m \u001b[1mmultidict\u001b[0m\u001b[2m==6.4.4\u001b[0m\n",
      " \u001b[32m+\u001b[39m \u001b[1mnetworkx\u001b[0m\u001b[2m==3.5\u001b[0m\n",
      " \u001b[32m+\u001b[39m \u001b[1morjson\u001b[0m\u001b[2m==3.10.18\u001b[0m\n",
      " \u001b[31m-\u001b[39m \u001b[1mpathspec\u001b[0m\u001b[2m==0.10.3\u001b[0m\n",
      " \u001b[32m+\u001b[39m \u001b[1mpathspec\u001b[0m\u001b[2m==0.12.1\u001b[0m\n",
      " \u001b[32m+\u001b[39m \u001b[1mpropcache\u001b[0m\u001b[2m==0.3.1\u001b[0m\n",
      " \u001b[31m-\u001b[39m \u001b[1mpy4j\u001b[0m\u001b[2m==0.10.9.9\u001b[0m\n",
      " \u001b[32m+\u001b[39m \u001b[1mpy4j\u001b[0m\u001b[2m==0.10.9.7\u001b[0m\n",
      " \u001b[32m+\u001b[39m \u001b[1mpyspark\u001b[0m\u001b[2m==3.5.6\u001b[0m\n",
      " \u001b[32m+\u001b[39m \u001b[1mpython-dotenv\u001b[0m\u001b[2m==1.1.0\u001b[0m\n",
      " \u001b[32m+\u001b[39m \u001b[1mrocketfuel\u001b[0m\u001b[2m==0.1 (from file:///Users/juan_cano/Projects/QuantumBlackLabs/Kedro/kedro-databricks-bootcamp/02_databricks/rocketfuel)\u001b[0m\n",
      " \u001b[32m+\u001b[39m \u001b[1ms3fs\u001b[0m\u001b[2m==2025.5.1\u001b[0m\n",
      " \u001b[31m-\u001b[39m \u001b[1mscikit-learn\u001b[0m\u001b[2m==1.4.2\u001b[0m\n",
      " \u001b[32m+\u001b[39m \u001b[1mscikit-learn\u001b[0m\u001b[2m==1.5.2\u001b[0m\n",
      " \u001b[32m+\u001b[39m \u001b[1msecure\u001b[0m\u001b[2m==1.0.1\u001b[0m\n",
      " \u001b[32m+\u001b[39m \u001b[1mstrawberry-graphql\u001b[0m\u001b[2m==0.271.1\u001b[0m\n",
      " \u001b[31m-\u001b[39m \u001b[1mthreadpoolctl\u001b[0m\u001b[2m==2.2.0\u001b[0m\n",
      " \u001b[32m+\u001b[39m \u001b[1mthreadpoolctl\u001b[0m\u001b[2m==3.6.0\u001b[0m\n",
      " \u001b[32m+\u001b[39m \u001b[1muvloop\u001b[0m\u001b[2m==0.21.0\u001b[0m\n",
      " \u001b[32m+\u001b[39m \u001b[1mwatchfiles\u001b[0m\u001b[2m==1.0.5\u001b[0m\n",
      " \u001b[32m+\u001b[39m \u001b[1mwebsockets\u001b[0m\u001b[2m==15.0.1\u001b[0m\n",
      " \u001b[32m+\u001b[39m \u001b[1myarl\u001b[0m\u001b[2m==1.20.0\u001b[0m\n"
     ]
    }
   ],
   "source": [
    "%%sh\n",
    "uv pip install ./rocketfuel"
   ]
  },
  {
   "cell_type": "code",
   "execution_count": 2,
   "metadata": {},
   "outputs": [
    {
     "data": {
      "text/html": [
       "<pre style=\"white-space:pre;overflow-x:auto;line-height:normal;font-family:Menlo,'DejaVu Sans Mono',consolas,'Courier New',monospace\"><span style=\"color: #7fbfbf; text-decoration-color: #7fbfbf\">[06/09/25 16:52:54] </span><span style=\"color: #000080; text-decoration-color: #000080\">INFO    </span> Using                                                                  <a href=\"file:///Users/juan_cano/Projects/QuantumBlackLabs/Kedro/kedro-databricks-bootcamp/.venv/lib/python3.12/site-packages/kedro/framework/project/__init__.py\" target=\"_blank\"><span style=\"color: #7f7f7f; text-decoration-color: #7f7f7f\">__init__.py</span></a><span style=\"color: #7f7f7f; text-decoration-color: #7f7f7f\">:</span><a href=\"file:///Users/juan_cano/Projects/QuantumBlackLabs/Kedro/kedro-databricks-bootcamp/.venv/lib/python3.12/site-packages/kedro/framework/project/__init__.py#270\" target=\"_blank\"><span style=\"color: #7f7f7f; text-decoration-color: #7f7f7f\">270</span></a>\n",
       "<span style=\"color: #7fbfbf; text-decoration-color: #7fbfbf\">                    </span>         <span style=\"color: #008000; text-decoration-color: #008000\">'/Users/juan_cano/Projects/QuantumBlackLabs/Kedro/kedro-databricks-boo</span> <span style=\"color: #7f7f7f; text-decoration-color: #7f7f7f\">               </span>\n",
       "<span style=\"color: #7fbfbf; text-decoration-color: #7fbfbf\">                    </span>         <span style=\"color: #008000; text-decoration-color: #008000\">tcamp/.venv/lib/python3.12/site-packages/kedro/framework/project/rich_</span> <span style=\"color: #7f7f7f; text-decoration-color: #7f7f7f\">               </span>\n",
       "<span style=\"color: #7fbfbf; text-decoration-color: #7fbfbf\">                    </span>         <span style=\"color: #008000; text-decoration-color: #008000\">logging.yml'</span> as logging configuration.                                 <span style=\"color: #7f7f7f; text-decoration-color: #7f7f7f\">               </span>\n",
       "</pre>\n"
      ],
      "text/plain": [
       "\u001b[2;36m[06/09/25 16:52:54]\u001b[0m\u001b[2;36m \u001b[0m\u001b[34mINFO    \u001b[0m Using                                                                  \u001b]8;id=773116;file:///Users/juan_cano/Projects/QuantumBlackLabs/Kedro/kedro-databricks-bootcamp/.venv/lib/python3.12/site-packages/kedro/framework/project/__init__.py\u001b\\\u001b[2m__init__.py\u001b[0m\u001b]8;;\u001b\\\u001b[2m:\u001b[0m\u001b]8;id=519104;file:///Users/juan_cano/Projects/QuantumBlackLabs/Kedro/kedro-databricks-bootcamp/.venv/lib/python3.12/site-packages/kedro/framework/project/__init__.py#270\u001b\\\u001b[2m270\u001b[0m\u001b]8;;\u001b\\\n",
       "\u001b[2;36m                    \u001b[0m         \u001b[32m'/Users/juan_cano/Projects/QuantumBlackLabs/Kedro/kedro-databricks-boo\u001b[0m \u001b[2m               \u001b[0m\n",
       "\u001b[2;36m                    \u001b[0m         \u001b[32mtcamp/.venv/lib/python3.12/site-packages/kedro/framework/project/rich_\u001b[0m \u001b[2m               \u001b[0m\n",
       "\u001b[2;36m                    \u001b[0m         \u001b[32mlogging.yml'\u001b[0m as logging configuration.                                 \u001b[2m               \u001b[0m\n"
      ]
     },
     "metadata": {},
     "output_type": "display_data"
    },
    {
     "data": {
      "text/html": [
       "<pre style=\"white-space:pre;overflow-x:auto;line-height:normal;font-family:Menlo,'DejaVu Sans Mono',consolas,'Courier New',monospace\"><span style=\"color: #7fbfbf; text-decoration-color: #7fbfbf\">                    </span><span style=\"color: #000080; text-decoration-color: #000080\">INFO    </span> Registered line magic <span style=\"color: #008000; text-decoration-color: #008000\">'%reload_kedro'</span>                                   <a href=\"file:///Users/juan_cano/Projects/QuantumBlackLabs/Kedro/kedro-databricks-bootcamp/.venv/lib/python3.12/site-packages/kedro/ipython/__init__.py\" target=\"_blank\"><span style=\"color: #7f7f7f; text-decoration-color: #7f7f7f\">__init__.py</span></a><span style=\"color: #7f7f7f; text-decoration-color: #7f7f7f\">:</span><a href=\"file:///Users/juan_cano/Projects/QuantumBlackLabs/Kedro/kedro-databricks-bootcamp/.venv/lib/python3.12/site-packages/kedro/ipython/__init__.py#61\" target=\"_blank\"><span style=\"color: #7f7f7f; text-decoration-color: #7f7f7f\">61</span></a>\n",
       "</pre>\n"
      ],
      "text/plain": [
       "\u001b[2;36m                   \u001b[0m\u001b[2;36m \u001b[0m\u001b[34mINFO    \u001b[0m Registered line magic \u001b[32m'%reload_kedro'\u001b[0m                                   \u001b]8;id=395329;file:///Users/juan_cano/Projects/QuantumBlackLabs/Kedro/kedro-databricks-bootcamp/.venv/lib/python3.12/site-packages/kedro/ipython/__init__.py\u001b\\\u001b[2m__init__.py\u001b[0m\u001b]8;;\u001b\\\u001b[2m:\u001b[0m\u001b]8;id=711460;file:///Users/juan_cano/Projects/QuantumBlackLabs/Kedro/kedro-databricks-bootcamp/.venv/lib/python3.12/site-packages/kedro/ipython/__init__.py#61\u001b\\\u001b[2m61\u001b[0m\u001b]8;;\u001b\\\n"
      ]
     },
     "metadata": {},
     "output_type": "display_data"
    },
    {
     "data": {
      "text/html": [
       "<pre style=\"white-space:pre;overflow-x:auto;line-height:normal;font-family:Menlo,'DejaVu Sans Mono',consolas,'Courier New',monospace\"><span style=\"color: #7fbfbf; text-decoration-color: #7fbfbf\">                    </span><span style=\"color: #000080; text-decoration-color: #000080\">INFO    </span> Registered line magic <span style=\"color: #008000; text-decoration-color: #008000\">'%load_node'</span>                                      <a href=\"file:///Users/juan_cano/Projects/QuantumBlackLabs/Kedro/kedro-databricks-bootcamp/.venv/lib/python3.12/site-packages/kedro/ipython/__init__.py\" target=\"_blank\"><span style=\"color: #7f7f7f; text-decoration-color: #7f7f7f\">__init__.py</span></a><span style=\"color: #7f7f7f; text-decoration-color: #7f7f7f\">:</span><a href=\"file:///Users/juan_cano/Projects/QuantumBlackLabs/Kedro/kedro-databricks-bootcamp/.venv/lib/python3.12/site-packages/kedro/ipython/__init__.py#63\" target=\"_blank\"><span style=\"color: #7f7f7f; text-decoration-color: #7f7f7f\">63</span></a>\n",
       "</pre>\n"
      ],
      "text/plain": [
       "\u001b[2;36m                   \u001b[0m\u001b[2;36m \u001b[0m\u001b[34mINFO    \u001b[0m Registered line magic \u001b[32m'%load_node'\u001b[0m                                      \u001b]8;id=588601;file:///Users/juan_cano/Projects/QuantumBlackLabs/Kedro/kedro-databricks-bootcamp/.venv/lib/python3.12/site-packages/kedro/ipython/__init__.py\u001b\\\u001b[2m__init__.py\u001b[0m\u001b]8;;\u001b\\\u001b[2m:\u001b[0m\u001b]8;id=828331;file:///Users/juan_cano/Projects/QuantumBlackLabs/Kedro/kedro-databricks-bootcamp/.venv/lib/python3.12/site-packages/kedro/ipython/__init__.py#63\u001b\\\u001b[2m63\u001b[0m\u001b]8;;\u001b\\\n"
      ]
     },
     "metadata": {},
     "output_type": "display_data"
    },
    {
     "data": {
      "text/html": [
       "<pre style=\"white-space:pre;overflow-x:auto;line-height:normal;font-family:Menlo,'DejaVu Sans Mono',consolas,'Courier New',monospace\"><span style=\"color: #7fbfbf; text-decoration-color: #7fbfbf\">                    </span><span style=\"color: #808000; text-decoration-color: #808000\">WARNING </span> Kedro extension was registered but couldn't find a Kedro project. Make  <a href=\"file:///Users/juan_cano/Projects/QuantumBlackLabs/Kedro/kedro-databricks-bootcamp/.venv/lib/python3.12/site-packages/kedro/ipython/__init__.py\" target=\"_blank\"><span style=\"color: #7f7f7f; text-decoration-color: #7f7f7f\">__init__.py</span></a><span style=\"color: #7f7f7f; text-decoration-color: #7f7f7f\">:</span><a href=\"file:///Users/juan_cano/Projects/QuantumBlackLabs/Kedro/kedro-databricks-bootcamp/.venv/lib/python3.12/site-packages/kedro/ipython/__init__.py#66\" target=\"_blank\"><span style=\"color: #7f7f7f; text-decoration-color: #7f7f7f\">66</span></a>\n",
       "<span style=\"color: #7fbfbf; text-decoration-color: #7fbfbf\">                    </span>         sure you run <span style=\"color: #008000; text-decoration-color: #008000\">'%reload_kedro &lt;project_root&gt;'</span>.                            <span style=\"color: #7f7f7f; text-decoration-color: #7f7f7f\">              </span>\n",
       "</pre>\n"
      ],
      "text/plain": [
       "\u001b[2;36m                   \u001b[0m\u001b[2;36m \u001b[0m\u001b[33mWARNING \u001b[0m Kedro extension was registered but couldn't find a Kedro project. Make  \u001b]8;id=199965;file:///Users/juan_cano/Projects/QuantumBlackLabs/Kedro/kedro-databricks-bootcamp/.venv/lib/python3.12/site-packages/kedro/ipython/__init__.py\u001b\\\u001b[2m__init__.py\u001b[0m\u001b]8;;\u001b\\\u001b[2m:\u001b[0m\u001b]8;id=746463;file:///Users/juan_cano/Projects/QuantumBlackLabs/Kedro/kedro-databricks-bootcamp/.venv/lib/python3.12/site-packages/kedro/ipython/__init__.py#66\u001b\\\u001b[2m66\u001b[0m\u001b]8;;\u001b\\\n",
       "\u001b[2;36m                    \u001b[0m         sure you run \u001b[32m'%reload_kedro \u001b[0m\u001b[32m<\u001b[0m\u001b[32mproject_root\u001b[0m\u001b[32m>\u001b[0m\u001b[32m'\u001b[0m.                            \u001b[2m              \u001b[0m\n"
      ]
     },
     "metadata": {},
     "output_type": "display_data"
    }
   ],
   "source": [
    "%load_ext kedro.ipython"
   ]
  },
  {
   "cell_type": "code",
   "execution_count": 3,
   "metadata": {},
   "outputs": [
    {
     "data": {
      "text/html": [
       "<pre style=\"white-space:pre;overflow-x:auto;line-height:normal;font-family:Menlo,'DejaVu Sans Mono',consolas,'Courier New',monospace\"><span style=\"color: #7fbfbf; text-decoration-color: #7fbfbf\">[06/09/25 16:53:06] </span><span style=\"color: #808000; text-decoration-color: #808000\">WARNING </span> <span style=\"color: #800080; text-decoration-color: #800080\">/Users/juan_cano/Projects/QuantumBlackLabs/Kedro/kedro-databricks-boot</span> <a href=\"file:///opt/homebrew/Cellar/python@3.12/3.12.9/Frameworks/Python.framework/Versions/3.12/lib/python3.12/warnings.py\" target=\"_blank\"><span style=\"color: #7f7f7f; text-decoration-color: #7f7f7f\">warnings.py</span></a><span style=\"color: #7f7f7f; text-decoration-color: #7f7f7f\">:</span><a href=\"file:///opt/homebrew/Cellar/python@3.12/3.12.9/Frameworks/Python.framework/Versions/3.12/lib/python3.12/warnings.py#112\" target=\"_blank\"><span style=\"color: #7f7f7f; text-decoration-color: #7f7f7f\">112</span></a>\n",
       "<span style=\"color: #7fbfbf; text-decoration-color: #7fbfbf\">                    </span>         <span style=\"color: #800080; text-decoration-color: #800080\">camp/.venv/lib/python3.12/site-packages/mlflow/pyfunc/utils/</span><span style=\"color: #ff00ff; text-decoration-color: #ff00ff\">data_valid</span> <span style=\"color: #7f7f7f; text-decoration-color: #7f7f7f\">               </span>\n",
       "<span style=\"color: #7fbfbf; text-decoration-color: #7fbfbf\">                    </span>         <span style=\"color: #ff00ff; text-decoration-color: #ff00ff\">ation.py</span>:<span style=\"color: #008080; text-decoration-color: #008080; font-weight: bold\">186</span>: UserWarning: \u001b<span style=\"font-weight: bold\">[</span>33mAdd type hints to the `predict` method  <span style=\"color: #7f7f7f; text-decoration-color: #7f7f7f\">               </span>\n",
       "<span style=\"color: #7fbfbf; text-decoration-color: #7fbfbf\">                    </span>         to enable data validation and automatic signature inference during     <span style=\"color: #7f7f7f; text-decoration-color: #7f7f7f\">               </span>\n",
       "<span style=\"color: #7fbfbf; text-decoration-color: #7fbfbf\">                    </span>         model logging. Check                                                   <span style=\"color: #7f7f7f; text-decoration-color: #7f7f7f\">               </span>\n",
       "<span style=\"color: #7fbfbf; text-decoration-color: #7fbfbf\">                    </span>         <span style=\"color: #0000ff; text-decoration-color: #0000ff; text-decoration: underline\">https://mlflow.org/docs/latest/model/python_model.html#type-hint-usage</span> <span style=\"color: #7f7f7f; text-decoration-color: #7f7f7f\">               </span>\n",
       "<span style=\"color: #7fbfbf; text-decoration-color: #7fbfbf\">                    </span>         <span style=\"color: #0000ff; text-decoration-color: #0000ff; text-decoration: underline\">-in-pythonmodel</span> for more details.\u001b<span style=\"font-weight: bold\">[</span>0m                                   <span style=\"color: #7f7f7f; text-decoration-color: #7f7f7f\">               </span>\n",
       "<span style=\"color: #7fbfbf; text-decoration-color: #7fbfbf\">                    </span>           <span style=\"color: #800080; text-decoration-color: #800080; font-weight: bold\">color_warning</span><span style=\"font-weight: bold\">(</span>                                                       <span style=\"color: #7f7f7f; text-decoration-color: #7f7f7f\">               </span>\n",
       "<span style=\"color: #7fbfbf; text-decoration-color: #7fbfbf\">                    </span>                                                                                <span style=\"color: #7f7f7f; text-decoration-color: #7f7f7f\">               </span>\n",
       "</pre>\n"
      ],
      "text/plain": [
       "\u001b[2;36m[06/09/25 16:53:06]\u001b[0m\u001b[2;36m \u001b[0m\u001b[33mWARNING \u001b[0m \u001b[35m/Users/juan_cano/Projects/QuantumBlackLabs/Kedro/kedro-databricks-boot\u001b[0m \u001b]8;id=124591;file:///opt/homebrew/Cellar/python@3.12/3.12.9/Frameworks/Python.framework/Versions/3.12/lib/python3.12/warnings.py\u001b\\\u001b[2mwarnings.py\u001b[0m\u001b]8;;\u001b\\\u001b[2m:\u001b[0m\u001b]8;id=938420;file:///opt/homebrew/Cellar/python@3.12/3.12.9/Frameworks/Python.framework/Versions/3.12/lib/python3.12/warnings.py#112\u001b\\\u001b[2m112\u001b[0m\u001b]8;;\u001b\\\n",
       "\u001b[2;36m                    \u001b[0m         \u001b[35mcamp/.venv/lib/python3.12/site-packages/mlflow/pyfunc/utils/\u001b[0m\u001b[95mdata_valid\u001b[0m \u001b[2m               \u001b[0m\n",
       "\u001b[2;36m                    \u001b[0m         \u001b[95mation.py\u001b[0m:\u001b[1;36m186\u001b[0m: UserWarning: \u001b\u001b[1m[\u001b[0m33mAdd type hints to the `predict` method  \u001b[2m               \u001b[0m\n",
       "\u001b[2;36m                    \u001b[0m         to enable data validation and automatic signature inference during     \u001b[2m               \u001b[0m\n",
       "\u001b[2;36m                    \u001b[0m         model logging. Check                                                   \u001b[2m               \u001b[0m\n",
       "\u001b[2;36m                    \u001b[0m         \u001b[4;94mhttps://mlflow.org/docs/latest/model/python_model.html#type-hint-usage\u001b[0m \u001b[2m               \u001b[0m\n",
       "\u001b[2;36m                    \u001b[0m         \u001b[4;94m-in-pythonmodel\u001b[0m for more details.\u001b\u001b[1m[\u001b[0m0m                                   \u001b[2m               \u001b[0m\n",
       "\u001b[2;36m                    \u001b[0m           \u001b[1;35mcolor_warning\u001b[0m\u001b[1m(\u001b[0m                                                       \u001b[2m               \u001b[0m\n",
       "\u001b[2;36m                    \u001b[0m                                                                                \u001b[2m               \u001b[0m\n"
      ]
     },
     "metadata": {},
     "output_type": "display_data"
    },
    {
     "data": {
      "text/html": [
       "<pre style=\"white-space:pre;overflow-x:auto;line-height:normal;font-family:Menlo,'DejaVu Sans Mono',consolas,'Courier New',monospace\"><span style=\"color: #7fbfbf; text-decoration-color: #7fbfbf\">[06/09/25 16:53:07] </span><span style=\"color: #000080; text-decoration-color: #000080\">INFO    </span> Registering new custom resolver: <span style=\"color: #008000; text-decoration-color: #008000\">'km.random_name'</span>                    <a href=\"file:///Users/juan_cano/Projects/QuantumBlackLabs/Kedro/kedro-databricks-bootcamp/.venv/lib/python3.12/site-packages/kedro_mlflow/framework/hooks/mlflow_hook.py\" target=\"_blank\"><span style=\"color: #7f7f7f; text-decoration-color: #7f7f7f\">mlflow_hook.py</span></a><span style=\"color: #7f7f7f; text-decoration-color: #7f7f7f\">:</span><a href=\"file:///Users/juan_cano/Projects/QuantumBlackLabs/Kedro/kedro-databricks-bootcamp/.venv/lib/python3.12/site-packages/kedro_mlflow/framework/hooks/mlflow_hook.py#65\" target=\"_blank\"><span style=\"color: #7f7f7f; text-decoration-color: #7f7f7f\">65</span></a>\n",
       "</pre>\n"
      ],
      "text/plain": [
       "\u001b[2;36m[06/09/25 16:53:07]\u001b[0m\u001b[2;36m \u001b[0m\u001b[34mINFO    \u001b[0m Registering new custom resolver: \u001b[32m'km.random_name'\u001b[0m                    \u001b]8;id=442291;file:///Users/juan_cano/Projects/QuantumBlackLabs/Kedro/kedro-databricks-bootcamp/.venv/lib/python3.12/site-packages/kedro_mlflow/framework/hooks/mlflow_hook.py\u001b\\\u001b[2mmlflow_hook.py\u001b[0m\u001b]8;;\u001b\\\u001b[2m:\u001b[0m\u001b]8;id=804281;file:///Users/juan_cano/Projects/QuantumBlackLabs/Kedro/kedro-databricks-bootcamp/.venv/lib/python3.12/site-packages/kedro_mlflow/framework/hooks/mlflow_hook.py#65\u001b\\\u001b[2m65\u001b[0m\u001b]8;;\u001b\\\n"
      ]
     },
     "metadata": {},
     "output_type": "display_data"
    },
    {
     "data": {
      "text/html": [
       "<pre style=\"white-space:pre;overflow-x:auto;line-height:normal;font-family:Menlo,'DejaVu Sans Mono',consolas,'Courier New',monospace\"><span style=\"color: #7fbfbf; text-decoration-color: #7fbfbf\">                    </span><span style=\"color: #808000; text-decoration-color: #808000\">WARNING </span> No <span style=\"color: #008000; text-decoration-color: #008000\">'mlflow.yml'</span> config file found in environment. Default            <a href=\"file:///Users/juan_cano/Projects/QuantumBlackLabs/Kedro/kedro-databricks-bootcamp/.venv/lib/python3.12/site-packages/kedro_mlflow/framework/hooks/mlflow_hook.py\" target=\"_blank\"><span style=\"color: #7f7f7f; text-decoration-color: #7f7f7f\">mlflow_hook.py</span></a><span style=\"color: #7f7f7f; text-decoration-color: #7f7f7f\">:</span><a href=\"file:///Users/juan_cano/Projects/QuantumBlackLabs/Kedro/kedro-databricks-bootcamp/.venv/lib/python3.12/site-packages/kedro_mlflow/framework/hooks/mlflow_hook.py#78\" target=\"_blank\"><span style=\"color: #7f7f7f; text-decoration-color: #7f7f7f\">78</span></a>\n",
       "<span style=\"color: #7fbfbf; text-decoration-color: #7fbfbf\">                    </span>         configuration will be used. Use ``kedro mlflow init`` command in CLI <span style=\"color: #7f7f7f; text-decoration-color: #7f7f7f\">                 </span>\n",
       "<span style=\"color: #7fbfbf; text-decoration-color: #7fbfbf\">                    </span>         to customize the configuration.                                      <span style=\"color: #7f7f7f; text-decoration-color: #7f7f7f\">                 </span>\n",
       "</pre>\n"
      ],
      "text/plain": [
       "\u001b[2;36m                   \u001b[0m\u001b[2;36m \u001b[0m\u001b[33mWARNING \u001b[0m No \u001b[32m'mlflow.yml'\u001b[0m config file found in environment. Default            \u001b]8;id=608380;file:///Users/juan_cano/Projects/QuantumBlackLabs/Kedro/kedro-databricks-bootcamp/.venv/lib/python3.12/site-packages/kedro_mlflow/framework/hooks/mlflow_hook.py\u001b\\\u001b[2mmlflow_hook.py\u001b[0m\u001b]8;;\u001b\\\u001b[2m:\u001b[0m\u001b]8;id=525126;file:///Users/juan_cano/Projects/QuantumBlackLabs/Kedro/kedro-databricks-bootcamp/.venv/lib/python3.12/site-packages/kedro_mlflow/framework/hooks/mlflow_hook.py#78\u001b\\\u001b[2m78\u001b[0m\u001b]8;;\u001b\\\n",
       "\u001b[2;36m                    \u001b[0m         configuration will be used. Use ``kedro mlflow init`` command in CLI \u001b[2m                 \u001b[0m\n",
       "\u001b[2;36m                    \u001b[0m         to customize the configuration.                                      \u001b[2m                 \u001b[0m\n"
      ]
     },
     "metadata": {},
     "output_type": "display_data"
    },
    {
     "data": {
      "text/html": [
       "<pre style=\"white-space:pre;overflow-x:auto;line-height:normal;font-family:Menlo,'DejaVu Sans Mono',consolas,'Courier New',monospace\"><span style=\"color: #7fbfbf; text-decoration-color: #7fbfbf\">                    </span><span style=\"color: #000080; text-decoration-color: #000080\">INFO    </span> The <span style=\"color: #008000; text-decoration-color: #008000\">'tracking_uri'</span> key in mlflow.yml is relative            <a href=\"file:///Users/juan_cano/Projects/QuantumBlackLabs/Kedro/kedro-databricks-bootcamp/.venv/lib/python3.12/site-packages/kedro_mlflow/config/kedro_mlflow_config.py\" target=\"_blank\"><span style=\"color: #7f7f7f; text-decoration-color: #7f7f7f\">kedro_mlflow_config.py</span></a><span style=\"color: #7f7f7f; text-decoration-color: #7f7f7f\">:</span><a href=\"file:///Users/juan_cano/Projects/QuantumBlackLabs/Kedro/kedro-databricks-bootcamp/.venv/lib/python3.12/site-packages/kedro_mlflow/config/kedro_mlflow_config.py#293\" target=\"_blank\"><span style=\"color: #7f7f7f; text-decoration-color: #7f7f7f\">293</span></a>\n",
       "<span style=\"color: #7fbfbf; text-decoration-color: #7fbfbf\">                    </span>         <span style=\"font-weight: bold\">(</span><span style=\"color: #008000; text-decoration-color: #008000\">'server.mlflow_(tracking|registry)_uri = mlruns'</span><span style=\"font-weight: bold\">)</span>. It is   <span style=\"color: #7f7f7f; text-decoration-color: #7f7f7f\">                          </span>\n",
       "<span style=\"color: #7fbfbf; text-decoration-color: #7fbfbf\">                    </span>         converted to a valid uri:                                   <span style=\"color: #7f7f7f; text-decoration-color: #7f7f7f\">                          </span>\n",
       "<span style=\"color: #7fbfbf; text-decoration-color: #7fbfbf\">                    </span>         <span style=\"color: #008000; text-decoration-color: #008000\">'file:///Users/juan_cano/Projects/QuantumBlackLabs/Kedro/ke</span> <span style=\"color: #7f7f7f; text-decoration-color: #7f7f7f\">                          </span>\n",
       "<span style=\"color: #7fbfbf; text-decoration-color: #7fbfbf\">                    </span>         <span style=\"color: #008000; text-decoration-color: #008000\">dro-databricks-bootcamp/02_databricks/rocketfuel/mlruns'</span>    <span style=\"color: #7f7f7f; text-decoration-color: #7f7f7f\">                          </span>\n",
       "</pre>\n"
      ],
      "text/plain": [
       "\u001b[2;36m                   \u001b[0m\u001b[2;36m \u001b[0m\u001b[34mINFO    \u001b[0m The \u001b[32m'tracking_uri'\u001b[0m key in mlflow.yml is relative            \u001b]8;id=5410;file:///Users/juan_cano/Projects/QuantumBlackLabs/Kedro/kedro-databricks-bootcamp/.venv/lib/python3.12/site-packages/kedro_mlflow/config/kedro_mlflow_config.py\u001b\\\u001b[2mkedro_mlflow_config.py\u001b[0m\u001b]8;;\u001b\\\u001b[2m:\u001b[0m\u001b]8;id=129235;file:///Users/juan_cano/Projects/QuantumBlackLabs/Kedro/kedro-databricks-bootcamp/.venv/lib/python3.12/site-packages/kedro_mlflow/config/kedro_mlflow_config.py#293\u001b\\\u001b[2m293\u001b[0m\u001b]8;;\u001b\\\n",
       "\u001b[2;36m                    \u001b[0m         \u001b[1m(\u001b[0m\u001b[32m'server.mlflow_\u001b[0m\u001b[32m(\u001b[0m\u001b[32mtracking|registry\u001b[0m\u001b[32m)\u001b[0m\u001b[32m_uri = mlruns'\u001b[0m\u001b[1m)\u001b[0m. It is   \u001b[2m                          \u001b[0m\n",
       "\u001b[2;36m                    \u001b[0m         converted to a valid uri:                                   \u001b[2m                          \u001b[0m\n",
       "\u001b[2;36m                    \u001b[0m         \u001b[32m'file:///Users/juan_cano/Projects/QuantumBlackLabs/Kedro/ke\u001b[0m \u001b[2m                          \u001b[0m\n",
       "\u001b[2;36m                    \u001b[0m         \u001b[32mdro-databricks-bootcamp/02_databricks/rocketfuel/mlruns'\u001b[0m    \u001b[2m                          \u001b[0m\n"
      ]
     },
     "metadata": {},
     "output_type": "display_data"
    },
    {
     "data": {
      "text/html": [
       "<pre style=\"white-space:pre;overflow-x:auto;line-height:normal;font-family:Menlo,'DejaVu Sans Mono',consolas,'Courier New',monospace\"><span style=\"color: #7fbfbf; text-decoration-color: #7fbfbf\">[06/09/25 16:53:19] </span><span style=\"color: #000080; text-decoration-color: #000080\">INFO    </span> Kedro is sending anonymous usage data with the sole purpose of improving <a href=\"file:///Users/juan_cano/Projects/QuantumBlackLabs/Kedro/kedro-databricks-bootcamp/.venv/lib/python3.12/site-packages/kedro_telemetry/plugin.py\" target=\"_blank\"><span style=\"color: #7f7f7f; text-decoration-color: #7f7f7f\">plugin.py</span></a><span style=\"color: #7f7f7f; text-decoration-color: #7f7f7f\">:</span><a href=\"file:///Users/juan_cano/Projects/QuantumBlackLabs/Kedro/kedro-databricks-bootcamp/.venv/lib/python3.12/site-packages/kedro_telemetry/plugin.py#233\" target=\"_blank\"><span style=\"color: #7f7f7f; text-decoration-color: #7f7f7f\">233</span></a>\n",
       "<span style=\"color: #7fbfbf; text-decoration-color: #7fbfbf\">                    </span>         the product. No personal data or IP addresses are stored on our side. If <span style=\"color: #7f7f7f; text-decoration-color: #7f7f7f\">             </span>\n",
       "<span style=\"color: #7fbfbf; text-decoration-color: #7fbfbf\">                    </span>         you want to opt out, set the `KEDRO_DISABLE_TELEMETRY` or `DO_NOT_TRACK` <span style=\"color: #7f7f7f; text-decoration-color: #7f7f7f\">             </span>\n",
       "<span style=\"color: #7fbfbf; text-decoration-color: #7fbfbf\">                    </span>         environment variables, or create a `.telemetry` file in the current      <span style=\"color: #7f7f7f; text-decoration-color: #7f7f7f\">             </span>\n",
       "<span style=\"color: #7fbfbf; text-decoration-color: #7fbfbf\">                    </span>         working directory with the contents `consent: false`. Read more at       <span style=\"color: #7f7f7f; text-decoration-color: #7f7f7f\">             </span>\n",
       "<span style=\"color: #7fbfbf; text-decoration-color: #7fbfbf\">                    </span>         <span style=\"color: #0000ff; text-decoration-color: #0000ff; text-decoration: underline\">https://docs.kedro.org/en/stable/configuration/telemetry.html</span>            <span style=\"color: #7f7f7f; text-decoration-color: #7f7f7f\">             </span>\n",
       "</pre>\n"
      ],
      "text/plain": [
       "\u001b[2;36m[06/09/25 16:53:19]\u001b[0m\u001b[2;36m \u001b[0m\u001b[34mINFO    \u001b[0m Kedro is sending anonymous usage data with the sole purpose of improving \u001b]8;id=301338;file:///Users/juan_cano/Projects/QuantumBlackLabs/Kedro/kedro-databricks-bootcamp/.venv/lib/python3.12/site-packages/kedro_telemetry/plugin.py\u001b\\\u001b[2mplugin.py\u001b[0m\u001b]8;;\u001b\\\u001b[2m:\u001b[0m\u001b]8;id=86750;file:///Users/juan_cano/Projects/QuantumBlackLabs/Kedro/kedro-databricks-bootcamp/.venv/lib/python3.12/site-packages/kedro_telemetry/plugin.py#233\u001b\\\u001b[2m233\u001b[0m\u001b]8;;\u001b\\\n",
       "\u001b[2;36m                    \u001b[0m         the product. No personal data or IP addresses are stored on our side. If \u001b[2m             \u001b[0m\n",
       "\u001b[2;36m                    \u001b[0m         you want to opt out, set the `KEDRO_DISABLE_TELEMETRY` or `DO_NOT_TRACK` \u001b[2m             \u001b[0m\n",
       "\u001b[2;36m                    \u001b[0m         environment variables, or create a `.telemetry` file in the current      \u001b[2m             \u001b[0m\n",
       "\u001b[2;36m                    \u001b[0m         working directory with the contents `consent: false`. Read more at       \u001b[2m             \u001b[0m\n",
       "\u001b[2;36m                    \u001b[0m         \u001b[4;94mhttps://docs.kedro.org/en/stable/configuration/telemetry.html\u001b[0m            \u001b[2m             \u001b[0m\n"
      ]
     },
     "metadata": {},
     "output_type": "display_data"
    },
    {
     "data": {
      "text/html": [
       "<pre style=\"white-space:pre;overflow-x:auto;line-height:normal;font-family:Menlo,'DejaVu Sans Mono',consolas,'Courier New',monospace\"><span style=\"color: #7fbfbf; text-decoration-color: #7fbfbf\">[06/09/25 16:53:20] </span><span style=\"color: #000080; text-decoration-color: #000080\">INFO    </span> Kedro project rocketfuel                                               <a href=\"file:///Users/juan_cano/Projects/QuantumBlackLabs/Kedro/kedro-databricks-bootcamp/.venv/lib/python3.12/site-packages/kedro/ipython/__init__.py\" target=\"_blank\"><span style=\"color: #7f7f7f; text-decoration-color: #7f7f7f\">__init__.py</span></a><span style=\"color: #7f7f7f; text-decoration-color: #7f7f7f\">:</span><a href=\"file:///Users/juan_cano/Projects/QuantumBlackLabs/Kedro/kedro-databricks-bootcamp/.venv/lib/python3.12/site-packages/kedro/ipython/__init__.py#144\" target=\"_blank\"><span style=\"color: #7f7f7f; text-decoration-color: #7f7f7f\">144</span></a>\n",
       "</pre>\n"
      ],
      "text/plain": [
       "\u001b[2;36m[06/09/25 16:53:20]\u001b[0m\u001b[2;36m \u001b[0m\u001b[34mINFO    \u001b[0m Kedro project rocketfuel                                               \u001b]8;id=206079;file:///Users/juan_cano/Projects/QuantumBlackLabs/Kedro/kedro-databricks-bootcamp/.venv/lib/python3.12/site-packages/kedro/ipython/__init__.py\u001b\\\u001b[2m__init__.py\u001b[0m\u001b]8;;\u001b\\\u001b[2m:\u001b[0m\u001b]8;id=861539;file:///Users/juan_cano/Projects/QuantumBlackLabs/Kedro/kedro-databricks-bootcamp/.venv/lib/python3.12/site-packages/kedro/ipython/__init__.py#144\u001b\\\u001b[2m144\u001b[0m\u001b]8;;\u001b\\\n"
      ]
     },
     "metadata": {},
     "output_type": "display_data"
    },
    {
     "data": {
      "text/html": [
       "<pre style=\"white-space:pre;overflow-x:auto;line-height:normal;font-family:Menlo,'DejaVu Sans Mono',consolas,'Courier New',monospace\"><span style=\"color: #7fbfbf; text-decoration-color: #7fbfbf\">                    </span><span style=\"color: #000080; text-decoration-color: #000080\">INFO    </span> Defined global variable <span style=\"color: #008000; text-decoration-color: #008000\">'context'</span>, <span style=\"color: #008000; text-decoration-color: #008000\">'session'</span>, <span style=\"color: #008000; text-decoration-color: #008000\">'catalog'</span> and            <a href=\"file:///Users/juan_cano/Projects/QuantumBlackLabs/Kedro/kedro-databricks-bootcamp/.venv/lib/python3.12/site-packages/kedro/ipython/__init__.py\" target=\"_blank\"><span style=\"color: #7f7f7f; text-decoration-color: #7f7f7f\">__init__.py</span></a><span style=\"color: #7f7f7f; text-decoration-color: #7f7f7f\">:</span><a href=\"file:///Users/juan_cano/Projects/QuantumBlackLabs/Kedro/kedro-databricks-bootcamp/.venv/lib/python3.12/site-packages/kedro/ipython/__init__.py#145\" target=\"_blank\"><span style=\"color: #7f7f7f; text-decoration-color: #7f7f7f\">145</span></a>\n",
       "<span style=\"color: #7fbfbf; text-decoration-color: #7fbfbf\">                    </span>         <span style=\"color: #008000; text-decoration-color: #008000\">'pipelines'</span>                                                            <span style=\"color: #7f7f7f; text-decoration-color: #7f7f7f\">               </span>\n",
       "</pre>\n"
      ],
      "text/plain": [
       "\u001b[2;36m                   \u001b[0m\u001b[2;36m \u001b[0m\u001b[34mINFO    \u001b[0m Defined global variable \u001b[32m'context'\u001b[0m, \u001b[32m'session'\u001b[0m, \u001b[32m'catalog'\u001b[0m and            \u001b]8;id=160147;file:///Users/juan_cano/Projects/QuantumBlackLabs/Kedro/kedro-databricks-bootcamp/.venv/lib/python3.12/site-packages/kedro/ipython/__init__.py\u001b\\\u001b[2m__init__.py\u001b[0m\u001b]8;;\u001b\\\u001b[2m:\u001b[0m\u001b]8;id=612888;file:///Users/juan_cano/Projects/QuantumBlackLabs/Kedro/kedro-databricks-bootcamp/.venv/lib/python3.12/site-packages/kedro/ipython/__init__.py#145\u001b\\\u001b[2m145\u001b[0m\u001b]8;;\u001b\\\n",
       "\u001b[2;36m                    \u001b[0m         \u001b[32m'pipelines'\u001b[0m                                                            \u001b[2m               \u001b[0m\n"
      ]
     },
     "metadata": {},
     "output_type": "display_data"
    },
    {
     "data": {
      "text/html": [
       "<pre style=\"white-space:pre;overflow-x:auto;line-height:normal;font-family:Menlo,'DejaVu Sans Mono',consolas,'Courier New',monospace\"><span style=\"color: #7fbfbf; text-decoration-color: #7fbfbf\">[06/09/25 16:53:22] </span><span style=\"color: #000080; text-decoration-color: #000080\">INFO    </span> Registered line magic <span style=\"color: #008000; text-decoration-color: #008000\">'run_viz'</span>                                        <a href=\"file:///Users/juan_cano/Projects/QuantumBlackLabs/Kedro/kedro-databricks-bootcamp/.venv/lib/python3.12/site-packages/kedro/ipython/__init__.py\" target=\"_blank\"><span style=\"color: #7f7f7f; text-decoration-color: #7f7f7f\">__init__.py</span></a><span style=\"color: #7f7f7f; text-decoration-color: #7f7f7f\">:</span><a href=\"file:///Users/juan_cano/Projects/QuantumBlackLabs/Kedro/kedro-databricks-bootcamp/.venv/lib/python3.12/site-packages/kedro/ipython/__init__.py#151\" target=\"_blank\"><span style=\"color: #7f7f7f; text-decoration-color: #7f7f7f\">151</span></a>\n",
       "</pre>\n"
      ],
      "text/plain": [
       "\u001b[2;36m[06/09/25 16:53:22]\u001b[0m\u001b[2;36m \u001b[0m\u001b[34mINFO    \u001b[0m Registered line magic \u001b[32m'run_viz'\u001b[0m                                        \u001b]8;id=685882;file:///Users/juan_cano/Projects/QuantumBlackLabs/Kedro/kedro-databricks-bootcamp/.venv/lib/python3.12/site-packages/kedro/ipython/__init__.py\u001b\\\u001b[2m__init__.py\u001b[0m\u001b]8;;\u001b\\\u001b[2m:\u001b[0m\u001b]8;id=425788;file:///Users/juan_cano/Projects/QuantumBlackLabs/Kedro/kedro-databricks-bootcamp/.venv/lib/python3.12/site-packages/kedro/ipython/__init__.py#151\u001b\\\u001b[2m151\u001b[0m\u001b]8;;\u001b\\\n"
      ]
     },
     "metadata": {},
     "output_type": "display_data"
    }
   ],
   "source": [
    "%reload_kedro rocketfuel"
   ]
  },
  {
   "cell_type": "code",
   "execution_count": 4,
   "metadata": {},
   "outputs": [
    {
     "data": {
      "text/html": [
       "<pre style=\"white-space:pre;overflow-x:auto;line-height:normal;font-family:Menlo,'DejaVu Sans Mono',consolas,'Courier New',monospace\"></pre>\n"
      ],
      "text/plain": []
     },
     "metadata": {},
     "output_type": "display_data"
    },
    {
     "data": {
      "text/plain": [
       "\n",
       "\u001b[1m[\u001b[0m\n",
       "    \u001b[32m'companies'\u001b[0m,\n",
       "    \u001b[32m'reviews'\u001b[0m,\n",
       "    \u001b[32m'shuttles'\u001b[0m,\n",
       "    \u001b[32m'preprocessed_companies'\u001b[0m,\n",
       "    \u001b[32m'preprocessed_shuttles'\u001b[0m,\n",
       "    \u001b[32m'preprocessed_reviews'\u001b[0m,\n",
       "    \u001b[32m'model_input_table'\u001b[0m,\n",
       "    \u001b[32m'regressor'\u001b[0m,\n",
       "    \u001b[32m'parameters'\u001b[0m,\n",
       "    \u001b[32m'params:model_options'\u001b[0m,\n",
       "    \u001b[32m'params:model_options.test_size'\u001b[0m,\n",
       "    \u001b[32m'params:model_options.random_state'\u001b[0m,\n",
       "    \u001b[32m'params:model_options.features'\u001b[0m\n",
       "\u001b[1m]\u001b[0m"
      ]
     },
     "execution_count": 4,
     "metadata": {},
     "output_type": "execute_result"
    }
   ],
   "source": [
    "catalog.list()"
   ]
  },
  {
   "cell_type": "markdown",
   "metadata": {},
   "source": [
    "Notice how data is loaded as a PySpark DataFrame, directly from Databricks Unity Catalog!"
   ]
  },
  {
   "cell_type": "code",
   "execution_count": 5,
   "metadata": {},
   "outputs": [
    {
     "data": {
      "text/html": [
       "<pre style=\"white-space:pre;overflow-x:auto;line-height:normal;font-family:Menlo,'DejaVu Sans Mono',consolas,'Courier New',monospace\"></pre>\n"
      ],
      "text/plain": []
     },
     "metadata": {},
     "output_type": "display_data"
    },
    {
     "data": {
      "text/plain": [
       "\u001b[1;35mkedro_datasets.databricks.managed_table_dataset.ManagedTableDataset\u001b[0m\u001b[1m(\u001b[0m\u001b[33mcatalog\u001b[0m=\u001b[32m'aza-databricks-b9b7aae-catalog'\u001b[0m, \u001b[33mdatabase\u001b[0m=\u001b[32m'rocketfuel'\u001b[0m, \u001b[33mtable\u001b[0m=\u001b[32m'companies'\u001b[0m, \u001b[33mwrite_mode\u001b[0m=\u001b[32m'overwrite'\u001b[0m, \u001b[33mdataframe_type\u001b[0m=\u001b[32m'spark'\u001b[0m, \u001b[33mversion\u001b[0m=\u001b[32m'None'\u001b[0m\u001b[1m)\u001b[0m"
      ]
     },
     "execution_count": 5,
     "metadata": {},
     "output_type": "execute_result"
    }
   ],
   "source": [
    "catalog._get_dataset(\"companies\")"
   ]
  },
  {
   "cell_type": "code",
   "execution_count": 6,
   "metadata": {},
   "outputs": [
    {
     "data": {
      "text/html": [
       "<pre style=\"white-space:pre;overflow-x:auto;line-height:normal;font-family:Menlo,'DejaVu Sans Mono',consolas,'Courier New',monospace\"><span style=\"color: #7fbfbf; text-decoration-color: #7fbfbf\">[06/09/25 16:53:35] </span><span style=\"color: #000080; text-decoration-color: #000080\">INFO    </span> Loading data from <span style=\"color: #ff8700; text-decoration-color: #ff8700\">companies</span> <span style=\"font-weight: bold\">(</span>ManagedTableDataset<span style=\"font-weight: bold\">)</span><span style=\"color: #808000; text-decoration-color: #808000\">...</span>               <a href=\"file:///Users/juan_cano/Projects/QuantumBlackLabs/Kedro/kedro-databricks-bootcamp/.venv/lib/python3.12/site-packages/kedro/io/data_catalog.py\" target=\"_blank\"><span style=\"color: #7f7f7f; text-decoration-color: #7f7f7f\">data_catalog.py</span></a><span style=\"color: #7f7f7f; text-decoration-color: #7f7f7f\">:</span><a href=\"file:///Users/juan_cano/Projects/QuantumBlackLabs/Kedro/kedro-databricks-bootcamp/.venv/lib/python3.12/site-packages/kedro/io/data_catalog.py#389\" target=\"_blank\"><span style=\"color: #7f7f7f; text-decoration-color: #7f7f7f\">389</span></a>\n",
       "</pre>\n"
      ],
      "text/plain": [
       "\u001b[2;36m[06/09/25 16:53:35]\u001b[0m\u001b[2;36m \u001b[0m\u001b[34mINFO    \u001b[0m Loading data from \u001b[38;5;208mcompanies\u001b[0m \u001b[1m(\u001b[0mManagedTableDataset\u001b[1m)\u001b[0m\u001b[33m...\u001b[0m               \u001b]8;id=886188;file:///Users/juan_cano/Projects/QuantumBlackLabs/Kedro/kedro-databricks-bootcamp/.venv/lib/python3.12/site-packages/kedro/io/data_catalog.py\u001b\\\u001b[2mdata_catalog.py\u001b[0m\u001b]8;;\u001b\\\u001b[2m:\u001b[0m\u001b]8;id=593487;file:///Users/juan_cano/Projects/QuantumBlackLabs/Kedro/kedro-databricks-bootcamp/.venv/lib/python3.12/site-packages/kedro/io/data_catalog.py#389\u001b\\\u001b[2m389\u001b[0m\u001b]8;;\u001b\\\n"
      ]
     },
     "metadata": {},
     "output_type": "display_data"
    },
    {
     "data": {
      "text/html": [
       "<pre style=\"white-space:pre;overflow-x:auto;line-height:normal;font-family:Menlo,'DejaVu Sans Mono',consolas,'Courier New',monospace\"></pre>\n"
      ],
      "text/plain": []
     },
     "metadata": {},
     "output_type": "display_data"
    },
    {
     "data": {
      "application/vnd.jupyter.widget-view+json": {
       "model_id": "39cb9786e2d645f4853a77324f7b315b",
       "version_major": 2,
       "version_minor": 0
      },
      "text/plain": [
       "HBox(children=(IntProgress(value=0, bar_style='success'), Label(value='')))"
      ]
     },
     "metadata": {},
     "output_type": "display_data"
    },
    {
     "data": {
      "text/html": [
       "<table border=\"1\" class=\"dataframe\">\n",
       "  <thead>\n",
       "    <tr style=\"text-align: right;\">\n",
       "      <th></th>\n",
       "      <th>id</th>\n",
       "      <th>company_rating</th>\n",
       "      <th>company_location</th>\n",
       "      <th>total_fleet_count</th>\n",
       "      <th>iata_approved</th>\n",
       "    </tr>\n",
       "  </thead>\n",
       "  <tbody>\n",
       "    <tr>\n",
       "      <th>0</th>\n",
       "      <td>3888</td>\n",
       "      <td>100%</td>\n",
       "      <td>Isle of Man</td>\n",
       "      <td>1.0</td>\n",
       "      <td>f</td>\n",
       "    </tr>\n",
       "    <tr>\n",
       "      <th>1</th>\n",
       "      <td>46728</td>\n",
       "      <td>100%</td>\n",
       "      <td>None</td>\n",
       "      <td>1.0</td>\n",
       "      <td>f</td>\n",
       "    </tr>\n",
       "    <tr>\n",
       "      <th>2</th>\n",
       "      <td>34618</td>\n",
       "      <td>38%</td>\n",
       "      <td>Isle of Man</td>\n",
       "      <td>1.0</td>\n",
       "      <td>f</td>\n",
       "    </tr>\n",
       "    <tr>\n",
       "      <th>3</th>\n",
       "      <td>28619</td>\n",
       "      <td>100%</td>\n",
       "      <td>Bosnia and Herzegovina</td>\n",
       "      <td>1.0</td>\n",
       "      <td>f</td>\n",
       "    </tr>\n",
       "    <tr>\n",
       "      <th>4</th>\n",
       "      <td>8240</td>\n",
       "      <td>None</td>\n",
       "      <td>Chile</td>\n",
       "      <td>1.0</td>\n",
       "      <td>t</td>\n",
       "    </tr>\n",
       "    <tr>\n",
       "      <th>5</th>\n",
       "      <td>16813</td>\n",
       "      <td>100%</td>\n",
       "      <td>Kiribati</td>\n",
       "      <td>2.0</td>\n",
       "      <td>f</td>\n",
       "    </tr>\n",
       "    <tr>\n",
       "      <th>6</th>\n",
       "      <td>2859</td>\n",
       "      <td>90%</td>\n",
       "      <td>Bahrain</td>\n",
       "      <td>1.0</td>\n",
       "      <td>f</td>\n",
       "    </tr>\n",
       "    <tr>\n",
       "      <th>7</th>\n",
       "      <td>33237</td>\n",
       "      <td>None</td>\n",
       "      <td>Nicaragua</td>\n",
       "      <td>1.0</td>\n",
       "      <td>f</td>\n",
       "    </tr>\n",
       "    <tr>\n",
       "      <th>8</th>\n",
       "      <td>30052</td>\n",
       "      <td>100%</td>\n",
       "      <td>Turkmenistan</td>\n",
       "      <td>1.0</td>\n",
       "      <td>f</td>\n",
       "    </tr>\n",
       "    <tr>\n",
       "      <th>9</th>\n",
       "      <td>43711</td>\n",
       "      <td>100%</td>\n",
       "      <td>Rwanda</td>\n",
       "      <td>1.0</td>\n",
       "      <td>f</td>\n",
       "    </tr>\n",
       "    <tr>\n",
       "      <th>10</th>\n",
       "      <td>14574</td>\n",
       "      <td>100%</td>\n",
       "      <td>None</td>\n",
       "      <td>1.0</td>\n",
       "      <td>f</td>\n",
       "    </tr>\n",
       "    <tr>\n",
       "      <th>11</th>\n",
       "      <td>36935</td>\n",
       "      <td>None</td>\n",
       "      <td>Niue</td>\n",
       "      <td>1.0</td>\n",
       "      <td>t</td>\n",
       "    </tr>\n",
       "    <tr>\n",
       "      <th>12</th>\n",
       "      <td>17077</td>\n",
       "      <td>None</td>\n",
       "      <td>None</td>\n",
       "      <td>1.0</td>\n",
       "      <td>f</td>\n",
       "    </tr>\n",
       "    <tr>\n",
       "      <th>13</th>\n",
       "      <td>28484</td>\n",
       "      <td>33%</td>\n",
       "      <td>Sao Tome and Principe</td>\n",
       "      <td>1.0</td>\n",
       "      <td>t</td>\n",
       "    </tr>\n",
       "    <tr>\n",
       "      <th>14</th>\n",
       "      <td>40075</td>\n",
       "      <td>93%</td>\n",
       "      <td>Denmark</td>\n",
       "      <td>2.0</td>\n",
       "      <td>t</td>\n",
       "    </tr>\n",
       "    <tr>\n",
       "      <th>15</th>\n",
       "      <td>19811</td>\n",
       "      <td>90%</td>\n",
       "      <td>Nicaragua</td>\n",
       "      <td>21.0</td>\n",
       "      <td>t</td>\n",
       "    </tr>\n",
       "    <tr>\n",
       "      <th>16</th>\n",
       "      <td>1337</td>\n",
       "      <td>0%</td>\n",
       "      <td>Micronesia</td>\n",
       "      <td>1.0</td>\n",
       "      <td>f</td>\n",
       "    </tr>\n",
       "    <tr>\n",
       "      <th>17</th>\n",
       "      <td>16846</td>\n",
       "      <td>None</td>\n",
       "      <td>Lebanon</td>\n",
       "      <td>1.0</td>\n",
       "      <td>f</td>\n",
       "    </tr>\n",
       "    <tr>\n",
       "      <th>18</th>\n",
       "      <td>22049</td>\n",
       "      <td>None</td>\n",
       "      <td>Djibouti</td>\n",
       "      <td>1.0</td>\n",
       "      <td>f</td>\n",
       "    </tr>\n",
       "    <tr>\n",
       "      <th>19</th>\n",
       "      <td>33906</td>\n",
       "      <td>80%</td>\n",
       "      <td>Marshall Islands</td>\n",
       "      <td>1.0</td>\n",
       "      <td>f</td>\n",
       "    </tr>\n",
       "  </tbody>\n",
       "</table>"
      ],
      "text/plain": [
       "DataFrame\u001b[1m[\u001b[0mid: int, company_rating: string, company_location: string, total_fleet_count: double, iata_approved: string\u001b[1m]\u001b[0m"
      ]
     },
     "metadata": {},
     "output_type": "display_data"
    }
   ],
   "source": [
    "display(catalog.load(\"companies\"))"
   ]
  },
  {
   "cell_type": "markdown",
   "metadata": {
    "application/vnd.databricks.v1+cell": {
     "cellMetadata": {},
     "inputWidgets": {},
     "nuid": "dacd1e24-4302-4ae7-8064-49151c05d86d",
     "showTitle": false,
     "tableResultSettingsMap": {},
     "title": ""
    }
   },
   "source": [
    "## Namespaces for pipeline grouping"
   ]
  },
  {
   "cell_type": "markdown",
   "metadata": {
    "application/vnd.databricks.v1+cell": {
     "cellMetadata": {},
     "inputWidgets": {},
     "nuid": "07630ef1-c5c6-4396-b841-f6973b2f3123",
     "showTitle": false,
     "tableResultSettingsMap": {},
     "title": ""
    }
   },
   "source": [
    "## Integration with Databricks MLflow"
   ]
  },
  {
   "cell_type": "markdown",
   "metadata": {
    "application/vnd.databricks.v1+cell": {
     "cellMetadata": {},
     "inputWidgets": {},
     "nuid": "ef08d133-d23c-4243-a273-9c890221900d",
     "showTitle": false,
     "tableResultSettingsMap": {},
     "title": ""
    }
   },
   "source": [
    "### Log Kedro runs as MLflow experiments"
   ]
  },
  {
   "cell_type": "markdown",
   "metadata": {
    "application/vnd.databricks.v1+cell": {
     "cellMetadata": {},
     "inputWidgets": {},
     "nuid": "635550a0-4476-4477-a71d-935f5a3d7e87",
     "showTitle": false,
     "tableResultSettingsMap": {},
     "title": ""
    }
   },
   "source": [
    "There are 2 types of MLflow experiments in Databricks:\n",
    "- **Workspace** experiments are not associated with any notebook, and any notebook can log a run to these experiments by using the experiment ID or the experiment name. _They cannot be created inside Git folders._\n",
    "- **Notebook** experiments are associated with a specific notebook. _They are note checked into source control_.\n",
    "\n",
    "Therefore, for personal experimentation **notebook** experiments are more appropriate, and for collaboration **workspace** experiments can be created in a regular workspace folder outside of Git."
   ]
  },
  {
   "cell_type": "code",
   "execution_count": 0,
   "metadata": {
    "application/vnd.databricks.v1+cell": {
     "cellMetadata": {
      "byteLimit": 2048000,
      "rowLimit": 10000
     },
     "inputWidgets": {},
     "nuid": "3cc97c7f-58d7-417e-8339-93e53c6a1e29",
     "showTitle": false,
     "tableResultSettingsMap": {},
     "title": ""
    }
   },
   "outputs": [],
   "source": [
    "%%sh\n",
    "uv pip install ./rocketfuel"
   ]
  },
  {
   "cell_type": "code",
   "execution_count": 0,
   "metadata": {
    "application/vnd.databricks.v1+cell": {
     "cellMetadata": {
      "byteLimit": 2048000,
      "rowLimit": 10000
     },
     "inputWidgets": {},
     "nuid": "c6ea8af0-ddd7-4704-893f-79030c67c6d2",
     "showTitle": false,
     "tableResultSettingsMap": {},
     "title": ""
    }
   },
   "outputs": [],
   "source": [
    "%load_ext kedro.ipython"
   ]
  },
  {
   "cell_type": "markdown",
   "metadata": {
    "application/vnd.databricks.v1+cell": {
     "cellMetadata": {},
     "inputWidgets": {},
     "nuid": "90b1c481-8869-46a4-9556-0fafc9b672d8",
     "showTitle": false,
     "tableResultSettingsMap": {},
     "title": ""
    }
   },
   "source": [
    "Kedro runs can be logged in MLflow using the [`kedro-mlflow`](https://kedro-mlflow.readthedocs.io/) community plugin."
   ]
  },
  {
   "cell_type": "code",
   "execution_count": 7,
   "metadata": {
    "application/vnd.databricks.v1+cell": {
     "cellMetadata": {
      "byteLimit": 2048000,
      "rowLimit": 10000
     },
     "inputWidgets": {},
     "nuid": "b7d25c96-e66a-4a90-9c5d-087a9737a796",
     "showTitle": false,
     "tableResultSettingsMap": {},
     "title": ""
    }
   },
   "outputs": [
    {
     "data": {
      "text/html": [
       "<pre style=\"white-space:pre;overflow-x:auto;line-height:normal;font-family:Menlo,'DejaVu Sans Mono',consolas,'Courier New',monospace\"><span style=\"color: #7fbfbf; text-decoration-color: #7fbfbf\">[06/09/25 16:54:11] </span><span style=\"color: #808000; text-decoration-color: #808000\">WARNING </span> <span style=\"color: #800080; text-decoration-color: #800080\">/Users/juan_cano/.ipython/profile_default/startup/</span><span style=\"color: #ff00ff; text-decoration-color: #ff00ff\">00-databricks-init-c</span> <a href=\"file:///opt/homebrew/Cellar/python@3.12/3.12.9/Frameworks/Python.framework/Versions/3.12/lib/python3.12/warnings.py\" target=\"_blank\"><span style=\"color: #7f7f7f; text-decoration-color: #7f7f7f\">warnings.py</span></a><span style=\"color: #7f7f7f; text-decoration-color: #7f7f7f\">:</span><a href=\"file:///opt/homebrew/Cellar/python@3.12/3.12.9/Frameworks/Python.framework/Versions/3.12/lib/python3.12/warnings.py#112\" target=\"_blank\"><span style=\"color: #7f7f7f; text-decoration-color: #7f7f7f\">112</span></a>\n",
       "<span style=\"color: #7fbfbf; text-decoration-color: #7fbfbf\">                    </span>         <span style=\"color: #ff00ff; text-decoration-color: #ff00ff\">db6174794c74fbc909de1ce43bfe286.py</span>:<span style=\"color: #008080; text-decoration-color: #008080; font-weight: bold\">341</span>: UserWarning:                   <span style=\"color: #7f7f7f; text-decoration-color: #7f7f7f\">               </span>\n",
       "<span style=\"color: #7fbfbf; text-decoration-color: #7fbfbf\">                    </span>         %%sh is not supported on Databricks. This notebook might fail when     <span style=\"color: #7f7f7f; text-decoration-color: #7f7f7f\">               </span>\n",
       "<span style=\"color: #7fbfbf; text-decoration-color: #7fbfbf\">                    </span>         running on a Databricks cluster.                                       <span style=\"color: #7f7f7f; text-decoration-color: #7f7f7f\">               </span>\n",
       "<span style=\"color: #7fbfbf; text-decoration-color: #7fbfbf\">                    </span>         Consider using %sh instead.                                            <span style=\"color: #7f7f7f; text-decoration-color: #7f7f7f\">               </span>\n",
       "<span style=\"color: #7fbfbf; text-decoration-color: #7fbfbf\">                    </span>           <span style=\"color: #800080; text-decoration-color: #800080; font-weight: bold\">warnings.warn</span><span style=\"font-weight: bold\">(</span>                                                       <span style=\"color: #7f7f7f; text-decoration-color: #7f7f7f\">               </span>\n",
       "<span style=\"color: #7fbfbf; text-decoration-color: #7fbfbf\">                    </span>                                                                                <span style=\"color: #7f7f7f; text-decoration-color: #7f7f7f\">               </span>\n",
       "</pre>\n"
      ],
      "text/plain": [
       "\u001b[2;36m[06/09/25 16:54:11]\u001b[0m\u001b[2;36m \u001b[0m\u001b[33mWARNING \u001b[0m \u001b[35m/Users/juan_cano/.ipython/profile_default/startup/\u001b[0m\u001b[95m00-databricks-init-c\u001b[0m \u001b]8;id=523748;file:///opt/homebrew/Cellar/python@3.12/3.12.9/Frameworks/Python.framework/Versions/3.12/lib/python3.12/warnings.py\u001b\\\u001b[2mwarnings.py\u001b[0m\u001b]8;;\u001b\\\u001b[2m:\u001b[0m\u001b]8;id=81443;file:///opt/homebrew/Cellar/python@3.12/3.12.9/Frameworks/Python.framework/Versions/3.12/lib/python3.12/warnings.py#112\u001b\\\u001b[2m112\u001b[0m\u001b]8;;\u001b\\\n",
       "\u001b[2;36m                    \u001b[0m         \u001b[95mdb6174794c74fbc909de1ce43bfe286.py\u001b[0m:\u001b[1;36m341\u001b[0m: UserWarning:                   \u001b[2m               \u001b[0m\n",
       "\u001b[2;36m                    \u001b[0m         %%sh is not supported on Databricks. This notebook might fail when     \u001b[2m               \u001b[0m\n",
       "\u001b[2;36m                    \u001b[0m         running on a Databricks cluster.                                       \u001b[2m               \u001b[0m\n",
       "\u001b[2;36m                    \u001b[0m         Consider using %sh instead.                                            \u001b[2m               \u001b[0m\n",
       "\u001b[2;36m                    \u001b[0m           \u001b[1;35mwarnings.warn\u001b[0m\u001b[1m(\u001b[0m                                                       \u001b[2m               \u001b[0m\n",
       "\u001b[2;36m                    \u001b[0m                                                                                \u001b[2m               \u001b[0m\n"
      ]
     },
     "metadata": {},
     "output_type": "display_data"
    },
    {
     "name": "stderr",
     "output_type": "stream",
     "text": [
      "\u001b[2mUsing Python 3.12.9 environment at: /Users/juan_cano/Projects/QuantumBlackLabs/Kedro/kedro-databricks-bootcamp/.venv\u001b[0m\n",
      "\u001b[2mAudited \u001b[1m1 package\u001b[0m \u001b[2min 979ms\u001b[0m\u001b[0m\n"
     ]
    }
   ],
   "source": [
    "%%sh\n",
    "uv pip install kedro-mlflow"
   ]
  },
  {
   "cell_type": "markdown",
   "metadata": {
    "application/vnd.databricks.v1+cell": {
     "cellMetadata": {},
     "inputWidgets": {},
     "nuid": "3dd745b5-e7e3-4f02-8dad-738d19e27eed",
     "showTitle": false,
     "tableResultSettingsMap": {},
     "title": ""
    }
   },
   "source": [
    "`kedro-mlflow` can take [configuration](https://kedro-mlflow.readthedocs.io/en/0.14.4/source/03_experiment_tracking/01_experiment_tracking/01_configuration.html) from `conf/<environment>/mlflow.yml`, which can be used to configure the experiment name:\n",
    "\n",
    "- For **notebook** experiments, you have to configure the experiment name to match the full path of the notebook.\n",
    "- For **workspace** experiments, the experiment name would be the full path to the experiments folder in the workspace.\n",
    "\n",
    "To this end, let's add some OmegaConf syntax to `mlflow.yml` so that the experiment name can be specified from the outside, while taking a default value if not present:"
   ]
  },
  {
   "cell_type": "code",
   "execution_count": 0,
   "metadata": {
    "application/vnd.databricks.v1+cell": {
     "cellMetadata": {
      "byteLimit": 2048000,
      "rowLimit": 10000
     },
     "inputWidgets": {},
     "nuid": "3b3bf303-18a8-4314-b5ed-74f2def4eea2",
     "showTitle": false,
     "tableResultSettingsMap": {},
     "title": ""
    }
   },
   "outputs": [],
   "source": [
    "%%writefile rocketfuel/conf/databricks/mlflow.yml\n",
    "tracking:\n",
    "  experiment:\n",
    "    name: ${runtime_params:mlflow_experiment_name, ${kedro_root:}}"
   ]
  },
  {
   "cell_type": "markdown",
   "metadata": {
    "application/vnd.databricks.v1+cell": {
     "cellMetadata": {},
     "inputWidgets": {},
     "nuid": "23f797c8-4da5-48ed-812e-ac6b3f63b8d8",
     "showTitle": false,
     "tableResultSettingsMap": {},
     "title": ""
    }
   },
   "source": [
    "Let's try to set up a **notebook** experiment. For this, extract the notebook path:"
   ]
  },
  {
   "cell_type": "code",
   "execution_count": 0,
   "metadata": {
    "application/vnd.databricks.v1+cell": {
     "cellMetadata": {
      "byteLimit": 2048000,
      "rowLimit": 10000
     },
     "inputWidgets": {},
     "nuid": "285d2a47-4c2d-46e2-a020-38026dcd4288",
     "showTitle": false,
     "tableResultSettingsMap": {},
     "title": ""
    }
   },
   "outputs": [],
   "source": [
    "notebook_path = dbutils.entry_point.getDbutils().notebook().getContext().notebookPath().get()\n",
    "notebook_path"
   ]
  },
  {
   "cell_type": "markdown",
   "metadata": {
    "application/vnd.databricks.v1+cell": {
     "cellMetadata": {},
     "inputWidgets": {},
     "nuid": "712b00a6-6e06-46b2-b383-fc38bed5ed88",
     "showTitle": false,
     "tableResultSettingsMap": {},
     "title": ""
    }
   },
   "source": [
    "And pass that as a runtime parameter to specify the experiment name:\n",
    "\n",
    "_Note: Extra params cannot contain spaces when passed to `%reload_kedro`, see [this issue](https://github.com/kedro-org/kedro/issues/4813)_"
   ]
  },
  {
   "cell_type": "code",
   "execution_count": 0,
   "metadata": {
    "application/vnd.databricks.v1+cell": {
     "cellMetadata": {
      "byteLimit": 2048000,
      "rowLimit": 10000
     },
     "inputWidgets": {},
     "nuid": "b869d0ed-84a1-48a2-9ca0-e303c14e09ad",
     "showTitle": false,
     "tableResultSettingsMap": {},
     "title": ""
    }
   },
   "outputs": [],
   "source": [
    "%reload_kedro rocketfuel --env databricks --params mlflow_experiment_name=$notebook_path"
   ]
  },
  {
   "cell_type": "markdown",
   "metadata": {
    "application/vnd.databricks.v1+cell": {
     "cellMetadata": {},
     "inputWidgets": {},
     "nuid": "6cd9ed83-fe75-40c4-97a1-bf4e48c75605",
     "showTitle": false,
     "tableResultSettingsMap": {},
     "title": ""
    }
   },
   "source": [
    "Now, every time a Kedro pipeline is run, it's logged as al MLflow run:"
   ]
  },
  {
   "cell_type": "code",
   "execution_count": 0,
   "metadata": {
    "application/vnd.databricks.v1+cell": {
     "cellMetadata": {
      "byteLimit": 2048000,
      "rowLimit": 10000
     },
     "inputWidgets": {},
     "nuid": "164eeb73-3ca4-4358-9537-e9118b22bd32",
     "showTitle": false,
     "tableResultSettingsMap": {},
     "title": ""
    }
   },
   "outputs": [],
   "source": [
    "session.run(\"load_data\")"
   ]
  },
  {
   "cell_type": "markdown",
   "metadata": {
    "application/vnd.databricks.v1+cell": {
     "cellMetadata": {},
     "inputWidgets": {},
     "nuid": "f7ebedd2-1158-467c-98a6-da60d36b8ea7",
     "showTitle": false,
     "tableResultSettingsMap": {},
     "title": ""
    }
   },
   "source": [
    "![MLflow run corresponding to a Kedro run on Databricks](./kedro-databricks-mlflow-run.png)"
   ]
  },
  {
   "cell_type": "markdown",
   "metadata": {
    "application/vnd.databricks.v1+cell": {
     "cellMetadata": {},
     "inputWidgets": {},
     "nuid": "356e8174-e503-4ff2-ab1f-5edf8b8303ec",
     "showTitle": false,
     "tableResultSettingsMap": {},
     "title": ""
    }
   },
   "source": [
    "### Log artifacts as MLflow models in the Unity Catalog"
   ]
  },
  {
   "cell_type": "code",
   "execution_count": 0,
   "metadata": {
    "application/vnd.databricks.v1+cell": {
     "cellMetadata": {
      "byteLimit": 2048000,
      "implicitDf": true,
      "rowLimit": 10000
     },
     "inputWidgets": {},
     "nuid": "f96631b7-582f-4217-a120-d292ff7d6ed9",
     "showTitle": false,
     "tableResultSettingsMap": {},
     "title": ""
    }
   },
   "outputs": [],
   "source": [
    "%sql\n",
    "SHOW CATALOGS;"
   ]
  },
  {
   "cell_type": "code",
   "execution_count": 0,
   "metadata": {
    "application/vnd.databricks.v1+cell": {
     "cellMetadata": {
      "byteLimit": 2048000,
      "rowLimit": 10000
     },
     "inputWidgets": {},
     "nuid": "a20ae711-0b76-435d-a3ff-3d1903afe48f",
     "showTitle": false,
     "tableResultSettingsMap": {},
     "title": ""
    }
   },
   "outputs": [],
   "source": [
    "# Test code\n",
    "from sklearn import datasets\n",
    "from sklearn.ensemble import RandomForestClassifier\n",
    "\n",
    "import mlflow\n",
    "\n",
    "# Train a sklearn model on the iris dataset\n",
    "X, y = datasets.load_iris(return_X_y=True, as_frame=True)\n",
    "clf = RandomForestClassifier(max_depth=7)\n",
    "clf.fit(X, y)\n",
    "\n",
    "# Note that the UC model name follows the pattern\n",
    "# <catalog_name>.<schema_name>.<model_name>, corresponding to\n",
    "# the catalog, schema, and registered model name\n",
    "# in Unity Catalog under which to create the version\n",
    "# The registered model will be created if it doesn't already exist\n",
    "autolog_run = mlflow.last_active_run()\n",
    "model_uri = \"runs:/{}/model\".format(autolog_run.info.run_id)  # NOTE: Can this be automatic?\n",
    "mlflow.register_model(model_uri, \"aza-databricks-b9b7aae-catalog.rocketfuel.iris_model\")  # NOTE: Can this be automatic?"
   ]
  },
  {
   "cell_type": "code",
   "execution_count": 0,
   "metadata": {
    "application/vnd.databricks.v1+cell": {
     "cellMetadata": {
      "byteLimit": 2048000,
      "rowLimit": 10000
     },
     "inputWidgets": {},
     "nuid": "a9f0bc9c-1ccd-4dee-b8c4-d4f24305eaac",
     "showTitle": false,
     "tableResultSettingsMap": {},
     "title": ""
    }
   },
   "outputs": [],
   "source": [
    "session.run(\"__default__\")"
   ]
  },
  {
   "cell_type": "code",
   "execution_count": 0,
   "metadata": {
    "application/vnd.databricks.v1+cell": {
     "cellMetadata": {},
     "inputWidgets": {},
     "nuid": "ae964514-9785-4599-b8dc-bed9f8159489",
     "showTitle": false,
     "tableResultSettingsMap": {},
     "title": ""
    }
   },
   "outputs": [],
   "source": []
  },
  {
   "cell_type": "markdown",
   "metadata": {},
   "source": [
    "### Register models using the Databricks Unity Catalog"
   ]
  },
  {
   "cell_type": "markdown",
   "metadata": {},
   "source": [
    "_**Note**: fsspec uses the DBFS API, which is not compatible with Unity Catalog according to https://github.com/fsspec/filesystem_spec/issues/1656_"
   ]
  },
  {
   "cell_type": "code",
   "execution_count": null,
   "metadata": {},
   "outputs": [],
   "source": []
  }
 ],
 "metadata": {
  "application/vnd.databricks.v1+notebook": {
   "computePreferences": null,
   "dashboards": [],
   "environmentMetadata": {
    "base_environment": "",
    "environment_version": "2"
   },
   "inputWidgetPreferences": null,
   "language": "python",
   "notebookMetadata": {
    "mostRecentlyExecutedCommandWithImplicitDF": {
     "commandId": 5924746010652874,
     "dataframes": [
      "_sqldf"
     ]
    },
    "pythonIndentUnit": 4
   },
   "notebookName": "02_2-Kedro-on-Databricks-part-2",
   "widgets": {}
  },
  "kernelspec": {
   "display_name": ".venv",
   "language": "python",
   "name": "python3"
  },
  "language_info": {
   "codemirror_mode": {
    "name": "ipython",
    "version": 3
   },
   "file_extension": ".py",
   "mimetype": "text/x-python",
   "name": "python",
   "nbconvert_exporter": "python",
   "pygments_lexer": "ipython3",
   "version": "3.11.10"
  }
 },
 "nbformat": 4,
 "nbformat_minor": 0
}
