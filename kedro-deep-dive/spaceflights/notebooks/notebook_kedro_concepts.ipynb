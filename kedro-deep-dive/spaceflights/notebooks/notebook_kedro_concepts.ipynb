{
 "cells": [
  {
   "cell_type": "markdown",
   "metadata": {},
   "source": [
    "## DataCatalog"
   ]
  },
  {
   "cell_type": "code",
   "execution_count": 28,
   "metadata": {},
   "outputs": [],
   "source": [
    "from kedro.io import KedroDataCatalog"
   ]
  },
  {
   "cell_type": "markdown",
   "metadata": {},
   "source": [
    "The [`kedro-datasets`](https://github.com/kedro-org/kedro-plugins/tree/main/kedro-datasets) package offers connectors to load data from different formats, such as CSV, Excel, Parquet, and more. "
   ]
  },
  {
   "cell_type": "code",
   "execution_count": 29,
   "metadata": {},
   "outputs": [],
   "source": [
    "# Define the configuration details for the companies, shuttles, and reviews datasets as a dictionary\n",
    "\n",
    "catalog_config = {\n",
    "    \"companies\": {\n",
    "        \"type\": \"pandas.CSVDataset\",\n",
    "        \"filepath\": \"../data/01_raw/companies.csv\",\n",
    "    },\n",
    "    \"shuttles\": {\n",
    "        \"type\": \"pandas.ExcelDataset\",\n",
    "        \"filepath\": \"../data/01_raw/shuttles.xlsx\",\n",
    "    },\n",
    "    \"reviews\": {\n",
    "        \"type\": \"pandas.CSVDataset\",\n",
    "        \"filepath\": \"../data/01_raw/reviews.csv\",\n",
    "    }\n",
    "}"
   ]
  },
  {
   "cell_type": "code",
   "execution_count": 30,
   "metadata": {},
   "outputs": [],
   "source": [
    "catalog = KedroDataCatalog.from_config(catalog_config)"
   ]
  },
  {
   "cell_type": "code",
   "execution_count": 31,
   "metadata": {},
   "outputs": [
    {
     "data": {
      "text/plain": [
       "['companies', 'shuttles', 'reviews']"
      ]
     },
     "execution_count": 31,
     "metadata": {},
     "output_type": "execute_result"
    }
   ],
   "source": [
    "catalog.list()"
   ]
  },
  {
   "cell_type": "code",
   "execution_count": 38,
   "metadata": {},
   "outputs": [
    {
     "data": {
      "text/html": [
       "<div>\n",
       "<style scoped>\n",
       "    .dataframe tbody tr th:only-of-type {\n",
       "        vertical-align: middle;\n",
       "    }\n",
       "\n",
       "    .dataframe tbody tr th {\n",
       "        vertical-align: top;\n",
       "    }\n",
       "\n",
       "    .dataframe thead th {\n",
       "        text-align: right;\n",
       "    }\n",
       "</style>\n",
       "<table border=\"1\" class=\"dataframe\">\n",
       "  <thead>\n",
       "    <tr style=\"text-align: right;\">\n",
       "      <th></th>\n",
       "      <th>id</th>\n",
       "      <th>company_rating</th>\n",
       "      <th>company_location</th>\n",
       "      <th>total_fleet_count</th>\n",
       "      <th>iata_approved</th>\n",
       "    </tr>\n",
       "  </thead>\n",
       "  <tbody>\n",
       "    <tr>\n",
       "      <th>0</th>\n",
       "      <td>3888</td>\n",
       "      <td>100%</td>\n",
       "      <td>Isle of Man</td>\n",
       "      <td>1.0</td>\n",
       "      <td>f</td>\n",
       "    </tr>\n",
       "    <tr>\n",
       "      <th>1</th>\n",
       "      <td>46728</td>\n",
       "      <td>100%</td>\n",
       "      <td>NaN</td>\n",
       "      <td>1.0</td>\n",
       "      <td>f</td>\n",
       "    </tr>\n",
       "    <tr>\n",
       "      <th>2</th>\n",
       "      <td>34618</td>\n",
       "      <td>38%</td>\n",
       "      <td>Isle of Man</td>\n",
       "      <td>1.0</td>\n",
       "      <td>f</td>\n",
       "    </tr>\n",
       "    <tr>\n",
       "      <th>3</th>\n",
       "      <td>28619</td>\n",
       "      <td>100%</td>\n",
       "      <td>Bosnia and Herzegovina</td>\n",
       "      <td>1.0</td>\n",
       "      <td>f</td>\n",
       "    </tr>\n",
       "    <tr>\n",
       "      <th>4</th>\n",
       "      <td>8240</td>\n",
       "      <td>NaN</td>\n",
       "      <td>Chile</td>\n",
       "      <td>1.0</td>\n",
       "      <td>t</td>\n",
       "    </tr>\n",
       "  </tbody>\n",
       "</table>\n",
       "</div>"
      ],
      "text/plain": [
       "      id company_rating        company_location  total_fleet_count  \\\n",
       "0   3888           100%             Isle of Man                1.0   \n",
       "1  46728           100%                     NaN                1.0   \n",
       "2  34618            38%             Isle of Man                1.0   \n",
       "3  28619           100%  Bosnia and Herzegovina                1.0   \n",
       "4   8240            NaN                   Chile                1.0   \n",
       "\n",
       "  iata_approved  \n",
       "0             f  \n",
       "1             f  \n",
       "2             f  \n",
       "3             f  \n",
       "4             t  "
      ]
     },
     "execution_count": 38,
     "metadata": {},
     "output_type": "execute_result"
    }
   ],
   "source": [
    "companies = catalog.load(\"companies\")\n",
    "companies.head()"
   ]
  },
  {
   "cell_type": "markdown",
   "metadata": {},
   "source": [
    "### Load and preprocess the data"
   ]
  },
  {
   "cell_type": "code",
   "execution_count": 39,
   "metadata": {},
   "outputs": [],
   "source": [
    "shuttles = catalog.load(\"shuttles\")\n",
    "reviews = catalog.load(\"reviews\")"
   ]
  },
  {
   "cell_type": "code",
   "execution_count": 40,
   "metadata": {},
   "outputs": [],
   "source": [
    "companies[\"iata_approved\"] = companies[\"iata_approved\"] == \"t\"\n",
    "companies[\"company_rating\"] = (companies[\"company_rating\"].str.replace(\"%\", \"\").astype(float) / 100)"
   ]
  },
  {
   "cell_type": "code",
   "execution_count": 41,
   "metadata": {},
   "outputs": [
    {
     "data": {
      "text/html": [
       "<div>\n",
       "<style scoped>\n",
       "    .dataframe tbody tr th:only-of-type {\n",
       "        vertical-align: middle;\n",
       "    }\n",
       "\n",
       "    .dataframe tbody tr th {\n",
       "        vertical-align: top;\n",
       "    }\n",
       "\n",
       "    .dataframe thead th {\n",
       "        text-align: right;\n",
       "    }\n",
       "</style>\n",
       "<table border=\"1\" class=\"dataframe\">\n",
       "  <thead>\n",
       "    <tr style=\"text-align: right;\">\n",
       "      <th></th>\n",
       "      <th>id_x</th>\n",
       "      <th>shuttle_location</th>\n",
       "      <th>shuttle_type</th>\n",
       "      <th>engine_type</th>\n",
       "      <th>engine_vendor</th>\n",
       "      <th>engines</th>\n",
       "      <th>passenger_capacity</th>\n",
       "      <th>cancellation_policy</th>\n",
       "      <th>crew</th>\n",
       "      <th>d_check_complete</th>\n",
       "      <th>...</th>\n",
       "      <th>review_scores_crew</th>\n",
       "      <th>review_scores_location</th>\n",
       "      <th>review_scores_price</th>\n",
       "      <th>number_of_reviews</th>\n",
       "      <th>reviews_per_month</th>\n",
       "      <th>id_y</th>\n",
       "      <th>company_rating</th>\n",
       "      <th>company_location</th>\n",
       "      <th>total_fleet_count</th>\n",
       "      <th>iata_approved</th>\n",
       "    </tr>\n",
       "  </thead>\n",
       "  <tbody>\n",
       "    <tr>\n",
       "      <th>0</th>\n",
       "      <td>45163</td>\n",
       "      <td>Sao Tome and Principe</td>\n",
       "      <td>Type V5</td>\n",
       "      <td>Plasma</td>\n",
       "      <td>ThetaBase Services</td>\n",
       "      <td>2.0</td>\n",
       "      <td>4</td>\n",
       "      <td>moderate</td>\n",
       "      <td>2.0</td>\n",
       "      <td>False</td>\n",
       "      <td>...</td>\n",
       "      <td>9.0</td>\n",
       "      <td>9.0</td>\n",
       "      <td>9.0</td>\n",
       "      <td>26</td>\n",
       "      <td>0.77</td>\n",
       "      <td>32413</td>\n",
       "      <td>1.0</td>\n",
       "      <td>Faroe Islands</td>\n",
       "      <td>1.0</td>\n",
       "      <td>False</td>\n",
       "    </tr>\n",
       "    <tr>\n",
       "      <th>1</th>\n",
       "      <td>49438</td>\n",
       "      <td>Wallis and Futuna</td>\n",
       "      <td>Type V2</td>\n",
       "      <td>Plasma</td>\n",
       "      <td>ThetaBase Services</td>\n",
       "      <td>3.0</td>\n",
       "      <td>5</td>\n",
       "      <td>moderate</td>\n",
       "      <td>3.0</td>\n",
       "      <td>False</td>\n",
       "      <td>...</td>\n",
       "      <td>10.0</td>\n",
       "      <td>10.0</td>\n",
       "      <td>9.0</td>\n",
       "      <td>61</td>\n",
       "      <td>0.62</td>\n",
       "      <td>14122</td>\n",
       "      <td>1.0</td>\n",
       "      <td>Malta</td>\n",
       "      <td>1.0</td>\n",
       "      <td>True</td>\n",
       "    </tr>\n",
       "    <tr>\n",
       "      <th>2</th>\n",
       "      <td>10750</td>\n",
       "      <td>Niue</td>\n",
       "      <td>Type F5</td>\n",
       "      <td>Quantum</td>\n",
       "      <td>ThetaBase Services</td>\n",
       "      <td>1.0</td>\n",
       "      <td>2</td>\n",
       "      <td>strict</td>\n",
       "      <td>1.0</td>\n",
       "      <td>True</td>\n",
       "      <td>...</td>\n",
       "      <td>10.0</td>\n",
       "      <td>10.0</td>\n",
       "      <td>10.0</td>\n",
       "      <td>467</td>\n",
       "      <td>4.66</td>\n",
       "      <td>47761</td>\n",
       "      <td>1.0</td>\n",
       "      <td>Niue</td>\n",
       "      <td>2.0</td>\n",
       "      <td>False</td>\n",
       "    </tr>\n",
       "    <tr>\n",
       "      <th>3</th>\n",
       "      <td>4146</td>\n",
       "      <td>Malta</td>\n",
       "      <td>Type V2</td>\n",
       "      <td>Quantum</td>\n",
       "      <td>ThetaBase Services</td>\n",
       "      <td>1.0</td>\n",
       "      <td>2</td>\n",
       "      <td>moderate</td>\n",
       "      <td>1.0</td>\n",
       "      <td>False</td>\n",
       "      <td>...</td>\n",
       "      <td>10.0</td>\n",
       "      <td>9.0</td>\n",
       "      <td>9.0</td>\n",
       "      <td>318</td>\n",
       "      <td>3.22</td>\n",
       "      <td>26648</td>\n",
       "      <td>1.0</td>\n",
       "      <td>Niue</td>\n",
       "      <td>2.0</td>\n",
       "      <td>True</td>\n",
       "    </tr>\n",
       "    <tr>\n",
       "      <th>4</th>\n",
       "      <td>5067</td>\n",
       "      <td>Malta</td>\n",
       "      <td>Type V2</td>\n",
       "      <td>Plasma</td>\n",
       "      <td>ThetaBase Services</td>\n",
       "      <td>5.0</td>\n",
       "      <td>10</td>\n",
       "      <td>strict</td>\n",
       "      <td>5.0</td>\n",
       "      <td>False</td>\n",
       "      <td>...</td>\n",
       "      <td>10.0</td>\n",
       "      <td>9.0</td>\n",
       "      <td>10.0</td>\n",
       "      <td>22</td>\n",
       "      <td>0.29</td>\n",
       "      <td>26648</td>\n",
       "      <td>1.0</td>\n",
       "      <td>Niue</td>\n",
       "      <td>2.0</td>\n",
       "      <td>True</td>\n",
       "    </tr>\n",
       "  </tbody>\n",
       "</table>\n",
       "<p>5 rows × 28 columns</p>\n",
       "</div>"
      ],
      "text/plain": [
       "    id_x       shuttle_location shuttle_type engine_type       engine_vendor  \\\n",
       "0  45163  Sao Tome and Principe      Type V5      Plasma  ThetaBase Services   \n",
       "1  49438      Wallis and Futuna      Type V2      Plasma  ThetaBase Services   \n",
       "2  10750                   Niue      Type F5     Quantum  ThetaBase Services   \n",
       "3   4146                  Malta      Type V2     Quantum  ThetaBase Services   \n",
       "4   5067                  Malta      Type V2      Plasma  ThetaBase Services   \n",
       "\n",
       "   engines  passenger_capacity cancellation_policy  crew  d_check_complete  \\\n",
       "0      2.0                   4            moderate   2.0             False   \n",
       "1      3.0                   5            moderate   3.0             False   \n",
       "2      1.0                   2              strict   1.0              True   \n",
       "3      1.0                   2            moderate   1.0             False   \n",
       "4      5.0                  10              strict   5.0             False   \n",
       "\n",
       "   ...  review_scores_crew  review_scores_location  review_scores_price  \\\n",
       "0  ...                 9.0                     9.0                  9.0   \n",
       "1  ...                10.0                    10.0                  9.0   \n",
       "2  ...                10.0                    10.0                 10.0   \n",
       "3  ...                10.0                     9.0                  9.0   \n",
       "4  ...                10.0                     9.0                 10.0   \n",
       "\n",
       "   number_of_reviews  reviews_per_month   id_y  company_rating  \\\n",
       "0                 26               0.77  32413             1.0   \n",
       "1                 61               0.62  14122             1.0   \n",
       "2                467               4.66  47761             1.0   \n",
       "3                318               3.22  26648             1.0   \n",
       "4                 22               0.29  26648             1.0   \n",
       "\n",
       "   company_location  total_fleet_count  iata_approved  \n",
       "0     Faroe Islands                1.0          False  \n",
       "1             Malta                1.0           True  \n",
       "2              Niue                2.0          False  \n",
       "3              Niue                2.0           True  \n",
       "4              Niue                2.0           True  \n",
       "\n",
       "[5 rows x 28 columns]"
      ]
     },
     "execution_count": 41,
     "metadata": {},
     "output_type": "execute_result"
    }
   ],
   "source": [
    "shuttles[\"d_check_complete\"] = shuttles[\"d_check_complete\"] == \"t\"\n",
    "shuttles[\"moon_clearance_complete\"] = shuttles[\"moon_clearance_complete\"] == \"t\"\n",
    "shuttles[\"price\"] = (\n",
    "    shuttles[\"price\"].str.replace(\"$\", \"\").str.replace(\",\", \"\").astype(float)\n",
    ")\n",
    "rated_shuttles = shuttles.merge(reviews, left_on=\"id\", right_on=\"shuttle_id\")"
   ]
  },
  {
   "cell_type": "code",
   "execution_count": null,
   "metadata": {},
   "outputs": [],
   "source": [
    "model_input_table = rated_shuttles.merge(companies, left_on=\"company_id\", right_on=\"id\")\n",
    "model_input_table = model_input_table.dropna()\n",
    "model_input_table.head()"
   ]
  },
  {
   "cell_type": "code",
   "execution_count": 42,
   "metadata": {},
   "outputs": [],
   "source": [
    "# Model training\n",
    "from sklearn.model_selection import train_test_split\n",
    "\n",
    "def split_train_test_val(data, target, test_size, random_state):\n",
    "    X_train, X_test, y_train, y_test = train_test_split(data, target, test_size=test_size, random_state=random_state)\n",
    "    return X_train, X_test, y_train, y_test"
   ]
  },
  {
   "cell_type": "code",
   "execution_count": 43,
   "metadata": {},
   "outputs": [],
   "source": [
    "test_size = 0.3\n",
    "random_state = 3"
   ]
  },
  {
   "cell_type": "code",
   "execution_count": 45,
   "metadata": {},
   "outputs": [],
   "source": [
    "data = model_input_table[\n",
    "    [\n",
    "        \"engines\",\n",
    "        \"passenger_capacity\",\n",
    "        \"crew\",\n",
    "        \"d_check_complete\",\n",
    "        \"moon_clearance_complete\",\n",
    "        \"iata_approved\",\n",
    "        \"company_rating\",\n",
    "        \"review_scores_rating\",\n",
    "    ]\n",
    "]\n",
    "target = model_input_table[\"price\"]\n",
    "\n",
    "X_train, X_test, y_train, y_test = split_train_test_val(data, target, test_size, random_state)"
   ]
  },
  {
   "cell_type": "markdown",
   "metadata": {},
   "source": [
    "## OmegaConfigLoader"
   ]
  },
  {
   "cell_type": "markdown",
   "metadata": {},
   "source": [
    "To further simplify things and separate out the configuration from the code, we can use Kedro's `OmegaConfigLoader` to load the configuration from a YAML file. This way, we can easily change the configuration without modifying the code."
   ]
  },
  {
   "cell_type": "markdown",
   "metadata": {},
   "source": [
    "`OmegaConfigLoader` expects the following folder structure for the configuration source directory:\n",
    "```\n",
    "conf/\n",
    "    base/\n",
    "        catalog.yml\n",
    "        parameters.yml\n",
    "    local/\n",
    "        catalog.yml\n",
    "        parameters.yml\n",
    "    logging.yml\n",
    "```"
   ]
  },
  {
   "cell_type": "markdown",
   "metadata": {},
   "source": [
    "To use `OmegaConfigLoader` together with `KedroDataCatalog`, we need to define the dataset configurations in the `catalog.yml` file and parameters in the `parameters.yml` file.\n",
    "\n",
    "In your `conf/base/catalog.yml` file, add the following configuration:\n",
    "```yaml\n",
    "companies:\n",
    "  type: pandas.CSVDataset\n",
    "  filepath: data/companies.csv\n",
    "\n",
    "reviews:\n",
    "  type: pandas.CSVDataset\n",
    "  filepath: data/reviews.csv\n",
    "\n",
    "shuttles:\n",
    "  type: pandas.ExcelDataset\n",
    "  filepath: data/shuttles.xlsx\n",
    "```\n",
    "\n",
    "In your `conf/base/parameters.yml` file, add the following configuration:\n",
    "```yaml\n",
    "# params.yml\n",
    "\n",
    "test_size: 0.3\n",
    "random_state: 3\n",
    "features:\n",
    "    - engines\n",
    "    - passenger_capacity\n",
    "    - crew\n",
    "    - d_check_complete\n",
    "    - moon_clearance_complete\n",
    "    - iata_approved\n",
    "    - company_rating\n",
    "    - review_scores_rating\n",
    "```\n",
    "\n"
   ]
  },
  {
   "cell_type": "code",
   "execution_count": 67,
   "metadata": {},
   "outputs": [],
   "source": [
    "from kedro.config import OmegaConfigLoader"
   ]
  },
  {
   "cell_type": "code",
   "execution_count": 68,
   "metadata": {},
   "outputs": [],
   "source": [
    "config_loader = OmegaConfigLoader(conf_source=\"../conf/\", base_env=\"base\", default_run_env=\"local\")"
   ]
  },
  {
   "cell_type": "code",
   "execution_count": 69,
   "metadata": {},
   "outputs": [],
   "source": [
    "catalog_config = config_loader[\"catalog\"]"
   ]
  },
  {
   "cell_type": "code",
   "execution_count": 70,
   "metadata": {},
   "outputs": [],
   "source": [
    "parameters = config_loader[\"parameters\"]"
   ]
  },
  {
   "cell_type": "code",
   "execution_count": 71,
   "metadata": {},
   "outputs": [],
   "source": [
    "test_size = parameters[\"split_options\"][\"test_size\"]\n",
    "random_state = parameters[\"split_options\"][\"random_state\"]\n",
    "X = model_input_table[parameters[\"feature_engineering\"][\"feature\"][\"static\"]]\n",
    "y = model_input_table[\"price\"]\n",
    "\n",
    "X_train, X_test, y_train, y_test = split_train_test_val(data, target, test_size, random_state)"
   ]
  },
  {
   "cell_type": "markdown",
   "metadata": {},
   "source": [
    "## Use Kedro’s configuration loader to load the Data Catalog\n"
   ]
  },
  {
   "cell_type": "code",
   "execution_count": 73,
   "metadata": {},
   "outputs": [],
   "source": [
    "catalog = KedroDataCatalog.from_config(config_loader[\"catalog\"])\n"
   ]
  },
  {
   "cell_type": "code",
   "execution_count": 74,
   "metadata": {},
   "outputs": [
    {
     "data": {
      "text/plain": [
       "['companies',\n",
       " 'reviews',\n",
       " 'shuttles',\n",
       " 'ingestion.int_typed_companies',\n",
       " 'ingestion.int_typed_shuttles@pandas1',\n",
       " 'ingestion.int_typed_shuttles@pandas2',\n",
       " 'ingestion.int_typed_reviews',\n",
       " 'ingestion.prm_agg_companies',\n",
       " 'prm_shuttle_company_reviews',\n",
       " 'prm_spine_table',\n",
       " 'feature_importance_output',\n",
       " 'model_input_table',\n",
       " 'train_evaluation.linear_regression.regressor',\n",
       " 'train_evaluation.random_forest.regressor',\n",
       " 'reporting.cancellation_policy_breakdown',\n",
       " 'reporting.price_histogram',\n",
       " 'reporting.feature_importance',\n",
       " 'reporting.cancellation_policy_grid',\n",
       " 'reporting.confusion_matrix',\n",
       " 'reporting.top_shuttle_data',\n",
       " 'X_train',\n",
       " 'X_test',\n",
       " 'y_train',\n",
       " 'y_test',\n",
       " 'ingestion.prm_spine_table_clone',\n",
       " 'feature_engineering.feat_static_features',\n",
       " 'feature_engineering.feat_derived_features',\n",
       " 'train_evaluation.random_forest.r2_score',\n",
       " 'train_evaluation.random_forest.experiment_params',\n",
       " 'train_evaluation.linear_regression.r2_score',\n",
       " 'train_evaluation.linear_regression.experiment_params']"
      ]
     },
     "execution_count": 74,
     "metadata": {},
     "output_type": "execute_result"
    }
   ],
   "source": [
    "catalog.list()"
   ]
  },
  {
   "cell_type": "markdown",
   "metadata": {},
   "source": [
    "## Visualise pipelines inside the notebook"
   ]
  },
  {
   "cell_type": "code",
   "execution_count": 6,
   "metadata": {},
   "outputs": [
    {
     "name": "stdout",
     "output_type": "stream",
     "text": [
      "                        \r"
     ]
    },
    {
     "data": {
      "text/html": [
       "<pre style=\"white-space:pre;overflow-x:auto;line-height:normal;font-family:Menlo,'DejaVu Sans Mono',consolas,'Courier New',monospace\"></pre>\n"
      ],
      "text/plain": []
     },
     "metadata": {},
     "output_type": "display_data"
    },
    {
     "data": {
      "text/html": [
       "<iframe srcdoc=\"<!DOCTYPE html>\n",
       "        <html lang='en'>\n",
       "        <head>\n",
       "            <meta charset='UTF-8'>\n",
       "            <meta name='viewport' content='width=device-width, initial-scale=1.0'>\n",
       "            <title>Kedro-Viz</title>\n",
       "        </head>\n",
       "        <body>\n",
       "            <div id=kedro-viz-58940ba1 style='height: 600px'></div>\n",
       "            <script type=&quot;module&quot;>\n",
       "                import { KedroViz, React, createRoot } from 'https://cdn.jsdelivr.net/gh/kedro-org/kedro-viz@main/esm/kedro-viz.production.mjs';\n",
       "                const viz_container = document.getElementById('kedro-viz-58940ba1');\n",
       "\n",
       "                if (createRoot && viz_container) {\n",
       "                    const viz_root = createRoot(viz_container);\n",
       "                    viz_root.render(\n",
       "                        React.createElement(KedroViz, {\n",
       "                            data: {&quot;nodes&quot;: [{&quot;id&quot;: &quot;26b4055d&quot;, &quot;name&quot;: &quot;apply_types_to_companies&quot;, &quot;tags&quot;: [], &quot;pipelines&quot;: [&quot;__default__&quot;], &quot;type&quot;: &quot;task&quot;, &quot;modular_pipelines&quot;: null, &quot;parameters&quot;: {}}, {&quot;id&quot;: &quot;aed46479&quot;, &quot;name&quot;: &quot;companies&quot;, &quot;tags&quot;: [], &quot;pipelines&quot;: [&quot;__default__&quot;], &quot;type&quot;: &quot;data&quot;, &quot;modular_pipelines&quot;: null, &quot;layer&quot;: null, &quot;dataset_type&quot;: &quot;io.memory_dataset.MemoryDataset&quot;, &quot;stats&quot;: null}, {&quot;id&quot;: &quot;2095ec84&quot;, &quot;name&quot;: &quot;int_typed_companies&quot;, &quot;tags&quot;: [], &quot;pipelines&quot;: [&quot;__default__&quot;], &quot;type&quot;: &quot;data&quot;, &quot;modular_pipelines&quot;: null, &quot;layer&quot;: null, &quot;dataset_type&quot;: &quot;io.memory_dataset.MemoryDataset&quot;, &quot;stats&quot;: null}, {&quot;id&quot;: &quot;7717adfd&quot;, &quot;name&quot;: &quot;apply_types_to_reviews&quot;, &quot;tags&quot;: [], &quot;pipelines&quot;: [&quot;__default__&quot;], &quot;type&quot;: &quot;task&quot;, &quot;modular_pipelines&quot;: null, &quot;parameters&quot;: {&quot;typing.reviews.columns_as_floats&quot;: null}}, {&quot;id&quot;: &quot;7b2c6e04&quot;, &quot;name&quot;: &quot;reviews&quot;, &quot;tags&quot;: [], &quot;pipelines&quot;: [&quot;__default__&quot;], &quot;type&quot;: &quot;data&quot;, &quot;modular_pipelines&quot;: null, &quot;layer&quot;: null, &quot;dataset_type&quot;: &quot;io.memory_dataset.MemoryDataset&quot;, &quot;stats&quot;: null}, {&quot;id&quot;: &quot;f76d9c34&quot;, &quot;name&quot;: &quot;params:typing.reviews.columns_as_floats&quot;, &quot;tags&quot;: [], &quot;pipelines&quot;: [&quot;__default__&quot;], &quot;type&quot;: &quot;parameters&quot;, &quot;modular_pipelines&quot;: null, &quot;layer&quot;: null, &quot;dataset_type&quot;: null, &quot;stats&quot;: null}, {&quot;id&quot;: &quot;fb054578&quot;, &quot;name&quot;: &quot;int_typed_reviews&quot;, &quot;tags&quot;: [], &quot;pipelines&quot;: [&quot;__default__&quot;], &quot;type&quot;: &quot;data&quot;, &quot;modular_pipelines&quot;: null, &quot;layer&quot;: null, &quot;dataset_type&quot;: &quot;io.memory_dataset.MemoryDataset&quot;, &quot;stats&quot;: null}, {&quot;id&quot;: &quot;50f8d3eb&quot;, &quot;name&quot;: &quot;apply_types_to_shuttles&quot;, &quot;tags&quot;: [], &quot;pipelines&quot;: [&quot;__default__&quot;], &quot;type&quot;: &quot;task&quot;, &quot;modular_pipelines&quot;: null, &quot;parameters&quot;: {}}, {&quot;id&quot;: &quot;f1d596c2&quot;, &quot;name&quot;: &quot;shuttles&quot;, &quot;tags&quot;: [], &quot;pipelines&quot;: [&quot;__default__&quot;], &quot;type&quot;: &quot;data&quot;, &quot;modular_pipelines&quot;: null, &quot;layer&quot;: null, &quot;dataset_type&quot;: &quot;io.memory_dataset.MemoryDataset&quot;, &quot;stats&quot;: null}, {&quot;id&quot;: &quot;5db12007&quot;, &quot;name&quot;: &quot;int_typed_shuttles&quot;, &quot;tags&quot;: [], &quot;pipelines&quot;: [&quot;__default__&quot;], &quot;type&quot;: &quot;data&quot;, &quot;modular_pipelines&quot;: null, &quot;layer&quot;: null, &quot;dataset_type&quot;: null, &quot;stats&quot;: null}, {&quot;id&quot;: &quot;b5b5250a&quot;, &quot;name&quot;: &quot;aggregate_company_data&quot;, &quot;tags&quot;: [], &quot;pipelines&quot;: [&quot;__default__&quot;], &quot;type&quot;: &quot;task&quot;, &quot;modular_pipelines&quot;: null, &quot;parameters&quot;: {}}, {&quot;id&quot;: &quot;dba7f818&quot;, &quot;name&quot;: &quot;prm_agg_companies&quot;, &quot;tags&quot;: [], &quot;pipelines&quot;: [&quot;__default__&quot;], &quot;type&quot;: &quot;data&quot;, &quot;modular_pipelines&quot;: null, &quot;layer&quot;: null, &quot;dataset_type&quot;: &quot;io.memory_dataset.MemoryDataset&quot;, &quot;stats&quot;: null}, {&quot;id&quot;: &quot;3104d530&quot;, &quot;name&quot;: &quot;combine_step&quot;, &quot;tags&quot;: [], &quot;pipelines&quot;: [&quot;__default__&quot;], &quot;type&quot;: &quot;task&quot;, &quot;modular_pipelines&quot;: null, &quot;parameters&quot;: {}}, {&quot;id&quot;: &quot;9f266f06&quot;, &quot;name&quot;: &quot;prm_shuttle_company_reviews&quot;, &quot;tags&quot;: [], &quot;pipelines&quot;: [&quot;__default__&quot;], &quot;type&quot;: &quot;data&quot;, &quot;modular_pipelines&quot;: null, &quot;layer&quot;: null, &quot;dataset_type&quot;: &quot;io.memory_dataset.MemoryDataset&quot;, &quot;stats&quot;: null}, {&quot;id&quot;: &quot;f063cc82&quot;, &quot;name&quot;: &quot;prm_spine_table&quot;, &quot;tags&quot;: [], &quot;pipelines&quot;: [&quot;__default__&quot;], &quot;type&quot;: &quot;data&quot;, &quot;modular_pipelines&quot;: null, &quot;layer&quot;: null, &quot;dataset_type&quot;: &quot;io.memory_dataset.MemoryDataset&quot;, &quot;stats&quot;: null}, {&quot;id&quot;: &quot;0a98e4b0&quot;, &quot;name&quot;: &quot;prm_spine_table_clone&quot;, &quot;tags&quot;: [], &quot;pipelines&quot;: [&quot;__default__&quot;], &quot;type&quot;: &quot;task&quot;, &quot;modular_pipelines&quot;: null, &quot;parameters&quot;: {}}, {&quot;id&quot;: &quot;3079412e&quot;, &quot;name&quot;: &quot;prm_spine_table_clone&quot;, &quot;tags&quot;: [], &quot;pipelines&quot;: [&quot;__default__&quot;], &quot;type&quot;: &quot;data&quot;, &quot;modular_pipelines&quot;: null, &quot;layer&quot;: null, &quot;dataset_type&quot;: &quot;io.memory_dataset.MemoryDataset&quot;, &quot;stats&quot;: null}], &quot;edges&quot;: [{&quot;source&quot;: &quot;fb054578&quot;, &quot;target&quot;: &quot;3104d530&quot;}, {&quot;source&quot;: &quot;f76d9c34&quot;, &quot;target&quot;: &quot;7717adfd&quot;}, {&quot;source&quot;: &quot;0a98e4b0&quot;, &quot;target&quot;: &quot;3079412e&quot;}, {&quot;source&quot;: &quot;b5b5250a&quot;, &quot;target&quot;: &quot;dba7f818&quot;}, {&quot;source&quot;: &quot;7717adfd&quot;, &quot;target&quot;: &quot;fb054578&quot;}, {&quot;source&quot;: &quot;dba7f818&quot;, &quot;target&quot;: &quot;3104d530&quot;}, {&quot;source&quot;: &quot;3104d530&quot;, &quot;target&quot;: &quot;9f266f06&quot;}, {&quot;source&quot;: &quot;3104d530&quot;, &quot;target&quot;: &quot;f063cc82&quot;}, {&quot;source&quot;: &quot;5db12007&quot;, &quot;target&quot;: &quot;3104d530&quot;}, {&quot;source&quot;: &quot;f1d596c2&quot;, &quot;target&quot;: &quot;50f8d3eb&quot;}, {&quot;source&quot;: &quot;50f8d3eb&quot;, &quot;target&quot;: &quot;5db12007&quot;}, {&quot;source&quot;: &quot;f063cc82&quot;, &quot;target&quot;: &quot;0a98e4b0&quot;}, {&quot;source&quot;: &quot;26b4055d&quot;, &quot;target&quot;: &quot;2095ec84&quot;}, {&quot;source&quot;: &quot;7b2c6e04&quot;, &quot;target&quot;: &quot;7717adfd&quot;}, {&quot;source&quot;: &quot;aed46479&quot;, &quot;target&quot;: &quot;26b4055d&quot;}, {&quot;source&quot;: &quot;2095ec84&quot;, &quot;target&quot;: &quot;b5b5250a&quot;}], &quot;layers&quot;: [], &quot;tags&quot;: [], &quot;pipelines&quot;: [{&quot;id&quot;: &quot;__default__&quot;, &quot;name&quot;: &quot;__default__&quot;}], &quot;modular_pipelines&quot;: {&quot;__root__&quot;: {&quot;id&quot;: &quot;__root__&quot;, &quot;name&quot;: &quot;__root__&quot;, &quot;inputs&quot;: [], &quot;outputs&quot;: [], &quot;children&quot;: [{&quot;id&quot;: &quot;aed46479&quot;, &quot;type&quot;: &quot;data&quot;}, {&quot;id&quot;: &quot;5db12007&quot;, &quot;type&quot;: &quot;data&quot;}, {&quot;id&quot;: &quot;3079412e&quot;, &quot;type&quot;: &quot;data&quot;}, {&quot;id&quot;: &quot;50f8d3eb&quot;, &quot;type&quot;: &quot;task&quot;}, {&quot;id&quot;: &quot;26b4055d&quot;, &quot;type&quot;: &quot;task&quot;}, {&quot;id&quot;: &quot;7b2c6e04&quot;, &quot;type&quot;: &quot;data&quot;}, {&quot;id&quot;: &quot;2095ec84&quot;, &quot;type&quot;: &quot;data&quot;}, {&quot;id&quot;: &quot;f063cc82&quot;, &quot;type&quot;: &quot;data&quot;}, {&quot;id&quot;: &quot;3104d530&quot;, &quot;type&quot;: &quot;task&quot;}, {&quot;id&quot;: &quot;9f266f06&quot;, &quot;type&quot;: &quot;data&quot;}, {&quot;id&quot;: &quot;fb054578&quot;, &quot;type&quot;: &quot;data&quot;}, {&quot;id&quot;: &quot;f76d9c34&quot;, &quot;type&quot;: &quot;parameters&quot;}, {&quot;id&quot;: &quot;b5b5250a&quot;, &quot;type&quot;: &quot;task&quot;}, {&quot;id&quot;: &quot;f76d9c34&quot;, &quot;type&quot;: &quot;data&quot;}, {&quot;id&quot;: &quot;0a98e4b0&quot;, &quot;type&quot;: &quot;task&quot;}, {&quot;id&quot;: &quot;7717adfd&quot;, &quot;type&quot;: &quot;task&quot;}, {&quot;id&quot;: &quot;dba7f818&quot;, &quot;type&quot;: &quot;data&quot;}, {&quot;id&quot;: &quot;f1d596c2&quot;, &quot;type&quot;: &quot;data&quot;}]}}, &quot;selected_pipeline&quot;: &quot;__default__&quot;},\n",
       "                            options: {&quot;display&quot;: {&quot;expandPipelinesBtn&quot;: false, &quot;globalNavigation&quot;: false, &quot;exportBtn&quot;: false, &quot;labelBtn&quot;: false, &quot;layerBtn&quot;: false, &quot;metadataPanel&quot;: false, &quot;miniMap&quot;: false, &quot;sidebar&quot;: false, &quot;zoomToolbar&quot;: false}, &quot;expandAllPipelines&quot;: false, &quot;behaviour&quot;: {&quot;reFocus&quot;: false}, &quot;theme&quot;: &quot;dark&quot;, &quot;width&quot;: &quot;100%&quot;, &quot;height&quot;: &quot;600px&quot;}\n",
       "                        })\n",
       "                    );\n",
       "                }\n",
       "            </script>\n",
       "        </body>\n",
       "        </html>\"  style=\"width:100%; height:600px; border:none;\" sandbox=\"allow-scripts\"></iframe>"
      ],
      "text/plain": [
       "\u001b[1m<\u001b[0m\u001b[1;95mIPython.core.display.HTML\u001b[0m\u001b[39m object\u001b[0m\u001b[1m>\u001b[0m"
      ]
     },
     "metadata": {},
     "output_type": "display_data"
    }
   ],
   "source": [
    "from kedro.pipeline import pipeline, node\n",
    "\n",
    "from typing import List, Tuple\n",
    "\n",
    "import numpy as np\n",
    "import pandas as pd\n",
    "\n",
    "\n",
    "def _is_true(column: pd.Series) -> pd.Series:\n",
    "    return column == \"t\"\n",
    "\n",
    "\n",
    "def apply_types_to_companies(companies: pd.DataFrame) -> pd.DataFrame:\n",
    "    companies[\"iata_approved\"] = _is_true(companies[\"iata_approved\"])\n",
    "    companies[\"company_rating\"] = (\n",
    "        companies[\"company_rating\"].str.replace(\"%\", \"\").astype(float) / 100\n",
    "    )\n",
    "    return companies\n",
    "\n",
    "\n",
    "def apply_types_to_shuttles(shuttles: pd.DataFrame) -> pd.DataFrame:\n",
    "    shuttles[\"d_check_complete\"] = _is_true(shuttles[\"d_check_complete\"])\n",
    "    shuttles[\"moon_clearance_complete\"] = _is_true(shuttles[\"moon_clearance_complete\"])\n",
    "    shuttles[\"price\"] = (\n",
    "        shuttles[\"price\"].str.replace(r\"[\\$,]\", \"\", regex=True).astype(float)\n",
    "    )\n",
    "    return shuttles\n",
    "\n",
    "\n",
    "def apply_types_to_reviews(\n",
    "    reviews: pd.DataFrame, columns_as_floats: List[str]\n",
    ") -> pd.DataFrame:\n",
    "    non_null_reviews = reviews.dropna()\n",
    "\n",
    "    # Retrieve columns to type\n",
    "    all_columns_set = set(non_null_reviews.columns)\n",
    "    float_columns_set = set(columns_as_floats)\n",
    "    integer_columns_set = all_columns_set - float_columns_set\n",
    "\n",
    "    # Prepare dictionaries to apply\n",
    "    new_integer_columns = {c: int for c in integer_columns_set}\n",
    "    new_float_columns = {c: float for c in float_columns_set}\n",
    "    new_dtypes = {**new_integer_columns, **new_float_columns}  # merge dictionaries\n",
    "\n",
    "    # Apply types\n",
    "    typed_reviews = non_null_reviews.astype(new_dtypes)\n",
    "\n",
    "    # With add ID column to review table\n",
    "    return typed_reviews.assign(review_id=lambda df: df.index + 1)\n",
    "\n",
    "\n",
    "def aggregate_company_data(typed_companies: pd.DataFrame) -> pd.DataFrame:\n",
    "    working_companies = typed_companies.groupby([\"id\"]).agg(\n",
    "        {\n",
    "            \"company_rating\": \"mean\",\n",
    "            \"company_location\": lambda x: list(set(x))[0],  # Take first item\n",
    "            \"total_fleet_count\": \"max\",\n",
    "            \"iata_approved\": any,\n",
    "        }\n",
    "    )\n",
    "    return working_companies.reset_index().rename(columns={\"id\": \"company_id\"})\n",
    "\n",
    "\n",
    "def combine_shuttle_level_information(\n",
    "    shuttles: pd.DataFrame, companies: pd.DataFrame, reviews: pd.DataFrame\n",
    ") -> Tuple[pd.DataFrame, pd.DataFrame]:\n",
    "   \n",
    "    rated_shuttles = shuttles.rename(columns={\"id\": \"shuttle_id\"}).merge(\n",
    "        reviews, on=\"shuttle_id\", how=\"inner\"\n",
    "    )\n",
    "    combined_table = rated_shuttles.merge(companies, on=\"company_id\", how=\"inner\")\n",
    "\n",
    "    working_table = combined_table.dropna(how=\"any\")\n",
    "    id_columns = [x for x in working_table.columns if x.endswith(\"id\")]\n",
    "    return working_table, working_table[id_columns]\n",
    "\n",
    "\n",
    "apply_types_to_companies = node(func=apply_types_to_companies, inputs=\"companies\", outputs=\"int_typed_companies\")\n",
    "apply_types_to_shuttles = node(func=apply_types_to_shuttles, inputs=\"shuttles\", outputs=\"int_typed_shuttles@pandas1\")\n",
    "apply_types_to_reviews = node(func=apply_types_to_reviews, inputs=[\"reviews\", \"params:typing.reviews.columns_as_floats\"], outputs=\"int_typed_reviews\")\n",
    "company_agg = node(func=aggregate_company_data, inputs=\"int_typed_companies\", outputs=\"prm_agg_companies\")\n",
    "combine_step = node(func=combine_shuttle_level_information, inputs={\"shuttles\": \"int_typed_shuttles@pandas2\", \"reviews\": \"int_typed_reviews\",\"companies\": \"prm_agg_companies\",}, outputs=[\"prm_shuttle_company_reviews\", \"prm_spine_table\"])\n",
    "prm_spine_table_clone = node(func=lambda x: x, inputs=\"prm_spine_table\", outputs=\"prm_spine_table_clone\",\n",
    "                name=\"prm_spine_table_clone\",\n",
    "            )\n",
    "\n",
    "dummy_pipe = pipeline([apply_types_to_companies, apply_types_to_shuttles, apply_types_to_reviews, company_agg, combine_step, prm_spine_table_clone])\n",
    "\n",
    "from kedro_viz.integrations.notebook import NotebookVisualizer\n",
    "NotebookVisualizer(dummy_pipe).show()"
   ]
  },
  {
   "cell_type": "code",
   "execution_count": null,
   "metadata": {},
   "outputs": [],
   "source": []
  }
 ],
 "metadata": {
  "kernelspec": {
   "display_name": "Python 3 (ipykernel)",
   "language": "python",
   "name": "python3"
  },
  "language_info": {
   "codemirror_mode": {
    "name": "ipython",
    "version": 3
   },
   "file_extension": ".py",
   "mimetype": "text/x-python",
   "name": "python",
   "nbconvert_exporter": "python",
   "pygments_lexer": "ipython3",
   "version": "3.11.5"
  }
 },
 "nbformat": 4,
 "nbformat_minor": 4
}
